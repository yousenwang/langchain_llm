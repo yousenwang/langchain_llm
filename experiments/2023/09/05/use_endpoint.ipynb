{
 "cells": [
  {
   "cell_type": "code",
   "execution_count": 15,
   "id": "5911c61b-4510-4877-9b04-0465ddd7dc7f",
   "metadata": {},
   "outputs": [],
   "source": [
    "import requests\n",
    "\n",
    "r = requests.post(\n",
    "    url='http://127.0.0.1:8000',\n",
    "    json = {\n",
    "        \"user_input\": \"自动核准后还需要进行单号提交吗?\",\n",
    "    }\n",
    "    )\n",
    "# r = requests.get('http://127.0.0.1:8000')\n",
    "\n",
    "# print(r.content)"
   ]
  },
  {
   "cell_type": "code",
   "execution_count": 16,
   "id": "f2ccfa46-d29a-4c8d-a0c7-675ca6cf4e3a",
   "metadata": {},
   "outputs": [],
   "source": [
    "import json\n",
    "binary_data = r.content"
   ]
  },
  {
   "cell_type": "code",
   "execution_count": 17,
   "id": "c77a2471-1eb4-42ec-bead-e03c702bb3b5",
   "metadata": {},
   "outputs": [],
   "source": [
    "decoded_data = binary_data.decode('utf-8')\n",
    "normal_dict = json.loads(decoded_data)"
   ]
  },
  {
   "cell_type": "code",
   "execution_count": 18,
   "id": "eb22b407-4451-4592-ae3a-9b748c500039",
   "metadata": {},
   "outputs": [
    {
     "data": {
      "text/plain": [
       "'{\"user_input\":\"自动核准后还需要进行单号提交吗?\",\"relavant_docs\":[{\"page_content\":\"2. 单号分配  \\\\n厂家保修管理 后台->保修作业 ->单号分配 , 勾选送修项目 , 点击【分配 Ware no. 】分\\\\n配单号,同客户同申请人的送修清单 , 可一次分配 Ware no.;  \\\\n \\\\n勾选送修项目 , 点击【指派 Ware no.】, 系统根据产品型号、退运原因、维修地址、服\\\\n务类型等对产品分类并分配  Ware no.;  \\\\n备注 : 若客户需使用自主 RMA no.，亦可在【自定单号】添加客户指定 RMA no.\",\"source\":\"chinese_pdf/保修管理-廠家sop-repair(去圖標).pdf\",\"page\":21},{\"page_content\":\"点击【上传附件】下拉框 , 选择【下载模板】填写附件相关信息 , 【批量上传】将编辑好\\\\n的文档上传 , 完成批量新增附件 . \\\\n \\\\n保修作业  \\\\n1. 保修申请 （手动核准） \\\\n若厂家在客户清单中 , 对应客户已设置【自动核准】功能 ; 客户进行保修申请后 , 平台\\\\n依保修条件进行自动核准并分配 ware no.; 若未设定自动核准 , 即可通过手动核准进行\\\\n作业 ; 手动核准作业如下 : \\\\n客户进行保修申请后 , 厂家后台保修申请方有数据 ; \\\\n厂家保修管理 后台 ->保修作业 ->保修申请 , 选择对应送修项目 , 点击按钮进入送修信息 ; \\\\n \\\\n点击可查看客户信息 , 点击【接受】进行核准 , 点击【拒绝】进行驳回 ， 需填写拒绝\\\\n原因; 当客户送修系统判定不可接受时 (即不符合厂家保修设定 ), 点击可变更核准状\\\\n态, 选择保修设定后接受或者拒绝 ;\",\"source\":\"chinese_pdf/保修管理-廠家sop-repair(去圖標).pdf\",\"page\":20},{\"page_content\":\"3. 单号提交  \\\\n厂家保修管理 后台->保修作业 ->单号提交 , 点击按钮, 勾选对应栏位 , 点击【确定】\\\\n可移动或合并 Ware no.分组(同客户同申请人可移动至同一组内 ); 点击提交单号 , \\\\nware no.即生成. \\\\n \\\\n4. 进度追踪  \\\\n4.1 查看保修进度  \\\\n厂家保修管理 后台->保修作业 ->进度追踪 , 点击【保修单号】 , 点击进入送修信息 ; 可\\\\n查看保修及物流进度 ; 【查看报告】 查看服务中心的维修报告 ; 点击可查看该笔 SN的\\\\n产品详情、保修详情、物流资讯和服务进度 .\",\"source\":\"chinese_pdf/保修管理-廠家sop-repair(去圖標).pdf\",\"page\":22}]}'"
      ]
     },
     "execution_count": 18,
     "metadata": {},
     "output_type": "execute_result"
    }
   ],
   "source": [
    "decoded_data"
   ]
  },
  {
   "cell_type": "code",
   "execution_count": 19,
   "id": "7f60a06d-8ef0-4220-884a-02f539702cd3",
   "metadata": {},
   "outputs": [
    {
     "data": {
      "text/plain": [
       "{'user_input': '自动核准后还需要进行单号提交吗?',\n",
       " 'relavant_docs': [{'page_content': '2. 单号分配  \\n厂家保修管理 后台->保修作业 ->单号分配 , 勾选送修项目 , 点击【分配 Ware no. 】分\\n配单号,同客户同申请人的送修清单 , 可一次分配 Ware no.;  \\n \\n勾选送修项目 , 点击【指派 Ware no.】, 系统根据产品型号、退运原因、维修地址、服\\n务类型等对产品分类并分配  Ware no.;  \\n备注 : 若客户需使用自主 RMA no.，亦可在【自定单号】添加客户指定 RMA no.',\n",
       "   'source': 'chinese_pdf/保修管理-廠家sop-repair(去圖標).pdf',\n",
       "   'page': 21},\n",
       "  {'page_content': '点击【上传附件】下拉框 , 选择【下载模板】填写附件相关信息 , 【批量上传】将编辑好\\n的文档上传 , 完成批量新增附件 . \\n \\n保修作业  \\n1. 保修申请 （手动核准） \\n若厂家在客户清单中 , 对应客户已设置【自动核准】功能 ; 客户进行保修申请后 , 平台\\n依保修条件进行自动核准并分配 ware no.; 若未设定自动核准 , 即可通过手动核准进行\\n作业 ; 手动核准作业如下 : \\n客户进行保修申请后 , 厂家后台保修申请方有数据 ; \\n厂家保修管理 后台 ->保修作业 ->保修申请 , 选择对应送修项目 , 点击按钮进入送修信息 ; \\n \\n点击可查看客户信息 , 点击【接受】进行核准 , 点击【拒绝】进行驳回 ， 需填写拒绝\\n原因; 当客户送修系统判定不可接受时 (即不符合厂家保修设定 ), 点击可变更核准状\\n态, 选择保修设定后接受或者拒绝 ;',\n",
       "   'source': 'chinese_pdf/保修管理-廠家sop-repair(去圖標).pdf',\n",
       "   'page': 20},\n",
       "  {'page_content': '3. 单号提交  \\n厂家保修管理 后台->保修作业 ->单号提交 , 点击按钮, 勾选对应栏位 , 点击【确定】\\n可移动或合并 Ware no.分组(同客户同申请人可移动至同一组内 ); 点击提交单号 , \\nware no.即生成. \\n \\n4. 进度追踪  \\n4.1 查看保修进度  \\n厂家保修管理 后台->保修作业 ->进度追踪 , 点击【保修单号】 , 点击进入送修信息 ; 可\\n查看保修及物流进度 ; 【查看报告】 查看服务中心的维修报告 ; 点击可查看该笔 SN的\\n产品详情、保修详情、物流资讯和服务进度 .',\n",
       "   'source': 'chinese_pdf/保修管理-廠家sop-repair(去圖標).pdf',\n",
       "   'page': 22}]}"
      ]
     },
     "execution_count": 19,
     "metadata": {},
     "output_type": "execute_result"
    }
   ],
   "source": [
    "normal_dict"
   ]
  },
  {
   "cell_type": "code",
   "execution_count": 20,
   "id": "ecf271b6-bbeb-4418-9ffc-98cf4cd1a328",
   "metadata": {},
   "outputs": [],
   "source": [
    "\n",
    "r1 = requests.post(\n",
    "    url='http://127.0.0.1:8000',\n",
    "    json = {\n",
    "        \"user_input\": \"自动核准后还需要进行单号提交吗?\",\n",
    "        \"k\": 1\n",
    "    }\n",
    "    )\n",
    "# r = requests.get('http://127.0.0.1:8000')\n",
    "\n",
    "# print(r.content)"
   ]
  },
  {
   "cell_type": "code",
   "execution_count": 24,
   "id": "fd034e3e-7064-4765-bfb9-a7194f5d76ee",
   "metadata": {},
   "outputs": [],
   "source": [
    "import json\n",
    "binary_data = r1.content\n",
    "decoded_data = binary_data.decode('utf-8')\n",
    "normal_dict = json.loads(decoded_data)"
   ]
  },
  {
   "cell_type": "code",
   "execution_count": 25,
   "id": "020a14b2-1d02-4cb7-9bde-58e3e3b7594c",
   "metadata": {},
   "outputs": [
    {
     "data": {
      "text/plain": [
       "'{\"user_input\":\"自动核准后还需要进行单号提交吗?\",\"relavant_docs\":[{\"page_content\":\"2. 单号分配  \\\\n厂家保修管理 后台->保修作业 ->单号分配 , 勾选送修项目 , 点击【分配 Ware no. 】分\\\\n配单号,同客户同申请人的送修清单 , 可一次分配 Ware no.;  \\\\n \\\\n勾选送修项目 , 点击【指派 Ware no.】, 系统根据产品型号、退运原因、维修地址、服\\\\n务类型等对产品分类并分配  Ware no.;  \\\\n备注 : 若客户需使用自主 RMA no.，亦可在【自定单号】添加客户指定 RMA no.\",\"source\":\"chinese_pdf/保修管理-廠家sop-repair(去圖標).pdf\",\"page\":21}]}'"
      ]
     },
     "execution_count": 25,
     "metadata": {},
     "output_type": "execute_result"
    }
   ],
   "source": [
    "decoded_data"
   ]
  },
  {
   "cell_type": "code",
   "execution_count": 26,
   "id": "0e533765-6de1-45f0-8b3b-076ad79d9dcb",
   "metadata": {},
   "outputs": [
    {
     "data": {
      "text/plain": [
       "{'user_input': '自动核准后还需要进行单号提交吗?',\n",
       " 'relavant_docs': [{'page_content': '2. 单号分配  \\n厂家保修管理 后台->保修作业 ->单号分配 , 勾选送修项目 , 点击【分配 Ware no. 】分\\n配单号,同客户同申请人的送修清单 , 可一次分配 Ware no.;  \\n \\n勾选送修项目 , 点击【指派 Ware no.】, 系统根据产品型号、退运原因、维修地址、服\\n务类型等对产品分类并分配  Ware no.;  \\n备注 : 若客户需使用自主 RMA no.，亦可在【自定单号】添加客户指定 RMA no.',\n",
       "   'source': 'chinese_pdf/保修管理-廠家sop-repair(去圖標).pdf',\n",
       "   'page': 21}]}"
      ]
     },
     "execution_count": 26,
     "metadata": {},
     "output_type": "execute_result"
    }
   ],
   "source": [
    "normal_dict"
   ]
  },
  {
   "cell_type": "code",
   "execution_count": null,
   "id": "882f74d8-47b9-4595-9a20-cf107d8500bb",
   "metadata": {},
   "outputs": [],
   "source": []
  }
 ],
 "metadata": {
  "kernelspec": {
   "display_name": "Python 3 (ipykernel)",
   "language": "python",
   "name": "python3"
  },
  "language_info": {
   "codemirror_mode": {
    "name": "ipython",
    "version": 3
   },
   "file_extension": ".py",
   "mimetype": "text/x-python",
   "name": "python",
   "nbconvert_exporter": "python",
   "pygments_lexer": "ipython3",
   "version": "3.10.6"
  }
 },
 "nbformat": 4,
 "nbformat_minor": 5
}
