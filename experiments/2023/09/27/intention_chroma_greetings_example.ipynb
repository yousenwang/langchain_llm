{
 "cells": [
  {
   "cell_type": "code",
   "execution_count": 1,
   "id": "7d7bf8b5-a25e-426b-8ec9-48f302a96ad4",
   "metadata": {},
   "outputs": [
    {
     "name": "stdout",
     "output_type": "stream",
     "text": [
      "Wed Sep 27 09:10:26 2023       \n",
      "+---------------------------------------------------------------------------------------+\n",
      "| NVIDIA-SMI 535.104.05             Driver Version: 535.104.05   CUDA Version: 12.2     |\n",
      "|-----------------------------------------+----------------------+----------------------+\n",
      "| GPU  Name                 Persistence-M | Bus-Id        Disp.A | Volatile Uncorr. ECC |\n",
      "| Fan  Temp   Perf          Pwr:Usage/Cap |         Memory-Usage | GPU-Util  Compute M. |\n",
      "|                                         |                      |               MIG M. |\n",
      "|=========================================+======================+======================|\n",
      "|   0  NVIDIA A40                     Off | 00000000:AF:00.0 Off |                    0 |\n",
      "|  0%   30C    P0              69W / 300W |  15303MiB / 46068MiB |      0%      Default |\n",
      "|                                         |                      |                  N/A |\n",
      "+-----------------------------------------+----------------------+----------------------+\n",
      "                                                                                         \n",
      "+---------------------------------------------------------------------------------------+\n",
      "| Processes:                                                                            |\n",
      "|  GPU   GI   CI        PID   Type   Process name                            GPU Memory |\n",
      "|        ID   ID                                                             Usage      |\n",
      "|=======================================================================================|\n",
      "|    0   N/A  N/A    105327      C   /data/python/laby/llama.cpp/server         6700MiB |\n",
      "|    0   N/A  N/A    105348      C   ...ython/laby/text2vec/env/bin/python3      978MiB |\n",
      "|    0   N/A  N/A    105351      C   /data/python/laby/llama.cpp/server         7592MiB |\n",
      "+---------------------------------------------------------------------------------------+\n"
     ]
    }
   ],
   "source": [
    "!nvidia-smi"
   ]
  },
  {
   "cell_type": "code",
   "execution_count": 8,
   "id": "41000a9a-159b-413a-a828-cf941a973a7f",
   "metadata": {},
   "outputs": [],
   "source": [
    "from langchain.vectorstores import Chroma\n",
    "from langchain.docstore.document import Document"
   ]
  },
  {
   "cell_type": "code",
   "execution_count": 4,
   "id": "e410d8f0-e677-4afd-b526-976195c72e2f",
   "metadata": {},
   "outputs": [
    {
     "name": "stderr",
     "output_type": "stream",
     "text": [
      "/usr/local/lib/python3.10/site-packages/InstructorEmbedding/instructor.py:7: TqdmExperimentalWarning: Using `tqdm.autonotebook.tqdm` in notebook mode. Use `tqdm.tqdm` instead to force console mode (e.g. in jupyter console)\n",
      "  from tqdm.autonotebook import trange\n"
     ]
    },
    {
     "name": "stdout",
     "output_type": "stream",
     "text": [
      "load INSTRUCTOR_Transformer\n"
     ]
    },
    {
     "name": "stderr",
     "output_type": "stream",
     "text": [
      "2023-09-27 09:11:09.012615: I tensorflow/core/platform/cpu_feature_guard.cc:182] This TensorFlow binary is optimized to use available CPU instructions in performance-critical operations.\n",
      "To enable the following instructions: AVX2 AVX512F FMA, in other operations, rebuild TensorFlow with the appropriate compiler flags.\n",
      "2023-09-27 09:11:09.904159: W tensorflow/compiler/tf2tensorrt/utils/py_utils.cc:38] TF-TRT Warning: Could not find TensorRT\n"
     ]
    },
    {
     "name": "stdout",
     "output_type": "stream",
     "text": [
      "max_seq_length  512\n"
     ]
    }
   ],
   "source": [
    "from langchain.embeddings import HuggingFaceInstructEmbeddings\n",
    "\n",
    "instructor_embeddings = HuggingFaceInstructEmbeddings(model_name=\"hkunlp/instructor-xl\",\n",
    "                                                      model_kwargs={\"device\": \"cuda\"})"
   ]
  },
  {
   "cell_type": "code",
   "execution_count": 5,
   "id": "99604eb4-8ed6-4953-be40-e0416037f58c",
   "metadata": {},
   "outputs": [],
   "source": [
    "persist_directory = 'db'\n",
    "\n",
    "vectordb = Chroma(persist_directory=persist_directory,\n",
    "                  embedding_function=instructor_embeddings)"
   ]
  },
  {
   "cell_type": "code",
   "execution_count": 10,
   "id": "cc9f1f76-2712-4dee-9449-6a0f9b7fe0ab",
   "metadata": {},
   "outputs": [],
   "source": [
    "import yaml\n",
    "# https://github.com/gunthercox/chatterbot-corpus/blob/master/chatterbot_corpus/data/english/greetings.yml"
   ]
  },
  {
   "cell_type": "code",
   "execution_count": 12,
   "id": "0a41dcba-72bf-4d3e-8086-2fe186eca9ee",
   "metadata": {},
   "outputs": [],
   "source": [
    "with open('./data/english/greetings.yml', 'r') as file:\n",
    "    greetings = yaml.safe_load(file)"
   ]
  },
  {
   "cell_type": "code",
   "execution_count": 13,
   "id": "128ae03a-babd-495a-a3f1-5892825a1522",
   "metadata": {},
   "outputs": [
    {
     "data": {
      "text/plain": [
       "{'categories': ['greetings'],\n",
       " 'conversations': [['Hello', 'Hi'],\n",
       "  ['Hi', 'Hello'],\n",
       "  ['Greetings!', 'Hello'],\n",
       "  ['Hello', 'Greetings!'],\n",
       "  ['Hi, How is it going?', 'Good'],\n",
       "  ['Hi, How is it going?', 'Fine'],\n",
       "  ['Hi, How is it going?', 'Okay'],\n",
       "  ['Hi, How is it going?', 'Great'],\n",
       "  ['Hi, How is it going?', 'Could be better.'],\n",
       "  ['Hi, How is it going?', 'Not so great.'],\n",
       "  ['How are you doing?', 'Good.'],\n",
       "  ['How are you doing?', 'Very well, thanks.'],\n",
       "  ['How are you doing?', 'Fine, and you?'],\n",
       "  ['Nice to meet you.', 'Thank you.'],\n",
       "  ['How do you do?', \"I'm doing well.\"],\n",
       "  ['How do you do?', \"I'm doing well. How are you?\"],\n",
       "  ['Hi, nice to meet you.', 'Thank you. You too.'],\n",
       "  ['It is a pleasure to meet you.', 'Thank you. You too.'],\n",
       "  ['Top of the morning to you!', 'Thank you kindly.'],\n",
       "  ['Top of the morning to you!', 'And the rest of the day to you.'],\n",
       "  [\"What's up?\", 'Not much.'],\n",
       "  [\"What's up?\", 'Not too much.'],\n",
       "  [\"What's up?\", 'Not much, how about you?'],\n",
       "  [\"What's up?\", 'Nothing much.'],\n",
       "  [\"What's up?\", \"The sky's up but I'm fine thanks. What about you?\"]]}"
      ]
     },
     "execution_count": 13,
     "metadata": {},
     "output_type": "execute_result"
    }
   ],
   "source": [
    "greetings"
   ]
  },
  {
   "cell_type": "code",
   "execution_count": 28,
   "id": "2a6298ac-6b06-430f-8911-ea5388fbe086",
   "metadata": {},
   "outputs": [],
   "source": [
    "conversations = list(map(lambda g: \" \".join(g), greetings[\"conversations\"]))"
   ]
  },
  {
   "cell_type": "code",
   "execution_count": 32,
   "id": "b09c1f05-7156-4aca-8f4a-babf4a161c04",
   "metadata": {},
   "outputs": [],
   "source": [
    "greeting_docs = list(map(lambda x: Document(page_content=x, metadata={\"category\": greetings[\"categories\"][0]}), conversations))"
   ]
  },
  {
   "cell_type": "code",
   "execution_count": 33,
   "id": "9ec494f4-22aa-4cb5-9ec0-b040ac1a11ab",
   "metadata": {},
   "outputs": [
    {
     "data": {
      "text/plain": [
       "Document(page_content='Hello Hi', metadata={'category': 'greetings'})"
      ]
     },
     "execution_count": 33,
     "metadata": {},
     "output_type": "execute_result"
    }
   ],
   "source": [
    "greeting_docs[0]"
   ]
  },
  {
   "cell_type": "code",
   "execution_count": 34,
   "id": "3a8290e7-8c42-4c1b-8d28-14a86c5eaf86",
   "metadata": {},
   "outputs": [
    {
     "data": {
      "text/plain": [
       "6"
      ]
     },
     "execution_count": 34,
     "metadata": {},
     "output_type": "execute_result"
    }
   ],
   "source": [
    "vectordb._collection.count()"
   ]
  },
  {
   "cell_type": "code",
   "execution_count": 40,
   "id": "ed76da58-bb7a-4c7d-85c0-548139612144",
   "metadata": {},
   "outputs": [],
   "source": [
    "new_ids = [greetings[\"categories\"][0]+\"_\"+str(i) for i in range(len(greeting_docs))]"
   ]
  },
  {
   "cell_type": "code",
   "execution_count": 41,
   "id": "013ee52d-362b-4f23-b675-086faf014240",
   "metadata": {},
   "outputs": [],
   "source": [
    "return_ids = vectordb.add_documents(\n",
    "    greeting_docs,\n",
    "    ids=new_ids\n",
    ")"
   ]
  },
  {
   "cell_type": "code",
   "execution_count": 43,
   "id": "9e82517d-70f5-40f7-9e20-8d7864ae8dbe",
   "metadata": {},
   "outputs": [
    {
     "data": {
      "text/plain": [
       "31"
      ]
     },
     "execution_count": 43,
     "metadata": {},
     "output_type": "execute_result"
    }
   ],
   "source": [
    "vectordb._collection.count()"
   ]
  },
  {
   "cell_type": "code",
   "execution_count": 55,
   "id": "20061533-e06a-489e-9c49-bd44a37e562d",
   "metadata": {},
   "outputs": [
    {
     "data": {
      "text/plain": [
       "{'ids': ['greetings_0', 'greetings_1'],\n",
       " 'embeddings': None,\n",
       " 'documents': ['Hello Hi', 'Hi Hello'],\n",
       " 'metadatas': [{'category': 'greetings'}, {'category': 'greetings'}]}"
      ]
     },
     "execution_count": 55,
     "metadata": {},
     "output_type": "execute_result"
    }
   ],
   "source": [
    "vectordb._collection.get(ids=[\"greetings_0\",\"greetings_1\"])"
   ]
  },
  {
   "cell_type": "markdown",
   "id": "591989d8-41aa-469f-ba13-d12c433ed614",
   "metadata": {},
   "source": [
    "vectordb.get(\n",
    "    where={\"category\": greetings[\"categories\"][0]}\n",
    ")"
   ]
  },
  {
   "cell_type": "markdown",
   "id": "3dd7a751-3b65-44bd-a81d-035731bf71c7",
   "metadata": {},
   "source": [
    "### Cosine distance the lower the better [0,1]"
   ]
  },
  {
   "cell_type": "markdown",
   "id": "9a7aa5cc-3b42-4acf-9308-620303668612",
   "metadata": {},
   "source": [
    "### 相似問候語"
   ]
  },
  {
   "cell_type": "code",
   "execution_count": 76,
   "id": "858f5204-37fb-4fc5-ab50-cb6d4a20999b",
   "metadata": {},
   "outputs": [
    {
     "data": {
      "text/plain": [
       "[(Document(page_content='How are you doing? Fine, and you?', metadata={'category': 'greetings'}),\n",
       "  0.23643285036087036),\n",
       " (Document(page_content=\"How do you do? I'm doing well. How are you?\", metadata={'category': 'greetings'}),\n",
       "  0.2597610354423523),\n",
       " (Document(page_content=\"How do you do? I'm doing well.\", metadata={'category': 'greetings'}),\n",
       "  0.29596203565597534)]"
      ]
     },
     "execution_count": 76,
     "metadata": {},
     "output_type": "execute_result"
    }
   ],
   "source": [
    "# 相似問候語\n",
    "vectordb.similarity_search_with_score(\"How are you?\", k = 3)"
   ]
  },
  {
   "cell_type": "markdown",
   "id": "b884940f-4b4d-4daa-bc0a-f68d30c20dff",
   "metadata": {},
   "source": [
    "### 非數據庫問候語"
   ]
  },
  {
   "cell_type": "code",
   "execution_count": 75,
   "id": "160e0334-d729-4141-ab51-5e878cf8673d",
   "metadata": {},
   "outputs": [
    {
     "data": {
      "text/plain": [
       "[(Document(page_content='Top of the morning to you! And the rest of the day to you.', metadata={'category': 'greetings'}),\n",
       "  0.8002604842185974),\n",
       " (Document(page_content='Top of the morning to you! Thank you kindly.', metadata={'category': 'greetings'}),\n",
       "  0.82635498046875),\n",
       " (Document(page_content='How are you doing? Good.', metadata={'category': 'greetings'}),\n",
       "  0.914035439491272)]"
      ]
     },
     "execution_count": 75,
     "metadata": {},
     "output_type": "execute_result"
    }
   ],
   "source": [
    "# 非數據庫問候語\n",
    "vectordb.similarity_search_with_score(\"Good night!\", k = 3)"
   ]
  },
  {
   "cell_type": "markdown",
   "id": "2873417e-000f-46da-a7ef-02a4e2661169",
   "metadata": {},
   "source": [
    "### 非問候語"
   ]
  },
  {
   "cell_type": "code",
   "execution_count": 74,
   "id": "343a0e10-1a5a-489c-b912-998291e2b1b6",
   "metadata": {},
   "outputs": [
    {
     "data": {
      "text/plain": [
       "[(Document(page_content='2 / 6 \\nThis document  belongs to Wareconn  Technology Services (Tianjin) Co., Ltd. It is only intended to be \\nused to introduce Wareconn functions and procedures. Please do not use it for other purposes.  2 wareconn standard operating procedure  \\nSOP  \\nI. This guide will walk you through the process of requesting  RMA  through the \\nWareconn Customer Portal.  \\nII. Details on how to fill in the Part Number (PN) and Serial Number (SN)  \\n1.1 RMA request  procedure (Parts return)  \\n1. System login  \\n⚫ Module: https://www.wareconn.com/  \\n⚫ Description:  Login  with account and password  \\n \\nTo log in, follow these steps:  \\nGo to https://www.wareconn.com/ and click Log in  \\n \\nFill in your email and password, then click Login\\n \\nClick Enter  in the Customer portal', metadata={'source': 'MSFT RMA request SOP v1.0.pdf', 'page': 1}),\n",
       "  0.26276934146881104),\n",
       " (Document(page_content='3 / 6 \\nThis document  belongs to Wareconn  Technology Services (Tianjin) Co., Ltd. It is only intended to be \\nused to introduce Wareconn functions and procedures. Please do not use it for other purposes.  3 wareconn standard operating procedure  \\n2. Go to  RMA Request  Page \\n⚫ Module: Customer portal -Warranty Claims -Warranty Claims  \\n⚫ Description: Go to RMA request page  \\n \\nTo go to the RMA request page, follow these steps:  \\nClick Warranty Claims  in the left menu, then click +Add  \\n \\nClick the icon shown in the image below  \\n(Select the corresponding SI )', metadata={'source': 'MSFT RMA request SOP v1.0.pdf', 'page': 2}),\n",
       "  0.2810153067111969),\n",
       " (Document(page_content='4 / 6 \\nThis document  belongs to Wareconn  Technology Services (Tianjin) Co., Ltd. It is only intended to be \\nused to introduce Wareconn functions and procedures. Please do not use it for other purposes.  4 wareconn standard operating procedure  \\n3. Create RMA Request  \\n⚫ Module: Customer portal -Warranty Claims -Warranty Claims -Create request  \\n⚫ Description: Create RMA request order  \\n \\nTo create a RMA request, follow these steps:  \\nClick Add Warranty Claims   \\n \\nThen, click Parts Return', metadata={'source': 'MSFT RMA request SOP v1.0.pdf', 'page': 3}),\n",
       "  0.30450382828712463),\n",
       " (Document(page_content='6 / 6 \\nThis document  belongs to Wareconn  Technology Services (Tianjin) Co., Ltd. It is only intended to be \\nused to introduce Wareconn functions and procedures. Please do not use it for other purposes.  6 wareconn standard operating procedure  \\n5. Submit the RMA  request  \\n \\n⚫ Module: Customer portal -Warranty Claims -Warranty Claims -Submit  \\n⚫ Description: Submit the RMA request  \\n \\nThe Reminder field will show you whether this RMA request is approvable  \\n(acceptable)  for warranty provider  or not.  \\nPlease remember to fill in WAL# in Customer No. field  \\nLastly, click Submit  in the top right corner to finish the  RMA requesting process', metadata={'source': 'MSFT RMA request SOP v1.0.pdf', 'page': 5}),\n",
       "  0.3247354030609131),\n",
       " (Document(page_content='5 / 6 \\nThis document  belongs to Wareconn  Technology Services (Tianjin) Co., Ltd. It is only intended to be \\nused to introduce Wareconn functions and procedures. Please do not use it for other purposes.  5 wareconn standard operating procedure  \\n4. Fill in request info  \\n⚫ Module: Customer portal -Warranty Claims -Warranty Claims -Fill in info  \\n⚫ Description:  \\nFill in Product SN, Product PN and defective reason  (See the instruction s below ) \\nThen , click Please select Parts  After  you s elect Rack PN  \\n \\nFill in the quantity of the parts you wish to request.  \\nThen, click Confirm  \\n \\nFill in Part s SN, which is the SN of failure part (not required)  \\nThen, click Save', metadata={'source': 'MSFT RMA request SOP v1.0.pdf', 'page': 4}),\n",
       "  0.39391228556632996),\n",
       " (Document(page_content='1 / 6 \\nThis document  belongs to Wareconn  Technology Services (Tianjin) Co., Ltd. It is only intended to be \\nused to introduce Wareconn functions and procedures. Please do not use it for other purposes.  1 wareconn standard operating procedure  \\n \\n \\n \\n \\n \\n \\nwareconn standard operating procedure  \\nRMA request  SOP  \\n \\nVersion : \\nVersion  Date  Editor  Description  \\nv 1.0  2023/03/16 Eric Sun First draft (English version)  \\n \\n \\nContent  \\nSOP ................................ ................................ ................................ ................................  2 \\n1.1 RMA request procedure (Parts return)  ................................ ...............  2', metadata={'source': 'MSFT RMA request SOP v1.0.pdf', 'page': 0}),\n",
       "  0.4276789426803589),\n",
       " (Document(page_content='Top of the morning to you! Thank you kindly.', metadata={'category': 'greetings'}),\n",
       "  0.958031415939331),\n",
       " (Document(page_content='Hi, How is it going? Not so great.', metadata={'category': 'greetings'}),\n",
       "  0.9832592010498047),\n",
       " (Document(page_content='Top of the morning to you! And the rest of the day to you.', metadata={'category': 'greetings'}),\n",
       "  0.9921225905418396),\n",
       " (Document(page_content='Hi, How is it going? Could be better.', metadata={'category': 'greetings'}),\n",
       "  0.9926920533180237)]"
      ]
     },
     "execution_count": 74,
     "metadata": {},
     "output_type": "execute_result"
    }
   ],
   "source": [
    "# 非問候語\n",
    "vectordb.similarity_search_with_score(\"How can I navigate to the RMA request page in the Wareconn Customer Portal?\", k = 10)"
   ]
  },
  {
   "cell_type": "markdown",
   "id": "2f66c73c-aeac-43b6-b8f9-d56b5a1debe6",
   "metadata": {},
   "source": [
    "### 完全相同問候語"
   ]
  },
  {
   "cell_type": "code",
   "execution_count": 73,
   "id": "e2f35f38-5ba2-4147-96ad-c8bc141cb715",
   "metadata": {},
   "outputs": [
    {
     "data": {
      "text/plain": [
       "[(Document(page_content='How are you doing? Fine, and you?', metadata={'category': 'greetings'}),\n",
       "  0.0259263776242733),\n",
       " (Document(page_content=\"How do you do? I'm doing well. How are you?\", metadata={'category': 'greetings'}),\n",
       "  0.14784325659275055),\n",
       " (Document(page_content='How are you doing? Good.', metadata={'category': 'greetings'}),\n",
       "  0.17279070615768433),\n",
       " (Document(page_content=\"How do you do? I'm doing well.\", metadata={'category': 'greetings'}),\n",
       "  0.18660202622413635),\n",
       " (Document(page_content='How are you doing? Very well, thanks.', metadata={'category': 'greetings'}),\n",
       "  0.19339334964752197),\n",
       " (Document(page_content='Hi, How is it going? Fine', metadata={'category': 'greetings'}),\n",
       "  0.3499649465084076),\n",
       " (Document(page_content=\"What's up? The sky's up but I'm fine thanks. What about you?\", metadata={'category': 'greetings'}),\n",
       "  0.4036705195903778),\n",
       " (Document(page_content='Hi, How is it going? Great', metadata={'category': 'greetings'}),\n",
       "  0.4600520730018616),\n",
       " (Document(page_content='Hi, How is it going? Good', metadata={'category': 'greetings'}),\n",
       "  0.4639682173728943),\n",
       " (Document(page_content='Hi, How is it going? Could be better.', metadata={'category': 'greetings'}),\n",
       "  0.47528183460235596),\n",
       " (Document(page_content='Hi, How is it going? Okay', metadata={'category': 'greetings'}),\n",
       "  0.4884467124938965),\n",
       " (Document(page_content='Hi, How is it going? Not so great.', metadata={'category': 'greetings'}),\n",
       "  0.5489510297775269),\n",
       " (Document(page_content=\"What's up? Not much, how about you?\", metadata={'category': 'greetings'}),\n",
       "  0.5675032734870911),\n",
       " (Document(page_content=\"What's up? Not too much.\", metadata={'category': 'greetings'}),\n",
       "  0.6367977857589722),\n",
       " (Document(page_content=\"What's up? Nothing much.\", metadata={'category': 'greetings'}),\n",
       "  0.6503245234489441),\n",
       " (Document(page_content='Hi, nice to meet you. Thank you. You too.', metadata={'category': 'greetings'}),\n",
       "  0.6510455012321472),\n",
       " (Document(page_content=\"What's up? Not much.\", metadata={'category': 'greetings'}),\n",
       "  0.6590724587440491),\n",
       " (Document(page_content='It is a pleasure to meet you. Thank you. You too.', metadata={'category': 'greetings'}),\n",
       "  0.6696870923042297),\n",
       " (Document(page_content='Top of the morning to you! And the rest of the day to you.', metadata={'category': 'greetings'}),\n",
       "  0.7167962193489075),\n",
       " (Document(page_content='Nice to meet you. Thank you.', metadata={'category': 'greetings'}),\n",
       "  0.7394275069236755),\n",
       " (Document(page_content='Top of the morning to you! Thank you kindly.', metadata={'category': 'greetings'}),\n",
       "  0.7770628333091736),\n",
       " (Document(page_content='Greetings! Hello', metadata={'category': 'greetings'}),\n",
       "  0.7803977727890015),\n",
       " (Document(page_content='Hello Greetings!', metadata={'category': 'greetings'}),\n",
       "  0.8029994964599609),\n",
       " (Document(page_content='Hi Hello', metadata={'category': 'greetings'}),\n",
       "  0.8209499716758728),\n",
       " (Document(page_content='Hello Hi', metadata={'category': 'greetings'}),\n",
       "  0.8459547758102417),\n",
       " (Document(page_content='1 / 6 \\nThis document  belongs to Wareconn  Technology Services (Tianjin) Co., Ltd. It is only intended to be \\nused to introduce Wareconn functions and procedures. Please do not use it for other purposes.  1 wareconn standard operating procedure  \\n \\n \\n \\n \\n \\n \\nwareconn standard operating procedure  \\nRMA request  SOP  \\n \\nVersion : \\nVersion  Date  Editor  Description  \\nv 1.0  2023/03/16 Eric Sun First draft (English version)  \\n \\n \\nContent  \\nSOP ................................ ................................ ................................ ................................  2 \\n1.1 RMA request procedure (Parts return)  ................................ ...............  2', metadata={'source': 'MSFT RMA request SOP v1.0.pdf', 'page': 0}),\n",
       "  0.9973651766777039),\n",
       " (Document(page_content='6 / 6 \\nThis document  belongs to Wareconn  Technology Services (Tianjin) Co., Ltd. It is only intended to be \\nused to introduce Wareconn functions and procedures. Please do not use it for other purposes.  6 wareconn standard operating procedure  \\n5. Submit the RMA  request  \\n \\n⚫ Module: Customer portal -Warranty Claims -Warranty Claims -Submit  \\n⚫ Description: Submit the RMA request  \\n \\nThe Reminder field will show you whether this RMA request is approvable  \\n(acceptable)  for warranty provider  or not.  \\nPlease remember to fill in WAL# in Customer No. field  \\nLastly, click Submit  in the top right corner to finish the  RMA requesting process', metadata={'source': 'MSFT RMA request SOP v1.0.pdf', 'page': 5}),\n",
       "  1.0234181880950928),\n",
       " (Document(page_content='2 / 6 \\nThis document  belongs to Wareconn  Technology Services (Tianjin) Co., Ltd. It is only intended to be \\nused to introduce Wareconn functions and procedures. Please do not use it for other purposes.  2 wareconn standard operating procedure  \\nSOP  \\nI. This guide will walk you through the process of requesting  RMA  through the \\nWareconn Customer Portal.  \\nII. Details on how to fill in the Part Number (PN) and Serial Number (SN)  \\n1.1 RMA request  procedure (Parts return)  \\n1. System login  \\n⚫ Module: https://www.wareconn.com/  \\n⚫ Description:  Login  with account and password  \\n \\nTo log in, follow these steps:  \\nGo to https://www.wareconn.com/ and click Log in  \\n \\nFill in your email and password, then click Login\\n \\nClick Enter  in the Customer portal', metadata={'source': 'MSFT RMA request SOP v1.0.pdf', 'page': 1}),\n",
       "  1.0250746011734009),\n",
       " (Document(page_content='3 / 6 \\nThis document  belongs to Wareconn  Technology Services (Tianjin) Co., Ltd. It is only intended to be \\nused to introduce Wareconn functions and procedures. Please do not use it for other purposes.  3 wareconn standard operating procedure  \\n2. Go to  RMA Request  Page \\n⚫ Module: Customer portal -Warranty Claims -Warranty Claims  \\n⚫ Description: Go to RMA request page  \\n \\nTo go to the RMA request page, follow these steps:  \\nClick Warranty Claims  in the left menu, then click +Add  \\n \\nClick the icon shown in the image below  \\n(Select the corresponding SI )', metadata={'source': 'MSFT RMA request SOP v1.0.pdf', 'page': 2}),\n",
       "  1.0319678783416748),\n",
       " (Document(page_content='4 / 6 \\nThis document  belongs to Wareconn  Technology Services (Tianjin) Co., Ltd. It is only intended to be \\nused to introduce Wareconn functions and procedures. Please do not use it for other purposes.  4 wareconn standard operating procedure  \\n3. Create RMA Request  \\n⚫ Module: Customer portal -Warranty Claims -Warranty Claims -Create request  \\n⚫ Description: Create RMA request order  \\n \\nTo create a RMA request, follow these steps:  \\nClick Add Warranty Claims   \\n \\nThen, click Parts Return', metadata={'source': 'MSFT RMA request SOP v1.0.pdf', 'page': 3}),\n",
       "  1.0341728925704956),\n",
       " (Document(page_content='5 / 6 \\nThis document  belongs to Wareconn  Technology Services (Tianjin) Co., Ltd. It is only intended to be \\nused to introduce Wareconn functions and procedures. Please do not use it for other purposes.  5 wareconn standard operating procedure  \\n4. Fill in request info  \\n⚫ Module: Customer portal -Warranty Claims -Warranty Claims -Fill in info  \\n⚫ Description:  \\nFill in Product SN, Product PN and defective reason  (See the instruction s below ) \\nThen , click Please select Parts  After  you s elect Rack PN  \\n \\nFill in the quantity of the parts you wish to request.  \\nThen, click Confirm  \\n \\nFill in Part s SN, which is the SN of failure part (not required)  \\nThen, click Save', metadata={'source': 'MSFT RMA request SOP v1.0.pdf', 'page': 4}),\n",
       "  1.046195149421692)]"
      ]
     },
     "execution_count": 73,
     "metadata": {},
     "output_type": "execute_result"
    }
   ],
   "source": [
    "# 完全相同問候語\n",
    "vectordb.similarity_search_with_score(\"How are you doing? Fine, and you?\", k = vectordb._collection.count())"
   ]
  },
  {
   "cell_type": "code",
   "execution_count": null,
   "id": "3d9e9e61-f1c4-423c-9434-d4cc89f72834",
   "metadata": {},
   "outputs": [],
   "source": []
  }
 ],
 "metadata": {
  "kernelspec": {
   "display_name": "Python 3 (ipykernel)",
   "language": "python",
   "name": "python3"
  },
  "language_info": {
   "codemirror_mode": {
    "name": "ipython",
    "version": 3
   },
   "file_extension": ".py",
   "mimetype": "text/x-python",
   "name": "python",
   "nbconvert_exporter": "python",
   "pygments_lexer": "ipython3",
   "version": "3.10.6"
  }
 },
 "nbformat": 4,
 "nbformat_minor": 5
}
