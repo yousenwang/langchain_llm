{
 "cells": [
  {
   "cell_type": "code",
   "execution_count": 2,
   "id": "dbc3f826-e980-4a38-a8e7-afb8b16532a7",
   "metadata": {},
   "outputs": [
    {
     "name": "stdout",
     "output_type": "stream",
     "text": [
      "Wed Aug  2 09:01:49 2023       \n",
      "+---------------------------------------------------------------------------------------+\n",
      "| NVIDIA-SMI 530.30.02              Driver Version: 530.30.02    CUDA Version: 12.1     |\n",
      "|-----------------------------------------+----------------------+----------------------+\n",
      "| GPU  Name                  Persistence-M| Bus-Id        Disp.A | Volatile Uncorr. ECC |\n",
      "| Fan  Temp  Perf            Pwr:Usage/Cap|         Memory-Usage | GPU-Util  Compute M. |\n",
      "|                                         |                      |               MIG M. |\n",
      "|=========================================+======================+======================|\n",
      "|   0  Tesla T4                        Off| 00000000:AF:00.0 Off |                    0 |\n",
      "| N/A   66C    P0               32W /  70W|      2MiB / 15360MiB |      7%      Default |\n",
      "|                                         |                      |                  N/A |\n",
      "+-----------------------------------------+----------------------+----------------------+\n",
      "                                                                                         \n",
      "+---------------------------------------------------------------------------------------+\n",
      "| Processes:                                                                            |\n",
      "|  GPU   GI   CI        PID   Type   Process name                            GPU Memory |\n",
      "|        ID   ID                                                             Usage      |\n",
      "|=======================================================================================|\n",
      "|  No running processes found                                                           |\n",
      "+---------------------------------------------------------------------------------------+\n"
     ]
    }
   ],
   "source": [
    "!nvidia-smi"
   ]
  },
  {
   "cell_type": "code",
   "execution_count": 3,
   "id": "5158cb24-a0c3-4b90-b602-cc9255bc4a8c",
   "metadata": {},
   "outputs": [],
   "source": [
    "from langchain.vectorstores import Chroma\n",
    "# from langchain.text_splitter import RecursiveCharacterTextSplitter\n",
    "# from langchain.llms import OpenAI\n",
    "from langchain.chains import RetrievalQA, RetrievalQAWithSourcesChain\n",
    "# from langchain.document_loaders import TextLoader\n",
    "# from langchain.document_loaders import PyPDFLoader\n",
    "# from langchain.document_loaders import DirectoryLoader\n",
    "\n",
    "\n",
    "# from InstructorEmbedding import INSTRUCTOR\n",
    "# from langchain.embeddings import HuggingFaceInstructEmbeddings"
   ]
  },
  {
   "cell_type": "code",
   "execution_count": 4,
   "id": "996ef127-9a25-4f67-ad56-4021a312e0e9",
   "metadata": {},
   "outputs": [
    {
     "name": "stderr",
     "output_type": "stream",
     "text": [
      "/usr/local/lib/python3.10/site-packages/InstructorEmbedding/instructor.py:7: TqdmExperimentalWarning: Using `tqdm.autonotebook.tqdm` in notebook mode. Use `tqdm.tqdm` instead to force console mode (e.g. in jupyter console)\n",
      "  from tqdm.autonotebook import trange\n"
     ]
    },
    {
     "name": "stdout",
     "output_type": "stream",
     "text": [
      "load INSTRUCTOR_Transformer\n",
      "max_seq_length  512\n"
     ]
    }
   ],
   "source": [
    "from langchain.embeddings import HuggingFaceInstructEmbeddings\n",
    "\n",
    "instructor_embeddings = HuggingFaceInstructEmbeddings(model_name=\"hkunlp/instructor-xl\",\n",
    "                                                      model_kwargs={\"device\": \"cuda\"})"
   ]
  },
  {
   "cell_type": "code",
   "execution_count": 5,
   "id": "e74a8206-14fd-4a53-93e6-f2d85a106970",
   "metadata": {},
   "outputs": [],
   "source": [
    "persist_directory = 'db_500_100'\n",
    "\n",
    "vectordb = Chroma(persist_directory=persist_directory,\n",
    "                  embedding_function=instructor_embeddings)"
   ]
  },
  {
   "cell_type": "code",
   "execution_count": 18,
   "id": "de328c9c-488b-4417-b051-cd952b15060a",
   "metadata": {},
   "outputs": [],
   "source": [
    "retriever = vectordb.as_retriever(search_kwargs={\"k\": 2})"
   ]
  },
  {
   "cell_type": "code",
   "execution_count": 19,
   "id": "46213d3a-95b4-498d-9de5-79874a633a1b",
   "metadata": {},
   "outputs": [
    {
     "name": "stdout",
     "output_type": "stream",
     "text": [
      "huggingface/tokenizers: The current process just got forked, after parallelism has already been used. Disabling parallelism to avoid deadlocks...\n",
      "To disable this warning, you can either:\n",
      "\t- Avoid using `tokenizers` before the fork if possible\n",
      "\t- Explicitly set the environment variable TOKENIZERS_PARALLELISM=(true | false)\n",
      "Wed Aug  2 09:02:32 2023       \n",
      "+---------------------------------------------------------------------------------------+\n",
      "| NVIDIA-SMI 530.30.02              Driver Version: 530.30.02    CUDA Version: 12.1     |\n",
      "|-----------------------------------------+----------------------+----------------------+\n",
      "| GPU  Name                  Persistence-M| Bus-Id        Disp.A | Volatile Uncorr. ECC |\n",
      "| Fan  Temp  Perf            Pwr:Usage/Cap|         Memory-Usage | GPU-Util  Compute M. |\n",
      "|                                         |                      |               MIG M. |\n",
      "|=========================================+======================+======================|\n",
      "|   0  Tesla T4                        Off| 00000000:AF:00.0 Off |                    0 |\n",
      "| N/A   66C    P0               32W /  70W|   4891MiB / 15360MiB |      0%      Default |\n",
      "|                                         |                      |                  N/A |\n",
      "+-----------------------------------------+----------------------+----------------------+\n",
      "                                                                                         \n",
      "+---------------------------------------------------------------------------------------+\n",
      "| Processes:                                                                            |\n",
      "|  GPU   GI   CI        PID   Type   Process name                            GPU Memory |\n",
      "|        ID   ID                                                             Usage      |\n",
      "|=======================================================================================|\n",
      "|    0   N/A  N/A    106716      C   /usr/local/bin/python3.10                  4886MiB |\n",
      "+---------------------------------------------------------------------------------------+\n"
     ]
    }
   ],
   "source": [
    "!nvidia-smi"
   ]
  },
  {
   "cell_type": "code",
   "execution_count": 20,
   "id": "87d4feec-feb0-412d-bbae-96e4ff952e98",
   "metadata": {},
   "outputs": [],
   "source": [
    "q1 = \"How can I navigate to the RMA request page in the Wareconn Customer Portal?\"\n",
    "ans1 = retriever.get_relevant_documents(q1)"
   ]
  },
  {
   "cell_type": "code",
   "execution_count": 21,
   "id": "c98ae12f-3418-4ca4-909f-20eca48edffb",
   "metadata": {},
   "outputs": [
    {
     "name": "stdout",
     "output_type": "stream",
     "text": [
      "----------Answer 1----------\n",
      "1.1 RMA request  procedure (Parts return)  \n",
      "1. System login  \n",
      "⚫ Module: https://www.wareconn.com/  \n",
      "⚫ Description:  Login  with account and password  \n",
      " \n",
      "To log in, follow these steps:  \n",
      "Go to https://www.wareconn.com/ and click Log in  \n",
      " \n",
      "Fill in your email and password, then click Login\n",
      " \n",
      "Click Enter  in the Customer portal\n",
      "{'source': 'MSFT RMA request SOP v1.0.pdf', 'page': 1}\n",
      "----------Answer 2----------\n",
      "3 / 6 \n",
      "This document  belongs to Wareconn  Technology Services (Tianjin) Co., Ltd. It is only intended to be \n",
      "used to introduce Wareconn functions and procedures. Please do not use it for other purposes.  3 wareconn standard operating procedure  \n",
      "2. Go to  RMA Request  Page \n",
      "⚫ Module: Customer portal -Warranty Claims -Warranty Claims  \n",
      "⚫ Description: Go to RMA request page  \n",
      " \n",
      "To go to the RMA request page, follow these steps:  \n",
      "Click Warranty Claims  in the left menu, then click +Add\n",
      "{'source': 'MSFT RMA request SOP v1.0.pdf', 'page': 2}\n"
     ]
    }
   ],
   "source": [
    "\n",
    "for i, a in enumerate(ans1):\n",
    "  print(\"-\"*10+f\"Answer {i+1}\"+\"-\"*10)\n",
    "  print(a.page_content)\n",
    "  print(a.metadata)"
   ]
  },
  {
   "cell_type": "code",
   "execution_count": 22,
   "id": "5186481e-a59f-49a2-b519-0992fb5c04a8",
   "metadata": {},
   "outputs": [],
   "source": [
    "q2 = \"What does the Reminder field indicate when submitting an RMA request?\"\n",
    "ans2 = retriever.get_relevant_documents(q2)"
   ]
  },
  {
   "cell_type": "code",
   "execution_count": 23,
   "id": "63c89cfc-0245-4c45-b5e7-ffdcbe3e4955",
   "metadata": {},
   "outputs": [
    {
     "name": "stdout",
     "output_type": "stream",
     "text": [
      "----------Answer 1----------\n",
      "The Reminder field will show you whether this RMA request is approvable  \n",
      "(acceptable)  for warranty provider  or not.  \n",
      "Please remember to fill in WAL# in Customer No. field  \n",
      "Lastly, click Submit  in the top right corner to finish the  RMA requesting process\n",
      "{'source': 'MSFT RMA request SOP v1.0.pdf', 'page': 5}\n",
      "----------Answer 2----------\n",
      "6 / 6 \n",
      "This document  belongs to Wareconn  Technology Services (Tianjin) Co., Ltd. It is only intended to be \n",
      "used to introduce Wareconn functions and procedures. Please do not use it for other purposes.  6 wareconn standard operating procedure  \n",
      "5. Submit the RMA  request  \n",
      " \n",
      "⚫ Module: Customer portal -Warranty Claims -Warranty Claims -Submit  \n",
      "⚫ Description: Submit the RMA request  \n",
      " \n",
      "The Reminder field will show you whether this RMA request is approvable\n",
      "{'source': 'MSFT RMA request SOP v1.0.pdf', 'page': 5}\n"
     ]
    }
   ],
   "source": [
    "for i, a in enumerate(ans2):\n",
    "  print(\"-\"*10+f\"Answer {i+1}\"+\"-\"*10)\n",
    "  print(a.page_content)\n",
    "  print(a.metadata)"
   ]
  },
  {
   "cell_type": "code",
   "execution_count": 24,
   "id": "93fbb2fb-1a67-4111-ad5d-21eee90bc4be",
   "metadata": {},
   "outputs": [],
   "source": [
    "q3 = \"What information should be filled in the Customer No. field when submitting an RMA request?\"\n",
    "ans3 = retriever.get_relevant_documents(q3)"
   ]
  },
  {
   "cell_type": "code",
   "execution_count": 25,
   "id": "a65afb80-5955-47e9-b3f9-e0969d5151bf",
   "metadata": {},
   "outputs": [
    {
     "name": "stdout",
     "output_type": "stream",
     "text": [
      "----------Answer 1----------\n",
      "The Reminder field will show you whether this RMA request is approvable  \n",
      "(acceptable)  for warranty provider  or not.  \n",
      "Please remember to fill in WAL# in Customer No. field  \n",
      "Lastly, click Submit  in the top right corner to finish the  RMA requesting process\n",
      "{'source': 'MSFT RMA request SOP v1.0.pdf', 'page': 5}\n",
      "----------Answer 2----------\n",
      "1.1 RMA request  procedure (Parts return)  \n",
      "1. System login  \n",
      "⚫ Module: https://www.wareconn.com/  \n",
      "⚫ Description:  Login  with account and password  \n",
      " \n",
      "To log in, follow these steps:  \n",
      "Go to https://www.wareconn.com/ and click Log in  \n",
      " \n",
      "Fill in your email and password, then click Login\n",
      " \n",
      "Click Enter  in the Customer portal\n",
      "{'source': 'MSFT RMA request SOP v1.0.pdf', 'page': 1}\n"
     ]
    }
   ],
   "source": [
    "for i, a in enumerate(ans3):\n",
    "  print(\"-\"*10+f\"Answer {i+1}\"+\"-\"*10)\n",
    "  print(a.page_content)\n",
    "  print(a.metadata)"
   ]
  },
  {
   "cell_type": "code",
   "execution_count": 26,
   "id": "72e271f2-623b-4736-a21c-e6cab02ea36d",
   "metadata": {},
   "outputs": [],
   "source": [
    "q4 = \"What steps should be followed when filling in the request information for an RMA?\"\n",
    "ans4 = retriever.get_relevant_documents(q4)"
   ]
  },
  {
   "cell_type": "code",
   "execution_count": 27,
   "id": "381465ec-cbb3-4090-a7a4-166ce72fe67e",
   "metadata": {},
   "outputs": [
    {
     "name": "stdout",
     "output_type": "stream",
     "text": [
      "----------Answer 1----------\n",
      "The Reminder field will show you whether this RMA request is approvable  \n",
      "(acceptable)  for warranty provider  or not.  \n",
      "Please remember to fill in WAL# in Customer No. field  \n",
      "Lastly, click Submit  in the top right corner to finish the  RMA requesting process\n",
      "{'source': 'MSFT RMA request SOP v1.0.pdf', 'page': 5}\n",
      "----------Answer 2----------\n",
      "1.1 RMA request  procedure (Parts return)  \n",
      "1. System login  \n",
      "⚫ Module: https://www.wareconn.com/  \n",
      "⚫ Description:  Login  with account and password  \n",
      " \n",
      "To log in, follow these steps:  \n",
      "Go to https://www.wareconn.com/ and click Log in  \n",
      " \n",
      "Fill in your email and password, then click Login\n",
      " \n",
      "Click Enter  in the Customer portal\n",
      "{'source': 'MSFT RMA request SOP v1.0.pdf', 'page': 1}\n"
     ]
    }
   ],
   "source": [
    "for i, a in enumerate(ans4):\n",
    "  print(\"-\"*10+f\"Answer {i+1}\"+\"-\"*10)\n",
    "  print(a.page_content)\n",
    "  print(a.metadata)"
   ]
  },
  {
   "cell_type": "code",
   "execution_count": 28,
   "id": "13d84adc-089a-45b5-a29c-ac0bedb7faf8",
   "metadata": {},
   "outputs": [],
   "source": [
    "q5 = \"Can this document be used for purposes other than introducing Wareconn functions and procedures?\"\n",
    "ans5 = retriever.get_relevant_documents(q5)"
   ]
  },
  {
   "cell_type": "code",
   "execution_count": 29,
   "id": "724cc7e0-3955-4e5a-86c4-6471f46ad030",
   "metadata": {},
   "outputs": [
    {
     "name": "stdout",
     "output_type": "stream",
     "text": [
      "----------Answer 1----------\n",
      "1 / 6 \n",
      "This document  belongs to Wareconn  Technology Services (Tianjin) Co., Ltd. It is only intended to be \n",
      "used to introduce Wareconn functions and procedures. Please do not use it for other purposes.  1 wareconn standard operating procedure  \n",
      " \n",
      " \n",
      " \n",
      " \n",
      " \n",
      " \n",
      "wareconn standard operating procedure  \n",
      "RMA request  SOP  \n",
      " \n",
      "Version : \n",
      "Version  Date  Editor  Description  \n",
      "v 1.0  2023/03/16 Eric Sun First draft (English version)  \n",
      " \n",
      " \n",
      "Content\n",
      "{'source': 'MSFT RMA request SOP v1.0.pdf', 'page': 0}\n",
      "----------Answer 2----------\n",
      "5 / 6 \n",
      "This document  belongs to Wareconn  Technology Services (Tianjin) Co., Ltd. It is only intended to be \n",
      "used to introduce Wareconn functions and procedures. Please do not use it for other purposes.  5 wareconn standard operating procedure  \n",
      "4. Fill in request info  \n",
      "⚫ Module: Customer portal -Warranty Claims -Warranty Claims -Fill in info  \n",
      "⚫ Description:  \n",
      "Fill in Product SN, Product PN and defective reason  (See the instruction s below )\n",
      "{'source': 'MSFT RMA request SOP v1.0.pdf', 'page': 4}\n"
     ]
    }
   ],
   "source": [
    "for i, a in enumerate(ans5):\n",
    "  print(\"-\"*10+f\"Answer {i+1}\"+\"-\"*10)\n",
    "  print(a.page_content)\n",
    "  print(a.metadata)\n",
    "     "
   ]
  },
  {
   "cell_type": "code",
   "execution_count": null,
   "id": "dbf94f4c-422e-45d9-950b-ea6c4436746f",
   "metadata": {},
   "outputs": [],
   "source": []
  },
  {
   "cell_type": "code",
   "execution_count": null,
   "id": "cd13f037-acfb-4fa3-88fb-211ff5484db8",
   "metadata": {},
   "outputs": [],
   "source": []
  }
 ],
 "metadata": {
  "kernelspec": {
   "display_name": "Python 3 (ipykernel)",
   "language": "python",
   "name": "python3"
  },
  "language_info": {
   "codemirror_mode": {
    "name": "ipython",
    "version": 3
   },
   "file_extension": ".py",
   "mimetype": "text/x-python",
   "name": "python",
   "nbconvert_exporter": "python",
   "pygments_lexer": "ipython3",
   "version": "3.10.6"
  }
 },
 "nbformat": 4,
 "nbformat_minor": 5
}
