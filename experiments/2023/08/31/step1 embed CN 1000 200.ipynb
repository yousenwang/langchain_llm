{
 "cells": [
  {
   "cell_type": "code",
   "execution_count": 1,
   "id": "15ab8b62-7c98-488b-8104-60afb95ae153",
   "metadata": {},
   "outputs": [],
   "source": [
    "# python 3.9.16\n",
    "\n",
    "#"
   ]
  },
  {
   "cell_type": "code",
   "execution_count": 2,
   "id": "1866b897-8f96-4023-9214-3094efc7f143",
   "metadata": {},
   "outputs": [],
   "source": [
    "# chunk_size=1000chunk_overlap=200\n",
    "# k=4(default)\n",
    "# 不用LLM"
   ]
  },
  {
   "cell_type": "code",
   "execution_count": 3,
   "id": "7ad2ba34-3d4c-4c43-9bcb-558c62389a4f",
   "metadata": {},
   "outputs": [
    {
     "name": "stdout",
     "output_type": "stream",
     "text": [
      "Name: langchain\n",
      "Version: 0.0.215\n",
      "Summary: Building applications with LLMs through composability\n",
      "Home-page: https://www.github.com/hwchase17/langchain\n",
      "Author: \n",
      "Author-email: \n",
      "License: MIT\n",
      "Location: /usr/local/lib/python3.10/site-packages\n",
      "Requires: aiohttp, async-timeout, dataclasses-json, langchainplus-sdk, numexpr, numpy, openapi-schema-pydantic, pydantic, PyYAML, requests, SQLAlchemy, tenacity\n",
      "Required-by: \n"
     ]
    }
   ],
   "source": [
    "!pip show langchain"
   ]
  },
  {
   "cell_type": "code",
   "execution_count": 2,
   "id": "f6b5c88c-af36-4488-b49a-4fd2745a5137",
   "metadata": {},
   "outputs": [
    {
     "name": "stderr",
     "output_type": "stream",
     "text": [
      "/usr/local/lib/python3.10/site-packages/InstructorEmbedding/instructor.py:7: TqdmExperimentalWarning: Using `tqdm.autonotebook.tqdm` in notebook mode. Use `tqdm.tqdm` instead to force console mode (e.g. in jupyter console)\n",
      "  from tqdm.autonotebook import trange\n"
     ]
    }
   ],
   "source": [
    "from langchain.vectorstores import Chroma\n",
    "from langchain.text_splitter import RecursiveCharacterTextSplitter\n",
    "# from langchain.llms import OpenAI\n",
    "from langchain.chains import RetrievalQA, RetrievalQAWithSourcesChain\n",
    "# from langchain.document_loaders import TextLoader\n",
    "from langchain.document_loaders import PyPDFLoader\n",
    "from langchain.document_loaders import DirectoryLoader\n",
    "\n",
    "\n",
    "from InstructorEmbedding import INSTRUCTOR\n",
    "from langchain.embeddings import HuggingFaceInstructEmbeddings"
   ]
  },
  {
   "cell_type": "code",
   "execution_count": 3,
   "id": "8113e01a-7df4-4712-9099-0938bfd0d728",
   "metadata": {},
   "outputs": [],
   "source": [
    "loader = DirectoryLoader('./chinese_pdf', glob=\"./*.pdf\", loader_cls=PyPDFLoader)\n",
    "\n",
    "documents = loader.load()\n"
   ]
  },
  {
   "cell_type": "code",
   "execution_count": 4,
   "id": "8ca9b04c-1218-4807-bbd5-07ce425273ce",
   "metadata": {},
   "outputs": [
    {
     "data": {
      "text/plain": [
       "24"
      ]
     },
     "execution_count": 4,
     "metadata": {},
     "output_type": "execute_result"
    }
   ],
   "source": [
    "len(documents)"
   ]
  },
  {
   "cell_type": "code",
   "execution_count": 8,
   "id": "a769d11d-8a43-44cb-aa02-5e01308ab3e3",
   "metadata": {},
   "outputs": [
    {
     "data": {
      "text/plain": [
       "Document(page_content=' \\n \\n      \\n保修管理 -厂家SOP \\n \\n \\n2022/11/07                                                  WM.1.0     \\n 2023/03/17                                                  WM.2.0 \\n目录 \\n基本资料  ................................ ................................ ................................ ................................ ... 3 \\n1. 角色管理  ................................ ................................ ................................ ..........................  3 \\n2. 账号管理  ................................ ................................ ................................ ..........................  3 \\n客户管理  ................................ ................................ ................................ ................................ ... 5 \\n1. 邀请客户  ................................ ................................ ................................ ..........................  5 \\n2. 关联客户  ................................ ................................ ................................ ..........................  5 \\n3. 客户清单  ................................ ................................ ................................ ..........................  6 \\n基础设定  ................................ ................................ ................................ ................................ ... 7 \\n1. 判定命名  ................................ ................................ ................................ ..........................  7 \\n2. 判定逻辑  ................................ ................................ ................................ ..........................  7 \\n3. 保修类别  ................................ ................................ ................................ ..........................  9 \\n4. 保修约定  ................................ ................................ ................................ ..........................  9 \\n', metadata={'source': 'chinese_pdf/保修管理-廠家sop-repair(去圖標).pdf', 'page': 0})"
      ]
     },
     "execution_count": 8,
     "metadata": {},
     "output_type": "execute_result"
    }
   ],
   "source": [
    "documents[0]"
   ]
  },
  {
   "cell_type": "code",
   "execution_count": 5,
   "id": "9a0efda1-143d-4aa5-866d-09dd0af9b4b5",
   "metadata": {},
   "outputs": [],
   "source": [
    "text_splitter = RecursiveCharacterTextSplitter(chunk_size=1000, chunk_overlap=200)\n",
    "texts = text_splitter.split_documents(documents)"
   ]
  },
  {
   "cell_type": "code",
   "execution_count": 6,
   "id": "bb4c5966-cffc-4d07-8d50-9c0ca34967a9",
   "metadata": {},
   "outputs": [
    {
     "data": {
      "text/plain": [
       "27"
      ]
     },
     "execution_count": 6,
     "metadata": {},
     "output_type": "execute_result"
    }
   ],
   "source": [
    "len(texts)"
   ]
  },
  {
   "cell_type": "code",
   "execution_count": 7,
   "id": "beeadafe-85e2-4c7d-ba5f-5475a66e48d3",
   "metadata": {},
   "outputs": [
    {
     "data": {
      "text/plain": [
       "Document(page_content='保修管理 -厂家SOP \\n \\n \\n2022/11/07                                                  WM.1.0     \\n 2023/03/17                                                  WM.2.0 \\n目录 \\n基本资料  ................................ ................................ ................................ ................................ ... 3 \\n1. 角色管理  ................................ ................................ ................................ ..........................  3 \\n2. 账号管理  ................................ ................................ ................................ ..........................  3 \\n客户管理  ................................ ................................ ................................ ................................ ... 5 \\n1. 邀请客户  ................................ ................................ ................................ ..........................  5', metadata={'source': 'chinese_pdf/保修管理-廠家sop-repair(去圖標).pdf', 'page': 0})"
      ]
     },
     "execution_count": 7,
     "metadata": {},
     "output_type": "execute_result"
    }
   ],
   "source": [
    "texts[0]"
   ]
  },
  {
   "cell_type": "code",
   "execution_count": 13,
   "id": "22e7b9a4-f65f-4011-b6d0-80b8fc93a3fd",
   "metadata": {},
   "outputs": [],
   "source": [
    "import sys,os,os.path\n",
    "os.environ['HTTP_PROXY']=\"http://127.0.0.1:8098\"\n",
    "os.environ['HTTPS_PROXY']=\"http://127.0.0.1:8098\""
   ]
  },
  {
   "cell_type": "code",
   "execution_count": 14,
   "id": "fdabc86e-beff-4464-8a89-62bc846180e2",
   "metadata": {},
   "outputs": [
    {
     "name": "stderr",
     "output_type": "stream",
     "text": [
      "No sentence-transformers model found with name /root/.cache/torch/sentence_transformers/GanymedeNil_text2vec-large-chinese. Creating a new one with MEAN pooling.\n",
      "2023-08-31 11:17:26.183535: I tensorflow/core/platform/cpu_feature_guard.cc:182] This TensorFlow binary is optimized to use available CPU instructions in performance-critical operations.\n",
      "To enable the following instructions: AVX2 AVX512F FMA, in other operations, rebuild TensorFlow with the appropriate compiler flags.\n",
      "2023-08-31 11:17:27.120392: W tensorflow/compiler/tf2tensorrt/utils/py_utils.cc:38] TF-TRT Warning: Could not find TensorRT\n"
     ]
    }
   ],
   "source": [
    "from langchain.embeddings import HuggingFaceInstructEmbeddings\n",
    "\n",
    "instructor_embeddings = HuggingFaceInstructEmbeddings(\n",
    "    model_name=\"GanymedeNil/text2vec-large-chinese\",\n",
    "    model_kwargs={\"device\": \"cuda\"}\n",
    "    # local_files_only=True\n",
    ")"
   ]
  },
  {
   "cell_type": "code",
   "execution_count": 15,
   "id": "b6418645-c722-487a-a243-ba4245d4587b",
   "metadata": {},
   "outputs": [],
   "source": [
    "persist_directory = 'db_cn'\n",
    "vectordb = Chroma.from_documents(documents=texts,\n",
    "                                 embedding=instructor_embeddings,\n",
    "                                 persist_directory=persist_directory)"
   ]
  },
  {
   "cell_type": "code",
   "execution_count": null,
   "id": "7fcd805b-0d7f-4e67-adad-9e32cff24e2d",
   "metadata": {},
   "outputs": [],
   "source": []
  },
  {
   "cell_type": "code",
   "execution_count": 16,
   "id": "95175620-fb50-434e-ad5f-279f26b4b861",
   "metadata": {},
   "outputs": [],
   "source": [
    "vectordb.persist()"
   ]
  },
  {
   "cell_type": "code",
   "execution_count": 17,
   "id": "0ac1c670-a655-4478-8c58-4d503f187fb8",
   "metadata": {},
   "outputs": [
    {
     "name": "stdout",
     "output_type": "stream",
     "text": [
      "huggingface/tokenizers: The current process just got forked, after parallelism has already been used. Disabling parallelism to avoid deadlocks...\n",
      "To disable this warning, you can either:\n",
      "\t- Avoid using `tokenizers` before the fork if possible\n",
      "\t- Explicitly set the environment variable TOKENIZERS_PARALLELISM=(true | false)\n",
      "Thu Aug 31 11:18:20 2023       \n",
      "+---------------------------------------------------------------------------------------+\n",
      "| NVIDIA-SMI 535.54.03              Driver Version: 535.54.03    CUDA Version: 12.2     |\n",
      "|-----------------------------------------+----------------------+----------------------+\n",
      "| GPU  Name                 Persistence-M | Bus-Id        Disp.A | Volatile Uncorr. ECC |\n",
      "| Fan  Temp   Perf          Pwr:Usage/Cap |         Memory-Usage | GPU-Util  Compute M. |\n",
      "|                                         |                      |               MIG M. |\n",
      "|=========================================+======================+======================|\n",
      "|   0  Tesla T4                       Off | 00000000:AF:00.0 Off |                    0 |\n",
      "| N/A   55C    P0              30W /  70W |   2739MiB / 15360MiB |      0%      Default |\n",
      "|                                         |                      |                  N/A |\n",
      "+-----------------------------------------+----------------------+----------------------+\n",
      "                                                                                         \n",
      "+---------------------------------------------------------------------------------------+\n",
      "| Processes:                                                                            |\n",
      "|  GPU   GI   CI        PID   Type   Process name                            GPU Memory |\n",
      "|        ID   ID                                                             Usage      |\n",
      "|=======================================================================================|\n",
      "|    0   N/A  N/A    100803      C   /usr/local/bin/python3.10                  2734MiB |\n",
      "+---------------------------------------------------------------------------------------+\n"
     ]
    }
   ],
   "source": [
    "!nvidia-smi"
   ]
  },
  {
   "cell_type": "code",
   "execution_count": 15,
   "id": "c9cdc3db-5328-4869-adf4-93cca0507c5b",
   "metadata": {},
   "outputs": [],
   "source": [
    "vectordb = None"
   ]
  },
  {
   "cell_type": "code",
   "execution_count": 18,
   "id": "c813a5af-c77a-4a5b-aed5-582736c855b4",
   "metadata": {},
   "outputs": [],
   "source": [
    "q2 = \"在哪里可以设定机种?\""
   ]
  },
  {
   "cell_type": "code",
   "execution_count": 20,
   "id": "f84a399f-bf19-4e3e-b5a8-a8b3c896c184",
   "metadata": {},
   "outputs": [],
   "source": [
    "retriever = vectordb.as_retriever(\n",
    "    search_type=\"similarity_score_threshold\",\n",
    "    search_kwargs={'score_threshold': 0.8}\n",
    ")"
   ]
  },
  {
   "cell_type": "code",
   "execution_count": 21,
   "id": "4ff820c6-7be5-4613-bc60-542687ac3831",
   "metadata": {},
   "outputs": [
    {
     "name": "stderr",
     "output_type": "stream",
     "text": [
      "/usr/local/lib/python3.10/site-packages/langchain/vectorstores/base.py:256: UserWarning: Relevance scores must be between 0 and 1, got [(Document(page_content='选择是否设定附加规则 , 限制 SN长度或厂家代码范围等 , 设定完毕后 , 点击【保存】 , \\n完成该产品序列号判定逻辑设定 .', metadata={'source': 'chinese_pdf/保修管理-廠家sop-repair(去圖標).pdf', 'page': 7}), -340.9338618640956), (Document(page_content='选定不良代码 , 点击进入客户绑定页面 ; 勾选客户 , 点击【保存】完成不良判定代码\\n与客户的绑定 ; \\n \\n \\n保修设定  \\n1. 定义产品 (整机料号信息 ) \\n单笔或批量将产品信息导入系统 ,包含机种、厂家料号、客户料号、供应商料号、替代\\n料号等信息  \\n1.1 机种管理  \\n若产品涉及机种 , 需先将机种信息新增至系统 , 以便后续选择 . \\na. 单笔新增机种  \\n厂家保修管理 后台 ->保修设定 ->定义产品 , 点击【机种管理】按钮 , 点击【新增】填写\\n机种名称 , 点击【保存】完成 ;', metadata={'source': 'chinese_pdf/保修管理-廠家sop-repair(去圖標).pdf', 'page': 10}), -360.7415697286397), (Document(page_content='1.9 产品与附件绑定  \\n本操作步骤 , 需要在本章 2. 定义附件  操作完成后进行 . \\n厂家保修管理 后台 ->保修设定 ->定义产品 , 选定产品 , 点击按钮 , 点击【绑定附件】并勾\\n选对应附 件、填写数量 , 点击【绑定】完成 ; \\n \\n \\n2. 定义部件 （备品料号信息）  \\n若部件中涉及机种管理 , 亦需先新增或上传机种 , 而后操作步骤同定义产品  \\n2.1 新增部件机种  \\n点击【机种管理】按钮 , 点击【新增】单笔新增机种 ; 点击【上传机种】下载模板 , 批\\n量新增机种 ;  \\n2.2 新增部件  \\n点击【新增部件】单笔新增部件 ; 点击【上传部件】下拉框 , 下载模板批量新增部件 ; \\n2.3 新增部件客户料号 ; \\n点击【料号对照】添加客户料号 , 选定产品 , 点击单笔添加 ; 点击【料号对照】下载模\\n板, 批量上传料号 ; \\n2.3 新增供应商料号  \\n点击【供应商料号】 , 选定产品 , 点击按钮 , 点击【添加供应商】 , 添加供应商及供应\\n商料号 , 【保存】完成 .', metadata={'source': 'chinese_pdf/保修管理-廠家sop-repair(去圖標).pdf', 'page': 16}), -362.67709327697185), (Document(page_content='点击【添加代码】 , 选择原因类别 , 编辑原因代码及保修原因 , 选填解决办法 , 勾选\\n适用客户 , 点击【保存】完成保修代码设定  \\n \\n5. 定义附件  \\n单笔或批量将 附件信息导入系统 . \\n厂家保修管理后台 ->保修设定 ->定义附件 , 点击【新增附件】输入附件名称及备注 , 完\\n成单笔新增附件 ;', metadata={'source': 'chinese_pdf/保修管理-廠家sop-repair(去圖標).pdf', 'page': 19}), -373.34364197469364)]\n",
      "  warnings.warn(\n",
      "/usr/local/lib/python3.10/site-packages/langchain/vectorstores/base.py:268: UserWarning: No relevant docs were retrieved using the relevance score threshold 0.8\n",
      "  warnings.warn(\n"
     ]
    },
    {
     "data": {
      "text/plain": [
       "[]"
      ]
     },
     "execution_count": 21,
     "metadata": {},
     "output_type": "execute_result"
    }
   ],
   "source": [
    "retriever.get_relevant_documents(q2)"
   ]
  },
  {
   "cell_type": "code",
   "execution_count": 34,
   "id": "4637e0b9-5665-4dc4-a79c-c514b082c295",
   "metadata": {},
   "outputs": [
    {
     "name": "stderr",
     "output_type": "stream",
     "text": [
      "/usr/local/lib/python3.10/site-packages/langchain/vectorstores/base.py:256: UserWarning: Relevance scores must be between 0 and 1, got [(Document(page_content='选择是否设定附加规则 , 限制 SN长度或厂家代码范围等 , 设定完毕后 , 点击【保存】 , \\n完成该产品序列号判定逻辑设定 .', metadata={'source': 'chinese_pdf/保修管理-廠家sop-repair(去圖標).pdf', 'page': 7}), -340.9338618640956), (Document(page_content='选定不良代码 , 点击进入客户绑定页面 ; 勾选客户 , 点击【保存】完成不良判定代码\\n与客户的绑定 ; \\n \\n \\n保修设定  \\n1. 定义产品 (整机料号信息 ) \\n单笔或批量将产品信息导入系统 ,包含机种、厂家料号、客户料号、供应商料号、替代\\n料号等信息  \\n1.1 机种管理  \\n若产品涉及机种 , 需先将机种信息新增至系统 , 以便后续选择 . \\na. 单笔新增机种  \\n厂家保修管理 后台 ->保修设定 ->定义产品 , 点击【机种管理】按钮 , 点击【新增】填写\\n机种名称 , 点击【保存】完成 ;', metadata={'source': 'chinese_pdf/保修管理-廠家sop-repair(去圖標).pdf', 'page': 10}), -360.7415697286397), (Document(page_content='1.9 产品与附件绑定  \\n本操作步骤 , 需要在本章 2. 定义附件  操作完成后进行 . \\n厂家保修管理 后台 ->保修设定 ->定义产品 , 选定产品 , 点击按钮 , 点击【绑定附件】并勾\\n选对应附 件、填写数量 , 点击【绑定】完成 ; \\n \\n \\n2. 定义部件 （备品料号信息）  \\n若部件中涉及机种管理 , 亦需先新增或上传机种 , 而后操作步骤同定义产品  \\n2.1 新增部件机种  \\n点击【机种管理】按钮 , 点击【新增】单笔新增机种 ; 点击【上传机种】下载模板 , 批\\n量新增机种 ;  \\n2.2 新增部件  \\n点击【新增部件】单笔新增部件 ; 点击【上传部件】下拉框 , 下载模板批量新增部件 ; \\n2.3 新增部件客户料号 ; \\n点击【料号对照】添加客户料号 , 选定产品 , 点击单笔添加 ; 点击【料号对照】下载模\\n板, 批量上传料号 ; \\n2.3 新增供应商料号  \\n点击【供应商料号】 , 选定产品 , 点击按钮 , 点击【添加供应商】 , 添加供应商及供应\\n商料号 , 【保存】完成 .', metadata={'source': 'chinese_pdf/保修管理-廠家sop-repair(去圖標).pdf', 'page': 16}), -362.67709327697185)]\n",
      "  warnings.warn(\n"
     ]
    },
    {
     "data": {
      "text/plain": [
       "[(Document(page_content='选择是否设定附加规则 , 限制 SN长度或厂家代码范围等 , 设定完毕后 , 点击【保存】 , \\n完成该产品序列号判定逻辑设定 .', metadata={'source': 'chinese_pdf/保修管理-廠家sop-repair(去圖標).pdf', 'page': 7}),\n",
       "  -340.9338618640956),\n",
       " (Document(page_content='选定不良代码 , 点击进入客户绑定页面 ; 勾选客户 , 点击【保存】完成不良判定代码\\n与客户的绑定 ; \\n \\n \\n保修设定  \\n1. 定义产品 (整机料号信息 ) \\n单笔或批量将产品信息导入系统 ,包含机种、厂家料号、客户料号、供应商料号、替代\\n料号等信息  \\n1.1 机种管理  \\n若产品涉及机种 , 需先将机种信息新增至系统 , 以便后续选择 . \\na. 单笔新增机种  \\n厂家保修管理 后台 ->保修设定 ->定义产品 , 点击【机种管理】按钮 , 点击【新增】填写\\n机种名称 , 点击【保存】完成 ;', metadata={'source': 'chinese_pdf/保修管理-廠家sop-repair(去圖標).pdf', 'page': 10}),\n",
       "  -360.7415697286397),\n",
       " (Document(page_content='1.9 产品与附件绑定  \\n本操作步骤 , 需要在本章 2. 定义附件  操作完成后进行 . \\n厂家保修管理 后台 ->保修设定 ->定义产品 , 选定产品 , 点击按钮 , 点击【绑定附件】并勾\\n选对应附 件、填写数量 , 点击【绑定】完成 ; \\n \\n \\n2. 定义部件 （备品料号信息）  \\n若部件中涉及机种管理 , 亦需先新增或上传机种 , 而后操作步骤同定义产品  \\n2.1 新增部件机种  \\n点击【机种管理】按钮 , 点击【新增】单笔新增机种 ; 点击【上传机种】下载模板 , 批\\n量新增机种 ;  \\n2.2 新增部件  \\n点击【新增部件】单笔新增部件 ; 点击【上传部件】下拉框 , 下载模板批量新增部件 ; \\n2.3 新增部件客户料号 ; \\n点击【料号对照】添加客户料号 , 选定产品 , 点击单笔添加 ; 点击【料号对照】下载模\\n板, 批量上传料号 ; \\n2.3 新增供应商料号  \\n点击【供应商料号】 , 选定产品 , 点击按钮 , 点击【添加供应商】 , 添加供应商及供应\\n商料号 , 【保存】完成 .', metadata={'source': 'chinese_pdf/保修管理-廠家sop-repair(去圖標).pdf', 'page': 16}),\n",
       "  -362.67709327697185)]"
      ]
     },
     "execution_count": 34,
     "metadata": {},
     "output_type": "execute_result"
    }
   ],
   "source": [
    "vectordb.similarity_search_with_relevance_scores(q2, k=3)"
   ]
  },
  {
   "cell_type": "code",
   "execution_count": 22,
   "id": "f19066ca-0f9d-4871-adcf-6f1f4642d3bd",
   "metadata": {},
   "outputs": [],
   "source": [
    "retriever_k = vectordb.as_retriever(\n",
    "    search_kwargs={'k': 3}\n",
    ")"
   ]
  },
  {
   "cell_type": "code",
   "execution_count": 30,
   "id": "5b989f6b-8670-41e2-94a5-3d67d139bcc6",
   "metadata": {},
   "outputs": [
    {
     "data": {
      "text/plain": [
       "<langchain.vectorstores.chroma.Chroma at 0x7f6da2472e60>"
      ]
     },
     "execution_count": 30,
     "metadata": {},
     "output_type": "execute_result"
    }
   ],
   "source": [
    "retriever_k.vectorstore"
   ]
  },
  {
   "cell_type": "code",
   "execution_count": 25,
   "id": "1306f1ed-3e5e-4cd7-b663-dac82d1d9a4c",
   "metadata": {},
   "outputs": [],
   "source": [
    "ans2 = retriever_k.get_relevant_documents(q2)"
   ]
  },
  {
   "cell_type": "code",
   "execution_count": 28,
   "id": "98d28657-6849-4a7e-835b-e132b0d5761e",
   "metadata": {},
   "outputs": [
    {
     "data": {
      "text/plain": [
       "3"
      ]
     },
     "execution_count": 28,
     "metadata": {},
     "output_type": "execute_result"
    }
   ],
   "source": [
    "len(ans2)"
   ]
  },
  {
   "cell_type": "code",
   "execution_count": 24,
   "id": "6a5ceaf0-c0f8-4e83-9dbb-fdcfe0a6f9b6",
   "metadata": {},
   "outputs": [],
   "source": [
    "def generate_from_template(context, query):\n",
    "  return  f\"\"\"使用以下上下文来回答最后的问题。如果你不知道答案，就说你不知道，不要试图编造答案。\n",
    "\n",
    "  {context}\n",
    "\n",
    "  問題: {query}\n",
    "  答案:\"\"\""
   ]
  },
  {
   "cell_type": "code",
   "execution_count": 27,
   "id": "971efe9a-2556-4126-a554-1af6975c4c33",
   "metadata": {},
   "outputs": [
    {
     "name": "stdout",
     "output_type": "stream",
     "text": [
      "使用以下上下文来回答最后的问题。如果你不知道答案，就说你不知道，不要试图编造答案。\n",
      "\n",
      "  选择是否设定附加规则 , 限制 SN长度或厂家代码范围等 , 设定完毕后 , 点击【保存】 , \n",
      "完成该产品序列号判定逻辑设定 .选定不良代码 , 点击进入客户绑定页面 ; 勾选客户 , 点击【保存】完成不良判定代码\n",
      "与客户的绑定 ; \n",
      " \n",
      " \n",
      "保修设定  \n",
      "1. 定义产品 (整机料号信息 ) \n",
      "单笔或批量将产品信息导入系统 ,包含机种、厂家料号、客户料号、供应商料号、替代\n",
      "料号等信息  \n",
      "1.1 机种管理  \n",
      "若产品涉及机种 , 需先将机种信息新增至系统 , 以便后续选择 . \n",
      "a. 单笔新增机种  \n",
      "厂家保修管理 后台 ->保修设定 ->定义产品 , 点击【机种管理】按钮 , 点击【新增】填写\n",
      "机种名称 , 点击【保存】完成 ;1.9 产品与附件绑定  \n",
      "本操作步骤 , 需要在本章 2. 定义附件  操作完成后进行 . \n",
      "厂家保修管理 后台 ->保修设定 ->定义产品 , 选定产品 , 点击按钮 , 点击【绑定附件】并勾\n",
      "选对应附 件、填写数量 , 点击【绑定】完成 ; \n",
      " \n",
      " \n",
      "2. 定义部件 （备品料号信息）  \n",
      "若部件中涉及机种管理 , 亦需先新增或上传机种 , 而后操作步骤同定义产品  \n",
      "2.1 新增部件机种  \n",
      "点击【机种管理】按钮 , 点击【新增】单笔新增机种 ; 点击【上传机种】下载模板 , 批\n",
      "量新增机种 ;  \n",
      "2.2 新增部件  \n",
      "点击【新增部件】单笔新增部件 ; 点击【上传部件】下拉框 , 下载模板批量新增部件 ; \n",
      "2.3 新增部件客户料号 ; \n",
      "点击【料号对照】添加客户料号 , 选定产品 , 点击单笔添加 ; 点击【料号对照】下载模\n",
      "板, 批量上传料号 ; \n",
      "2.3 新增供应商料号  \n",
      "点击【供应商料号】 , 选定产品 , 点击按钮 , 点击【添加供应商】 , 添加供应商及供应\n",
      "商料号 , 【保存】完成 .\n",
      "\n",
      "  問題: 在哪里可以设定机种?\n",
      "  答案:\n"
     ]
    }
   ],
   "source": [
    "\n",
    "content_with_ans2 = \"\"\n",
    "for i, a in enumerate(ans2):\n",
    "  content_with_ans2+=a.page_content\n",
    "\n",
    "prompt2 = generate_from_template(content_with_ans2, q2)\n",
    "print(prompt2)\n"
   ]
  },
  {
   "cell_type": "code",
   "execution_count": 35,
   "id": "01185db3-9ae0-4301-aadb-2a655c4418ac",
   "metadata": {},
   "outputs": [],
   "source": [
    "q1 = \"如何设定判定逻辑?\""
   ]
  },
  {
   "cell_type": "code",
   "execution_count": 36,
   "id": "c7017f76-5c97-43e6-8e2a-d86f8ffd8d4a",
   "metadata": {},
   "outputs": [],
   "source": [
    "ans1 = retriever_k.get_relevant_documents(q1)"
   ]
  },
  {
   "cell_type": "code",
   "execution_count": 37,
   "id": "2a0d35b9-c4c8-44b7-a028-cb297b98f251",
   "metadata": {},
   "outputs": [
    {
     "name": "stdout",
     "output_type": "stream",
     "text": [
      "使用以下上下文来回答最后的问题。如果你不知道答案，就说你不知道，不要试图编造答案。\n",
      "\n",
      "  选择是否设定附加规则 , 限制 SN长度或厂家代码范围等 , 设定完毕后 , 点击【保存】 , \n",
      "完成该产品序列号判定逻辑设定 .2.2 检验逻辑设定   \n",
      "逻辑判定设置完成后 , 厂家保修管理 后台->基础设定 ->判定逻辑 , 点击进入逻辑判定\n",
      "页面, 最下方输入 PPID, 点击【解析】检验逻辑设定 ;如下图, 可依规则自动解析出厂\n",
      "时间等信息 . \n",
      " \n",
      "3. 保修类别  \n",
      "厂家保修管理 后台->基础设定 ->保修类别，点击【新增设定】 , 设定需要为产品配置\n",
      "的保修类别 ,填写服务类型、时效值及单位 , 点击【保存】完成 ; \n",
      " \n",
      " \n",
      "4. 保修约定  \n",
      "当产品保修及保修卡无法满足保修需求时 , 可添加保修约定 .基础设定  \n",
      "1. 判定命名  \n",
      "厂家保修管理 后台->基础设定 ->判定命名 ,依用户习惯 , 自主设定相关栏位名称 , 设定\n",
      "后, 系统相关栏位均以设定名称显示 . \n",
      " \n",
      "2. 判定逻辑  \n",
      "设定PPID/SN的逻辑规则 , 用于解析保修起点日期等信息 . \n",
      "2.1 添加/编辑判定逻辑  \n",
      "厂家保修管理 后台->基础设定 ->判定逻辑 , 点击【添加】按钮 , 添加判定逻辑 ;选定判\n",
      "定逻辑, 点击对该判定逻辑进行编辑 ; \n",
      " \n",
      "填写解码规则名称、说明、 SN样例；点击【编辑】按钮 进行应用 ; \n",
      " \n",
      "填写 PPID/SN子串区段 , 依照子串区段 的代表意义 , 可自定义规则  \n",
      "如下图中点击【月份 规则自定义】 ，  进入自定义模块后 , 点击【新增码值】 , 可自定义\n",
      "月份解析规则 , 例如 , 可依 PPID/SN规则设定 A代表 10月, B代表 11月份 , C代表 12月\n",
      "份; \n",
      "【添加一项自定义规则】可添加 PPID/SN子串逻辑自定义规则 .\n",
      "\n",
      "  問題: 如何设定判定逻辑?\n",
      "  答案:\n"
     ]
    }
   ],
   "source": [
    "\n",
    "content_with_ans1 = \"\"\n",
    "for i, a in enumerate(ans1):\n",
    "  content_with_ans1+=a.page_content\n",
    "\n",
    "prompt1 = generate_from_template(content_with_ans1, q1)\n",
    "print(prompt1)\n"
   ]
  },
  {
   "cell_type": "code",
   "execution_count": 38,
   "id": "85a98e5c-9a3a-4a0b-b4e2-3994db0a56be",
   "metadata": {},
   "outputs": [],
   "source": [
    "q3 = \"平台可以自动核准保修申请吗?\""
   ]
  },
  {
   "cell_type": "code",
   "execution_count": 39,
   "id": "08d34381-b7dc-4d52-b333-ae3d2c97c8d3",
   "metadata": {},
   "outputs": [],
   "source": [
    "ans3 = retriever_k.get_relevant_documents(q3)"
   ]
  },
  {
   "cell_type": "code",
   "execution_count": 40,
   "id": "9c99741b-7b71-4555-a1e7-822e7b3f48d2",
   "metadata": {},
   "outputs": [
    {
     "name": "stdout",
     "output_type": "stream",
     "text": [
      "使用以下上下文来回答最后的问题。如果你不知道答案，就说你不知道，不要试图编造答案。\n",
      "\n",
      "  点击【上传附件】下拉框 , 选择【下载模板】填写附件相关信息 , 【批量上传】将编辑好\n",
      "的文档上传 , 完成批量新增附件 . \n",
      " \n",
      "保修作业  \n",
      "1. 保修申请 （手动核准） \n",
      "若厂家在客户清单中 , 对应客户已设置【自动核准】功能 ; 客户进行保修申请后 , 平台\n",
      "依保修条件进行自动核准并分配 ware no.; 若未设定自动核准 , 即可通过手动核准进行\n",
      "作业 ; 手动核准作业如下 : \n",
      "客户进行保修申请后 , 厂家后台保修申请方有数据 ; \n",
      "厂家保修管理 后台 ->保修作业 ->保修申请 , 选择对应送修项目 , 点击按钮进入送修信息 ; \n",
      " \n",
      "点击可查看客户信息 , 点击【接受】进行核准 , 点击【拒绝】进行驳回 ， 需填写拒绝\n",
      "原因; 当客户送修系统判定不可接受时 (即不符合厂家保修设定 ), 点击可变更核准状\n",
      "态, 选择保修设定后接受或者拒绝 ;3. 单号提交  \n",
      "厂家保修管理 后台->保修作业 ->单号提交 , 点击按钮, 勾选对应栏位 , 点击【确定】\n",
      "可移动或合并 Ware no.分组(同客户同申请人可移动至同一组内 ); 点击提交单号 , \n",
      "ware no.即生成. \n",
      " \n",
      "4. 进度追踪  \n",
      "4.1 查看保修进度  \n",
      "厂家保修管理 后台->保修作业 ->进度追踪 , 点击【保修单号】 , 点击进入送修信息 ; 可\n",
      "查看保修及物流进度 ; 【查看报告】 查看服务中心的维修报告 ; 点击可查看该笔 SN的\n",
      "产品详情、保修详情、物流资讯和服务进度 .2.2 检验逻辑设定   \n",
      "逻辑判定设置完成后 , 厂家保修管理 后台->基础设定 ->判定逻辑 , 点击进入逻辑判定\n",
      "页面, 最下方输入 PPID, 点击【解析】检验逻辑设定 ;如下图, 可依规则自动解析出厂\n",
      "时间等信息 . \n",
      " \n",
      "3. 保修类别  \n",
      "厂家保修管理 后台->基础设定 ->保修类别，点击【新增设定】 , 设定需要为产品配置\n",
      "的保修类别 ,填写服务类型、时效值及单位 , 点击【保存】完成 ; \n",
      " \n",
      " \n",
      "4. 保修约定  \n",
      "当产品保修及保修卡无法满足保修需求时 , 可添加保修约定 .\n",
      "\n",
      "  問題: 平台可以自动核准保修申请吗?\n",
      "  答案:\n"
     ]
    }
   ],
   "source": [
    "\n",
    "content_with_ans3 = \"\"\n",
    "for i, a in enumerate(ans3):\n",
    "  content_with_ans3+=a.page_content\n",
    "\n",
    "prompt3 = generate_from_template(content_with_ans3, q3)\n",
    "print(prompt3)\n"
   ]
  },
  {
   "cell_type": "code",
   "execution_count": 41,
   "id": "a30d78c4-5920-46cc-8c20-81bca0d0be88",
   "metadata": {},
   "outputs": [],
   "source": [
    "q4 = \"自动核准后还需要进行单号提交吗?\""
   ]
  },
  {
   "cell_type": "code",
   "execution_count": 44,
   "id": "3d1d5a0e-df0d-4aec-8d8b-7badde4c43f0",
   "metadata": {},
   "outputs": [],
   "source": [
    "ans4 = retriever_k.get_relevant_documents(q4)"
   ]
  },
  {
   "cell_type": "code",
   "execution_count": 45,
   "id": "5a19ba3d-4296-4731-b845-d51179f54ec6",
   "metadata": {},
   "outputs": [
    {
     "name": "stdout",
     "output_type": "stream",
     "text": [
      "使用以下上下文来回答最后的问题。如果你不知道答案，就说你不知道，不要试图编造答案。\n",
      "\n",
      "  2. 单号分配  \n",
      "厂家保修管理 后台->保修作业 ->单号分配 , 勾选送修项目 , 点击【分配 Ware no. 】分\n",
      "配单号,同客户同申请人的送修清单 , 可一次分配 Ware no.;  \n",
      " \n",
      "勾选送修项目 , 点击【指派 Ware no.】, 系统根据产品型号、退运原因、维修地址、服\n",
      "务类型等对产品分类并分配  Ware no.;  \n",
      "备注 : 若客户需使用自主 RMA no.，亦可在【自定单号】添加客户指定 RMA no.点击【上传附件】下拉框 , 选择【下载模板】填写附件相关信息 , 【批量上传】将编辑好\n",
      "的文档上传 , 完成批量新增附件 . \n",
      " \n",
      "保修作业  \n",
      "1. 保修申请 （手动核准） \n",
      "若厂家在客户清单中 , 对应客户已设置【自动核准】功能 ; 客户进行保修申请后 , 平台\n",
      "依保修条件进行自动核准并分配 ware no.; 若未设定自动核准 , 即可通过手动核准进行\n",
      "作业 ; 手动核准作业如下 : \n",
      "客户进行保修申请后 , 厂家后台保修申请方有数据 ; \n",
      "厂家保修管理 后台 ->保修作业 ->保修申请 , 选择对应送修项目 , 点击按钮进入送修信息 ; \n",
      " \n",
      "点击可查看客户信息 , 点击【接受】进行核准 , 点击【拒绝】进行驳回 ， 需填写拒绝\n",
      "原因; 当客户送修系统判定不可接受时 (即不符合厂家保修设定 ), 点击可变更核准状\n",
      "态, 选择保修设定后接受或者拒绝 ;3. 单号提交  \n",
      "厂家保修管理 后台->保修作业 ->单号提交 , 点击按钮, 勾选对应栏位 , 点击【确定】\n",
      "可移动或合并 Ware no.分组(同客户同申请人可移动至同一组内 ); 点击提交单号 , \n",
      "ware no.即生成. \n",
      " \n",
      "4. 进度追踪  \n",
      "4.1 查看保修进度  \n",
      "厂家保修管理 后台->保修作业 ->进度追踪 , 点击【保修单号】 , 点击进入送修信息 ; 可\n",
      "查看保修及物流进度 ; 【查看报告】 查看服务中心的维修报告 ; 点击可查看该笔 SN的\n",
      "产品详情、保修详情、物流资讯和服务进度 .\n",
      "\n",
      "  問題: 自动核准后还需要进行单号提交吗?\n",
      "  答案:\n"
     ]
    }
   ],
   "source": [
    "\n",
    "content_with_ans4 = \"\"\n",
    "for i, a in enumerate(ans4):\n",
    "  content_with_ans4+=a.page_content\n",
    "\n",
    "prompt4 = generate_from_template(content_with_ans4, q4)\n",
    "print(prompt4)\n"
   ]
  },
  {
   "cell_type": "code",
   "execution_count": 46,
   "id": "f90d09a4-dc25-45b1-87b1-079e0abf7322",
   "metadata": {},
   "outputs": [],
   "source": [
    "q5 = \"怎么查看保修进度?\""
   ]
  },
  {
   "cell_type": "code",
   "execution_count": 47,
   "id": "9bfad4c0-051a-4236-b6e8-c0b06fbdc55d",
   "metadata": {},
   "outputs": [],
   "source": [
    "ans5 = retriever_k.get_relevant_documents(q5)"
   ]
  },
  {
   "cell_type": "code",
   "execution_count": 48,
   "id": "40f19efd-bf48-4661-beb2-a750d8ec3c5c",
   "metadata": {},
   "outputs": [
    {
     "name": "stdout",
     "output_type": "stream",
     "text": [
      "使用以下上下文来回答最后的问题。如果你不知道答案，就说你不知道，不要试图编造答案。\n",
      "\n",
      "  3. 单号提交  \n",
      "厂家保修管理 后台->保修作业 ->单号提交 , 点击按钮, 勾选对应栏位 , 点击【确定】\n",
      "可移动或合并 Ware no.分组(同客户同申请人可移动至同一组内 ); 点击提交单号 , \n",
      "ware no.即生成. \n",
      " \n",
      "4. 进度追踪  \n",
      "4.1 查看保修进度  \n",
      "厂家保修管理 后台->保修作业 ->进度追踪 , 点击【保修单号】 , 点击进入送修信息 ; 可\n",
      "查看保修及物流进度 ; 【查看报告】 查看服务中心的维修报告 ; 点击可查看该笔 SN的\n",
      "产品详情、保修详情、物流资讯和服务进度 .3. 产品保修 （维修服务 , “退运流程”设置完成后设置）  \n",
      "厂家后台 ->保修设定 ->产品保修 , 选定对应客户 , 点击按钮进入页面 ; 点击【新增】设\n",
      "置产品保修 ; \n",
      " \n",
      " \n",
      "点击【选择类别】 , 选择维修 /翻新保修约定 , 选择预设置产品所对应的产品类别 , 选\n",
      "择保修期间服务内容、具体服务流程、保修期间时长等信息 , 填写完成点击【下一\n",
      "步】; \n",
      "备注: 保修期间服务内容 , 为上章基础设定中 【保修类别】中设定之 信息; 【服务流\n",
      "程】为送修至服务中心 , 本次需选择；  【服务地址 】为送修至厂家 , 不经服务中心 , \n",
      "本次不选择 ; \n",
      " \n",
      "添加产品 PN, 点击【批量添加 PN】， 带出相同类别 PN产品, 勾选后确认 , 即完成产\n",
      "品保修设定2.2 检验逻辑设定   \n",
      "逻辑判定设置完成后 , 厂家保修管理 后台->基础设定 ->判定逻辑 , 点击进入逻辑判定\n",
      "页面, 最下方输入 PPID, 点击【解析】检验逻辑设定 ;如下图, 可依规则自动解析出厂\n",
      "时间等信息 . \n",
      " \n",
      "3. 保修类别  \n",
      "厂家保修管理 后台->基础设定 ->保修类别，点击【新增设定】 , 设定需要为产品配置\n",
      "的保修类别 ,填写服务类型、时效值及单位 , 点击【保存】完成 ; \n",
      " \n",
      " \n",
      "4. 保修约定  \n",
      "当产品保修及保修卡无法满足保修需求时 , 可添加保修约定 .\n",
      "\n",
      "  問題: 怎么查看保修进度?\n",
      "  答案:\n"
     ]
    }
   ],
   "source": [
    "\n",
    "content_with_ans5 = \"\"\n",
    "for i, a in enumerate(ans5):\n",
    "  content_with_ans5+=a.page_content\n",
    "\n",
    "prompt5 = generate_from_template(content_with_ans5, q5)\n",
    "print(prompt5)\n"
   ]
  },
  {
   "cell_type": "code",
   "execution_count": null,
   "id": "a2124e70-729e-4954-aadb-77a7595a7058",
   "metadata": {},
   "outputs": [],
   "source": []
  }
 ],
 "metadata": {
  "kernelspec": {
   "display_name": "Python 3 (ipykernel)",
   "language": "python",
   "name": "python3"
  },
  "language_info": {
   "codemirror_mode": {
    "name": "ipython",
    "version": 3
   },
   "file_extension": ".py",
   "mimetype": "text/x-python",
   "name": "python",
   "nbconvert_exporter": "python",
   "pygments_lexer": "ipython3",
   "version": "3.10.6"
  }
 },
 "nbformat": 4,
 "nbformat_minor": 5
}
