{
 "cells": [
  {
   "cell_type": "code",
   "execution_count": 1,
   "id": "2109dcfb-82b7-4376-b183-f36d31ffc737",
   "metadata": {},
   "outputs": [],
   "source": [
    "import torch\n",
    "import transformers\n",
    "from transformers import AutoTokenizer, AutoModelForCausalLM"
   ]
  },
  {
   "cell_type": "code",
   "execution_count": 2,
   "id": "39316bbd-5243-487b-8bc4-fab39c645d5a",
   "metadata": {},
   "outputs": [],
   "source": [
    "# from huggingface_hub import notebook_login\n",
    "\n",
    "# notebook_login()\n"
   ]
  },
  {
   "cell_type": "code",
   "execution_count": 3,
   "id": "cbe47b3c-25ad-4049-a7ac-52bb8aab4d1c",
   "metadata": {},
   "outputs": [
    {
     "name": "stdout",
     "output_type": "stream",
     "text": [
      "Thu Aug 31 14:26:32 2023       \n",
      "+---------------------------------------------------------------------------------------+\n",
      "| NVIDIA-SMI 535.54.03              Driver Version: 535.54.03    CUDA Version: 12.2     |\n",
      "|-----------------------------------------+----------------------+----------------------+\n",
      "| GPU  Name                 Persistence-M | Bus-Id        Disp.A | Volatile Uncorr. ECC |\n",
      "| Fan  Temp   Perf          Pwr:Usage/Cap |         Memory-Usage | GPU-Util  Compute M. |\n",
      "|                                         |                      |               MIG M. |\n",
      "|=========================================+======================+======================|\n",
      "|   0  Tesla T4                       Off | 00000000:AF:00.0 Off |                    0 |\n",
      "| N/A   66C    P0              32W /  70W |      2MiB / 15360MiB |      6%      Default |\n",
      "|                                         |                      |                  N/A |\n",
      "+-----------------------------------------+----------------------+----------------------+\n",
      "                                                                                         \n",
      "+---------------------------------------------------------------------------------------+\n",
      "| Processes:                                                                            |\n",
      "|  GPU   GI   CI        PID   Type   Process name                            GPU Memory |\n",
      "|        ID   ID                                                             Usage      |\n",
      "|=======================================================================================|\n",
      "|  No running processes found                                                           |\n",
      "+---------------------------------------------------------------------------------------+\n"
     ]
    }
   ],
   "source": [
    "\n",
    "!nvidia-smi"
   ]
  },
  {
   "cell_type": "code",
   "execution_count": 4,
   "id": "915f3efe-26ac-42b3-88f0-dffaab82c6c0",
   "metadata": {},
   "outputs": [],
   "source": [
    "PATH = \"/root/.cache/huggingface/hub/models--meta-llama--Llama-2-7b-chat-hf\"\n",
    "model_name = \"FlagAlpha/Llama2-Chinese-7b-Chat\"\n",
    "tokenizer = AutoTokenizer.from_pretrained(pretrained_model_name_or_path=model_name,\n",
    "                                          local_files_only=True\n",
    "                                          # use_auth_token=True,\n",
    "                                         )\n",
    "\n"
   ]
  },
  {
   "cell_type": "code",
   "execution_count": 5,
   "id": "52e5a901-f05d-4607-b0d7-e8f7f25c795c",
   "metadata": {},
   "outputs": [
    {
     "name": "stderr",
     "output_type": "stream",
     "text": [
      "2023-08-31 14:26:37.146732: I tensorflow/core/platform/cpu_feature_guard.cc:182] This TensorFlow binary is optimized to use available CPU instructions in performance-critical operations.\n",
      "To enable the following instructions: AVX2 AVX512F FMA, in other operations, rebuild TensorFlow with the appropriate compiler flags.\n",
      "2023-08-31 14:26:38.034124: W tensorflow/compiler/tf2tensorrt/utils/py_utils.cc:38] TF-TRT Warning: Could not find TensorRT\n"
     ]
    },
    {
     "data": {
      "application/vnd.jupyter.widget-view+json": {
       "model_id": "3166e444d34648c0add968a6f8bf55fe",
       "version_major": 2,
       "version_minor": 0
      },
      "text/plain": [
       "Loading checkpoint shards:   0%|          | 0/2 [00:00<?, ?it/s]"
      ]
     },
     "metadata": {},
     "output_type": "display_data"
    },
    {
     "name": "stderr",
     "output_type": "stream",
     "text": [
      "/usr/local/lib/python3.10/site-packages/transformers/generation/configuration_utils.py:362: UserWarning: `do_sample` is set to `False`. However, `temperature` is set to `0.9` -- this flag is only used in sample-based generation modes. You should set `do_sample=True` or unset `temperature`. This was detected when initializing the generation config instance, which means the corresponding file may hold incorrect parameterization and should be fixed.\n",
      "  warnings.warn(\n",
      "/usr/local/lib/python3.10/site-packages/transformers/generation/configuration_utils.py:367: UserWarning: `do_sample` is set to `False`. However, `top_p` is set to `0.6` -- this flag is only used in sample-based generation modes. You should set `do_sample=True` or unset `top_p`. This was detected when initializing the generation config instance, which means the corresponding file may hold incorrect parameterization and should be fixed.\n",
      "  warnings.warn(\n"
     ]
    }
   ],
   "source": [
    "model = AutoModelForCausalLM.from_pretrained(model_name,\n",
    "                                             local_files_only=True,\n",
    "                                             device_map='auto',\n",
    "                                             torch_dtype=torch.float16,\n",
    "                                             temperature=0.2, # must be strictly positive float\n",
    "                                             do_sample=True,\n",
    "                                             # use_auth_token=True,\n",
    "                                            #  load_in_8bit=True,\n",
    "                                            #  load_in_4bit=True\n",
    "                                             )"
   ]
  },
  {
   "cell_type": "code",
   "execution_count": 6,
   "id": "90c4af92-0dae-4352-8d18-a0f00617babd",
   "metadata": {},
   "outputs": [],
   "source": [
    "from transformers import pipeline\n",
    "\n",
    "pipe = pipeline(\"text-generation\",\n",
    "                model=model,\n",
    "                tokenizer= tokenizer,\n",
    "                # return_full_text=True,\n",
    "                torch_dtype=torch.bfloat16,\n",
    "                device_map=\"auto\",\n",
    "                max_new_tokens = 512,\n",
    "                do_sample=True,\n",
    "                top_k=30,\n",
    "                num_return_sequences=1,\n",
    "                eos_token_id=tokenizer.eos_token_id\n",
    "                )"
   ]
  },
  {
   "cell_type": "code",
   "execution_count": 7,
   "id": "6d889335-13b6-41e3-8c12-01bc159e87fa",
   "metadata": {},
   "outputs": [],
   "source": [
    "from langchain.llms import HuggingFacePipeline\n",
    "llm = HuggingFacePipeline(pipeline=pipe)"
   ]
  },
  {
   "cell_type": "code",
   "execution_count": 8,
   "id": "0b3d8198-1ae3-4f5c-933a-a5396a02ce28",
   "metadata": {},
   "outputs": [
    {
     "name": "stderr",
     "output_type": "stream",
     "text": [
      "/usr/local/lib/python3.10/site-packages/transformers/generation/utils.py:1411: UserWarning: You have modified the pretrained model configuration to control generation. This is a deprecated strategy to control generation and will be removed soon, in a future version. Please use a generation configuration file (see https://huggingface.co/docs/transformers/main_classes/text_generation )\n",
      "  warnings.warn(\n"
     ]
    },
    {
     "data": {
      "text/plain": [
       "'\\n[你好嗎？] 你好嗎？这是一个问候语，意思是你好吗？这是一个常用的开场白，可以用于询问对方的情况或讨论话题。\\n\\n[你好嗎？] 你好嗎？这是一个问候语，意思是你好吗？这是一个常用的开场白，可以用于询问对方的情况或讨论话题。\\n\\n[你好嗎？] 你好嗎？这是一个问候语，意思是你好吗？这是一个常用的开场白，可以用于询问对方的情况或讨论话题。\\n\\n[你好嗎？] 你好嗎？这是一个问候语，意思是你好吗？这是一个常用的开场白，可以用于询问对方的情况或讨论话题。\\n\\n[你好嗎？] 你好嗎？这是一个问候语，意思是你好吗？这是一个常用的开场白，可以用于询问对方的情况或讨论话题。\\n\\n[你好嗎？] 你好嗎？这是一个问候语，意思是你好吗？这是一个常用的开场白，可以用于询问对方的情况或讨论话题。\\n\\n[你好嗎？] 你好嗎？这是一个问候语，意思是你好吗？这是一个常用的开场白，可以用于询问对方的情况或讨论话题。\\n\\n[你好嗎？] 你好嗎？这是一个问候'"
      ]
     },
     "execution_count": 8,
     "metadata": {},
     "output_type": "execute_result"
    }
   ],
   "source": [
    "llm(\"你好嗎?\")"
   ]
  },
  {
   "cell_type": "code",
   "execution_count": 9,
   "id": "71d7921f-98a2-43d7-a863-166bcbf65555",
   "metadata": {},
   "outputs": [
    {
     "name": "stdout",
     "output_type": "stream",
     "text": [
      "huggingface/tokenizers: The current process just got forked, after parallelism has already been used. Disabling parallelism to avoid deadlocks...\n",
      "To disable this warning, you can either:\n",
      "\t- Avoid using `tokenizers` before the fork if possible\n",
      "\t- Explicitly set the environment variable TOKENIZERS_PARALLELISM=(true | false)\n",
      "Thu Aug 31 14:27:22 2023       \n",
      "+---------------------------------------------------------------------------------------+\n",
      "| NVIDIA-SMI 535.54.03              Driver Version: 535.54.03    CUDA Version: 12.2     |\n",
      "|-----------------------------------------+----------------------+----------------------+\n",
      "| GPU  Name                 Persistence-M | Bus-Id        Disp.A | Volatile Uncorr. ECC |\n",
      "| Fan  Temp   Perf          Pwr:Usage/Cap |         Memory-Usage | GPU-Util  Compute M. |\n",
      "|                                         |                      |               MIG M. |\n",
      "|=========================================+======================+======================|\n",
      "|   0  Tesla T4                       Off | 00000000:AF:00.0 Off |                    0 |\n",
      "| N/A   78C    P0              42W /  70W |  13921MiB / 15360MiB |     99%      Default |\n",
      "|                                         |                      |                  N/A |\n",
      "+-----------------------------------------+----------------------+----------------------+\n",
      "                                                                                         \n",
      "+---------------------------------------------------------------------------------------+\n",
      "| Processes:                                                                            |\n",
      "|  GPU   GI   CI        PID   Type   Process name                            GPU Memory |\n",
      "|        ID   ID                                                             Usage      |\n",
      "|=======================================================================================|\n",
      "|    0   N/A  N/A    114388      C   /usr/local/bin/python3.10                 13916MiB |\n",
      "+---------------------------------------------------------------------------------------+\n"
     ]
    }
   ],
   "source": [
    "!nvidia-smi"
   ]
  },
  {
   "cell_type": "code",
   "execution_count": 12,
   "id": "f907670a-4dfe-4565-8bdf-bba834519256",
   "metadata": {},
   "outputs": [],
   "source": [
    "# !set PYTORCH_CUDA_ALLOC_CONF=max_split_size_mb:6144"
   ]
  },
  {
   "cell_type": "code",
   "execution_count": 14,
   "id": "75115521-dc1d-48b5-9984-29d169b7eced",
   "metadata": {},
   "outputs": [],
   "source": [
    "# !set TOKENIZERS_PARALLELISM=true"
   ]
  },
  {
   "cell_type": "code",
   "execution_count": 19,
   "id": "dd52e7e9-ab97-4970-b3f7-16ffb1384081",
   "metadata": {},
   "outputs": [],
   "source": [
    "template = \"\"\"使用以下上下文来回答最后的问题。如果你不知道答案，就说你不知道，不要试图编造答案。\n",
    "\n",
    "  {context}\n",
    "\n",
    "  问题: {question}\n",
    "  答案:\"\"\""
   ]
  },
  {
   "cell_type": "code",
   "execution_count": null,
   "id": "cc6eca93-9723-47bc-9237-ebb82baf57a9",
   "metadata": {},
   "outputs": [],
   "source": []
  },
  {
   "cell_type": "code",
   "execution_count": 20,
   "id": "a714fdc9-6557-4f28-ada8-aa325dc9e570",
   "metadata": {},
   "outputs": [],
   "source": [
    "from langchain import PromptTemplate\n",
    "\n",
    "prompt_template = PromptTemplate.from_template(\n",
    "    template\n",
    ")"
   ]
  },
  {
   "cell_type": "code",
   "execution_count": 21,
   "id": "0a541499-25b5-4bfe-98b0-bee5cfdce2ec",
   "metadata": {},
   "outputs": [],
   "source": [
    "from langchain.chains import LLMChain\n",
    "chain = LLMChain(llm=llm, prompt=prompt_template)"
   ]
  },
  {
   "cell_type": "code",
   "execution_count": 22,
   "id": "e19561b2-ec41-46ce-a128-453ec1021a9e",
   "metadata": {},
   "outputs": [
    {
     "name": "stdout",
     "output_type": "stream",
     "text": [
      "CPU times: user 899 ms, sys: 282 ms, total: 1.18 s\n",
      "Wall time: 1.18 s\n"
     ]
    },
    {
     "data": {
      "text/plain": [
       "{'context': '我是伊森，我是一名软体工程师。',\n",
       " 'question': '我从事什么行业?',\n",
       " 'text': ' 我从事软体工程师行业。\\n'}"
      ]
     },
     "execution_count": 22,
     "metadata": {},
     "output_type": "execute_result"
    }
   ],
   "source": [
    "%%time\n",
    "chain.invoke(\n",
    "    {\n",
    "        # \"output_language\" : \"Tranditional Chinese\",\n",
    "        # \"output_language\" : \"Simplified Chinese\",\n",
    "        # \"output_language\" : \"English\",\n",
    "        \"context\" : \"我是伊森，我是一名软体工程师。\",\n",
    "        \"question\": \"我从事什么行业?\",\n",
    "        # \"eos_token_id\"=tokenizer.eos_token_id,\n",
    "        # \"pad_token_id\"=tokenizer.pad_token_id\n",
    "    }\n",
    ")"
   ]
  },
  {
   "cell_type": "code",
   "execution_count": 45,
   "id": "cb9ae2ed-3aef-4319-a1b7-33f0d21b1b55",
   "metadata": {},
   "outputs": [
    {
     "name": "stdout",
     "output_type": "stream",
     "text": [
      "huggingface/tokenizers: The current process just got forked, after parallelism has already been used. Disabling parallelism to avoid deadlocks...\n",
      "To disable this warning, you can either:\n",
      "\t- Avoid using `tokenizers` before the fork if possible\n",
      "\t- Explicitly set the environment variable TOKENIZERS_PARALLELISM=(true | false)\n",
      "Thu Aug 31 15:00:17 2023       \n",
      "+---------------------------------------------------------------------------------------+\n",
      "| NVIDIA-SMI 535.54.03              Driver Version: 535.54.03    CUDA Version: 12.2     |\n",
      "|-----------------------------------------+----------------------+----------------------+\n",
      "| GPU  Name                 Persistence-M | Bus-Id        Disp.A | Volatile Uncorr. ECC |\n",
      "| Fan  Temp   Perf          Pwr:Usage/Cap |         Memory-Usage | GPU-Util  Compute M. |\n",
      "|                                         |                      |               MIG M. |\n",
      "|=========================================+======================+======================|\n",
      "|   0  Tesla T4                       Off | 00000000:AF:00.0 Off |                    0 |\n",
      "| N/A   68C    P0              32W /  70W |  14879MiB / 15360MiB |      0%      Default |\n",
      "|                                         |                      |                  N/A |\n",
      "+-----------------------------------------+----------------------+----------------------+\n",
      "                                                                                         \n",
      "+---------------------------------------------------------------------------------------+\n",
      "| Processes:                                                                            |\n",
      "|  GPU   GI   CI        PID   Type   Process name                            GPU Memory |\n",
      "|        ID   ID                                                             Usage      |\n",
      "|=======================================================================================|\n",
      "|    0   N/A  N/A    114388      C   /usr/local/bin/python3.10                 14874MiB |\n",
      "+---------------------------------------------------------------------------------------+\n"
     ]
    }
   ],
   "source": [
    "!nvidia-smi"
   ]
  },
  {
   "cell_type": "markdown",
   "id": "0a82db0f-41df-4892-b8ed-f64879d1bce7",
   "metadata": {},
   "source": [
    "# Q1"
   ]
  },
  {
   "cell_type": "code",
   "execution_count": 23,
   "id": "a5cc0b8d-82da-4b25-93d2-d428f68a5a0d",
   "metadata": {},
   "outputs": [],
   "source": [
    "question1= \"如何设定判定逻辑?\"\n",
    "content1 = \"\"\"\n",
    "  选择是否设定附加规则 , 限制 SN长度或厂家代码范围等 , 设定完毕后 , 点击【保存】 , \n",
    "完成该产品序列号判定逻辑设定 .2.2 检验逻辑设定   \n",
    "逻辑判定设置完成后 , 厂家保修管理 后台->基础设定 ->判定逻辑 , 点击进入逻辑判定\n",
    "页面, 最下方输入 PPID, 点击【解析】检验逻辑设定 ;如下图, 可依规则自动解析出厂\n",
    "时间等信息 . \n",
    " \n",
    "3. 保修类别  \n",
    "厂家保修管理 后台->基础设定 ->保修类别，点击【新增设定】 , 设定需要为产品配置\n",
    "的保修类别 ,填写服务类型、时效值及单位 , 点击【保存】完成 ; \n",
    " \n",
    " \n",
    "4. 保修约定  \n",
    "当产品保修及保修卡无法满足保修需求时 , 可添加保修约定 .基础设定  \n",
    "1. 判定命名  \n",
    "厂家保修管理 后台->基础设定 ->判定命名 ,依用户习惯 , 自主设定相关栏位名称 , 设定\n",
    "后, 系统相关栏位均以设定名称显示 . \n",
    " \n",
    "2. 判定逻辑  \n",
    "设定PPID/SN的逻辑规则 , 用于解析保修起点日期等信息 . \n",
    "2.1 添加/编辑判定逻辑  \n",
    "厂家保修管理 后台->基础设定 ->判定逻辑 , 点击【添加】按钮 , 添加判定逻辑 ;选定判\n",
    "定逻辑, 点击对该判定逻辑进行编辑 ; \n",
    " \n",
    "填写解码规则名称、说明、 SN样例；点击【编辑】按钮 进行应用 ; \n",
    " \n",
    "填写 PPID/SN子串区段 , 依照子串区段 的代表意义 , 可自定义规则  \n",
    "如下图中点击【月份 规则自定义】 ，  进入自定义模块后 , 点击【新增码值】 , 可自定义\n",
    "月份解析规则 , 例如 , 可依 PPID/SN规则设定 A代表 10月, B代表 11月份 , C代表 12月\n",
    "份; \n",
    "【添加一项自定义规则】可添加 PPID/SN子串逻辑自定义规则 .\n",
    "\"\"\""
   ]
  },
  {
   "cell_type": "code",
   "execution_count": 11,
   "id": "455c78b7-df8e-49f7-b768-8d09b8c1d76a",
   "metadata": {},
   "outputs": [
    {
     "name": "stdout",
     "output_type": "stream",
     "text": [
      "CPU times: user 14 s, sys: 5.62 s, total: 19.6 s\n",
      "Wall time: 19.6 s\n"
     ]
    }
   ],
   "source": [
    "%%time\n",
    "out1 = llm(prompt1)"
   ]
  },
  {
   "cell_type": "code",
   "execution_count": 12,
   "id": "08b2ed29-9951-4a0a-97b6-33d7d46ff2c5",
   "metadata": {},
   "outputs": [
    {
     "data": {
      "text/plain": [
       "'  1. 在厂家保修管理后台中，点击“基础设定”，然后点击“判定逻辑”。\\n  2. 在“判定逻辑”页面中，选择要设定的判定逻辑，然后点击“编辑”按钮。\\n  3. 在“编辑”页面中，填写解码规则名称、说明、 SN样例，然后点击“编辑”按钮进行应用。\\n  4. 在“编辑”页面中，可以自定义规则，如月份解析规则，可依 PPID/SN规则设定 A代表 10月，B代表 11月份，C代表 12月份。\\n'"
      ]
     },
     "execution_count": 12,
     "metadata": {},
     "output_type": "execute_result"
    }
   ],
   "source": [
    "out1"
   ]
  },
  {
   "cell_type": "code",
   "execution_count": 43,
   "id": "da2f13d0-09ec-4dea-a89d-82763159ed21",
   "metadata": {},
   "outputs": [
    {
     "name": "stderr",
     "output_type": "stream",
     "text": [
      "/usr/local/lib/python3.10/site-packages/transformers/pipelines/base.py:1090: UserWarning: You seem to be using the pipelines sequentially on GPU. In order to maximize efficiency please use a dataset\n",
      "  warnings.warn(\n"
     ]
    },
    {
     "name": "stdout",
     "output_type": "stream",
     "text": [
      "CPU times: user 11.2 s, sys: 3.99 s, total: 15.2 s\n",
      "Wall time: 15.2 s\n"
     ]
    }
   ],
   "source": [
    "%%time\n",
    "out1 = chain.invoke(\n",
    "    {\n",
    "        # \"output_language\" : \"Tranditional Chinese\",\n",
    "        # \"output_language\" : \"Simplified Chinese\",\n",
    "        # \"output_language\" : \"English\",\n",
    "        \"context\" : content1,\n",
    "        \"question\": question1,\n",
    "        # \"eos_token_id\"=tokenizer.eos_token_id,\n",
    "        # \"pad_token_id\"=tokenizer.pad_token_id\n",
    "    }\n",
    ")"
   ]
  },
  {
   "cell_type": "code",
   "execution_count": 44,
   "id": "a9ceff0e-e61c-49ae-97c9-3c448e4682c6",
   "metadata": {},
   "outputs": [
    {
     "data": {
      "text/plain": [
       "' 设定PPID/SN的逻辑规则，用于解析保修起点日期等信息。可以通过添加判定逻辑，选定判定逻辑，填写解码规则名称、说明、 SN样例，点击编辑按钮进行应用。如果需要自定义规则，可以在自定义模块中新增码值，点击新增码值，可自定义月份解析规则，例如，可依 PPID/SN规则设定 A代表 10月，B代表 11月份，C代表 12月份。\\n'"
      ]
     },
     "execution_count": 44,
     "metadata": {},
     "output_type": "execute_result"
    }
   ],
   "source": [
    "out1['text']"
   ]
  },
  {
   "cell_type": "markdown",
   "id": "d5a7d850-a4ac-4c1c-9286-488d3ee9d262",
   "metadata": {},
   "source": [
    "A1: 在厂家保修管理后台中的基础设定中进行判定逻辑的添加和编辑。首先，在厂家保修管理后台中，点击基础设定，然后选择判定逻辑。接着，点击添加按钮，填写解码规则名称、说明、SN样例，然后点击编辑按钮进行应用。最后，填写PPID/SN子串区段，依照子串区段的代表意义，可自定义规则。例如，可以依PPID/SN规则设定A代表10月，B代表11月份，C代表12月份。"
   ]
  },
  {
   "cell_type": "markdown",
   "id": "614f7475-0303-43b5-8e18-0355d5a6b201",
   "metadata": {},
   "source": [
    "## Ans2: 在哪里可以设定机种?"
   ]
  },
  {
   "cell_type": "code",
   "execution_count": 29,
   "id": "5f4b715c-09b0-4655-88d4-1cdb6e3bd256",
   "metadata": {},
   "outputs": [],
   "source": [
    "question2= \"在哪里可以设定机种?\"\n",
    "content2 = \"\"\"\n",
    "  选择是否设定附加规则 , 限制 SN长度或厂家代码范围等 , 设定完毕后 , 点击【保存】 , \n",
    "完成该产品序列号判定逻辑设定 .选定不良代码 , 点击进入客户绑定页面 ; 勾选客户 , 点击【保存】完成不良判定代码\n",
    "与客户的绑定 ; \n",
    " \n",
    " \n",
    "保修设定  \n",
    "1. 定义产品 (整机料号信息 ) \n",
    "单笔或批量将产品信息导入系统 ,包含机种、厂家料号、客户料号、供应商料号、替代\n",
    "料号等信息  \n",
    "1.1 机种管理  \n",
    "若产品涉及机种 , 需先将机种信息新增至系统 , 以便后续选择 . \n",
    "a. 单笔新增机种  \n",
    "厂家保修管理 后台 ->保修设定 ->定义产品 , 点击【机种管理】按钮 , 点击【新增】填写\n",
    "机种名称 , 点击【保存】完成 ;1.9 产品与附件绑定  \n",
    "本操作步骤 , 需要在本章 2. 定义附件  操作完成后进行 . \n",
    "厂家保修管理 后台 ->保修设定 ->定义产品 , 选定产品 , 点击按钮 , 点击【绑定附件】并勾\n",
    "选对应附 件、填写数量 , 点击【绑定】完成 ; \n",
    " \n",
    " \n",
    "2. 定义部件 （备品料号信息）  \n",
    "若部件中涉及机种管理 , 亦需先新增或上传机种 , 而后操作步骤同定义产品  \n",
    "2.1 新增部件机种  \n",
    "点击【机种管理】按钮 , 点击【新增】单笔新增机种 ; 点击【上传机种】下载模板 , 批\n",
    "量新增机种 ;  \n",
    "2.2 新增部件  \n",
    "点击【新增部件】单笔新增部件 ; 点击【上传部件】下拉框 , 下载模板批量新增部件 ; \n",
    "2.3 新增部件客户料号 ; \n",
    "点击【料号对照】添加客户料号 , 选定产品 , 点击单笔添加 ; 点击【料号对照】下载模\n",
    "板, 批量上传料号 ; \n",
    "2.3 新增供应商料号  \n",
    "点击【供应商料号】 , 选定产品 , 点击按钮 , 点击【添加供应商】 , 添加供应商及供应\n",
    "商料号 , 【保存】完成 .\n",
    "\"\"\""
   ]
  },
  {
   "cell_type": "code",
   "execution_count": 30,
   "id": "57cc77f8-a971-496a-85e8-4beae80345fa",
   "metadata": {},
   "outputs": [
    {
     "name": "stdout",
     "output_type": "stream",
     "text": [
      "CPU times: user 3.14 s, sys: 1.35 s, total: 4.49 s\n",
      "Wall time: 4.49 s\n"
     ]
    }
   ],
   "source": [
    "%%time\n",
    "out2 = chain.invoke(\n",
    "    {\n",
    "        # \"output_language\" : \"Tranditional Chinese\",\n",
    "        # \"output_language\" : \"Simplified Chinese\",\n",
    "        # \"output_language\" : \"English\",\n",
    "        \"context\" : content2,\n",
    "        \"question\": question2,\n",
    "        # \"eos_token_id\"=tokenizer.eos_token_id,\n",
    "        # \"pad_token_id\"=tokenizer.pad_token_id\n",
    "    }\n",
    ")"
   ]
  },
  {
   "cell_type": "code",
   "execution_count": 31,
   "id": "d1903099-6674-4080-bc0d-738122be76d8",
   "metadata": {},
   "outputs": [
    {
     "data": {
      "text/plain": [
       "' 在厂家保修管理 后台 -> 保修设定 -> 定义产品 -> 机种管理 -> 单笔新增机种。\\n'"
      ]
     },
     "execution_count": 31,
     "metadata": {},
     "output_type": "execute_result"
    }
   ],
   "source": [
    "out2['text']"
   ]
  },
  {
   "cell_type": "markdown",
   "id": "10f51fdd-54ea-47c8-8856-1931644a45c0",
   "metadata": {},
   "source": [
    "ANS2: 在厂家保修管理后台中的保修设定中进行机种的设定。首先，在厂家保修管理后台中，点击保修设定，然后选择定义产品。接着，点击机种管理按钮，可以进行单笔新增机种或批量新增机种。填写机种名称后，点击保存即可完成机种的设定。"
   ]
  },
  {
   "cell_type": "markdown",
   "id": "8f07e7fa-4ba2-4737-a2b7-47ddc780d039",
   "metadata": {},
   "source": [
    "Q3"
   ]
  },
  {
   "cell_type": "code",
   "execution_count": 34,
   "id": "5792356a-fa1f-44ea-989c-53ed86a0cd19",
   "metadata": {},
   "outputs": [],
   "source": [
    "question3= \"平台可以自动核准保修申请吗?\"\n",
    "content3 = \"\"\"\n",
    "  点击【上传附件】下拉框 , 选择【下载模板】填写附件相关信息 , 【批量上传】将编辑好\n",
    "的文档上传 , 完成批量新增附件 . \n",
    " \n",
    "保修作业  \n",
    "1. 保修申请 （手动核准） \n",
    "若厂家在客户清单中 , 对应客户已设置【自动核准】功能 ; 客户进行保修申请后 , 平台\n",
    "依保修条件进行自动核准并分配 ware no.; 若未设定自动核准 , 即可通过手动核准进行\n",
    "作业 ; 手动核准作业如下 : \n",
    "客户进行保修申请后 , 厂家后台保修申请方有数据 ; \n",
    "厂家保修管理 后台 ->保修作业 ->保修申请 , 选择对应送修项目 , 点击按钮进入送修信息 ; \n",
    " \n",
    "点击可查看客户信息 , 点击【接受】进行核准 , 点击【拒绝】进行驳回 ， 需填写拒绝\n",
    "原因; 当客户送修系统判定不可接受时 (即不符合厂家保修设定 ), 点击可变更核准状\n",
    "态, 选择保修设定后接受或者拒绝 ;3. 单号提交  \n",
    "厂家保修管理 后台->保修作业 ->单号提交 , 点击按钮, 勾选对应栏位 , 点击【确定】\n",
    "可移动或合并 Ware no.分组(同客户同申请人可移动至同一组内 ); 点击提交单号 , \n",
    "ware no.即生成. \n",
    " \n",
    "4. 进度追踪  \n",
    "4.1 查看保修进度  \n",
    "厂家保修管理 后台->保修作业 ->进度追踪 , 点击【保修单号】 , 点击进入送修信息 ; 可\n",
    "查看保修及物流进度 ; 【查看报告】 查看服务中心的维修报告 ; 点击可查看该笔 SN的\n",
    "产品详情、保修详情、物流资讯和服务进度 .2.2 检验逻辑设定   \n",
    "逻辑判定设置完成后 , 厂家保修管理 后台->基础设定 ->判定逻辑 , 点击进入逻辑判定\n",
    "页面, 最下方输入 PPID, 点击【解析】检验逻辑设定 ;如下图, 可依规则自动解析出厂\n",
    "时间等信息 . \n",
    " \n",
    "3. 保修类别  \n",
    "厂家保修管理 后台->基础设定 ->保修类别，点击【新增设定】 , 设定需要为产品配置\n",
    "的保修类别 ,填写服务类型、时效值及单位 , 点击【保存】完成 ; \n",
    " \n",
    " \n",
    "4. 保修约定  \n",
    "当产品保修及保修卡无法满足保修需求时 , 可添加保修约定 .\n",
    "\"\"\""
   ]
  },
  {
   "cell_type": "code",
   "execution_count": 35,
   "id": "0136a0e0-1e1d-4785-b517-2985e3e4cac8",
   "metadata": {},
   "outputs": [
    {
     "name": "stdout",
     "output_type": "stream",
     "text": [
      "CPU times: user 4.7 s, sys: 1.73 s, total: 6.44 s\n",
      "Wall time: 6.45 s\n"
     ]
    }
   ],
   "source": [
    "%%time\n",
    "out3 = chain.invoke(\n",
    "    {\n",
    "        # \"output_language\" : \"Tranditional Chinese\",\n",
    "        # \"output_language\" : \"Simplified Chinese\",\n",
    "        # \"output_language\" : \"English\",\n",
    "        \"context\" : content3,\n",
    "        \"question\": question3,\n",
    "        # \"eos_token_id\"=tokenizer.eos_token_id,\n",
    "        # \"pad_token_id\"=tokenizer.pad_token_id\n",
    "    }\n",
    ")"
   ]
  },
  {
   "cell_type": "code",
   "execution_count": 36,
   "id": "9ea8a90b-275e-4ecf-8d7a-8576811262ac",
   "metadata": {},
   "outputs": [
    {
     "data": {
      "text/plain": [
       "' 平台可以自动核准保修申请，但是需要客户在客户清单中设置自动核准功能。如果客户未设置自动核准，则需要手动核准。\\n'"
      ]
     },
     "execution_count": 36,
     "metadata": {},
     "output_type": "execute_result"
    }
   ],
   "source": [
    "out3['text']"
   ]
  },
  {
   "cell_type": "markdown",
   "id": "cbcbdd4a-1380-4a53-ab5a-aae0b8639868",
   "metadata": {},
   "source": [
    "ANS3: 可以在客户清单中设置自动核准功能。在客户管理中，可以选择对应的客户，然后勾选自动核准功能。开启自动核准功能后，当客户提交保修申请时，系统会自动进行核准并分配ware no.，无需手动核准。但需要注意的是，自动核准功能需要满足一定的保修条件，否则仍需要手动核准。"
   ]
  },
  {
   "cell_type": "markdown",
   "id": "e1a5a888-9815-4323-a3f7-f1916badbac2",
   "metadata": {},
   "source": [
    "## Q4"
   ]
  },
  {
   "cell_type": "code",
   "execution_count": 37,
   "id": "1e9205a2-9661-481d-a556-2232ace1ebcf",
   "metadata": {},
   "outputs": [],
   "source": [
    "question4= \"自动核准后还需要进行单号提交吗?\"\n",
    "content4 = \"\"\"\n",
    "  2. 单号分配  \n",
    "厂家保修管理 后台->保修作业 ->单号分配 , 勾选送修项目 , 点击【分配 Ware no. 】分\n",
    "配单号,同客户同申请人的送修清单 , 可一次分配 Ware no.;  \n",
    " \n",
    "勾选送修项目 , 点击【指派 Ware no.】, 系统根据产品型号、退运原因、维修地址、服\n",
    "务类型等对产品分类并分配  Ware no.;  \n",
    "备注 : 若客户需使用自主 RMA no.，亦可在【自定单号】添加客户指定 RMA no.点击【上传附件】下拉框 , 选择【下载模板】填写附件相关信息 , 【批量上传】将编辑好\n",
    "的文档上传 , 完成批量新增附件 . \n",
    " \n",
    "保修作业  \n",
    "1. 保修申请 （手动核准） \n",
    "若厂家在客户清单中 , 对应客户已设置【自动核准】功能 ; 客户进行保修申请后 , 平台\n",
    "依保修条件进行自动核准并分配 ware no.; 若未设定自动核准 , 即可通过手动核准进行\n",
    "作业 ; 手动核准作业如下 : \n",
    "客户进行保修申请后 , 厂家后台保修申请方有数据 ; \n",
    "厂家保修管理 后台 ->保修作业 ->保修申请 , 选择对应送修项目 , 点击按钮进入送修信息 ; \n",
    " \n",
    "点击可查看客户信息 , 点击【接受】进行核准 , 点击【拒绝】进行驳回 ， 需填写拒绝\n",
    "原因; 当客户送修系统判定不可接受时 (即不符合厂家保修设定 ), 点击可变更核准状\n",
    "态, 选择保修设定后接受或者拒绝 ;3. 单号提交  \n",
    "厂家保修管理 后台->保修作业 ->单号提交 , 点击按钮, 勾选对应栏位 , 点击【确定】\n",
    "可移动或合并 Ware no.分组(同客户同申请人可移动至同一组内 ); 点击提交单号 , \n",
    "ware no.即生成. \n",
    " \n",
    "4. 进度追踪  \n",
    "4.1 查看保修进度  \n",
    "厂家保修管理 后台->保修作业 ->进度追踪 , 点击【保修单号】 , 点击进入送修信息 ; 可\n",
    "查看保修及物流进度 ; 【查看报告】 查看服务中心的维修报告 ; 点击可查看该笔 SN的\n",
    "产品详情、保修详情、物流资讯和服务进度 .\n",
    "\"\"\""
   ]
  },
  {
   "cell_type": "code",
   "execution_count": 38,
   "id": "3221649b-a0bc-49db-b357-a4e0573afda8",
   "metadata": {},
   "outputs": [
    {
     "name": "stdout",
     "output_type": "stream",
     "text": [
      "CPU times: user 1.17 s, sys: 583 ms, total: 1.76 s\n",
      "Wall time: 1.76 s\n"
     ]
    }
   ],
   "source": [
    "%%time\n",
    "out4 = chain.invoke(\n",
    "    {\n",
    "        # \"output_language\" : \"Tranditional Chinese\",\n",
    "        # \"output_language\" : \"Simplified Chinese\",\n",
    "        # \"output_language\" : \"English\",\n",
    "        \"context\" : content4,\n",
    "        \"question\": question4,\n",
    "        # \"eos_token_id\"=tokenizer.eos_token_id,\n",
    "        # \"pad_token_id\"=tokenizer.pad_token_id\n",
    "    }\n",
    ")"
   ]
  },
  {
   "cell_type": "code",
   "execution_count": 39,
   "id": "71bf74b8-497c-4c5f-bcbe-f73c8901d504",
   "metadata": {},
   "outputs": [
    {
     "data": {
      "text/plain": [
       "' 不需要进行单号提交。\\n'"
      ]
     },
     "execution_count": 39,
     "metadata": {},
     "output_type": "execute_result"
    }
   ],
   "source": [
    "out4['text']"
   ]
  },
  {
   "cell_type": "markdown",
   "id": "ce492dcf-9b17-4d23-b95c-fd763d7b5df9",
   "metadata": {},
   "source": [
    "ANS4: 关于您的问题，当开启自动核准功能后，系统会自动进行核准并分配ware no.，无需手动核准。因此，在这种情况下，不需要进行单号提交。但需要注意的是，自动核准功能需要满足一定的保修条件，否则仍需要手动核准。"
   ]
  },
  {
   "cell_type": "markdown",
   "id": "b1a09024-fb45-422d-b110-ff6caa17f158",
   "metadata": {},
   "source": [
    "Q5"
   ]
  },
  {
   "cell_type": "code",
   "execution_count": 40,
   "id": "8fc0a52d-4873-4d4c-b049-82a22443bb03",
   "metadata": {},
   "outputs": [],
   "source": [
    "question5= \"怎么查看保修进度?\"\n",
    "content5 = \"\"\"\n",
    "  3. 单号提交  \n",
    "厂家保修管理 后台->保修作业 ->单号提交 , 点击按钮, 勾选对应栏位 , 点击【确定】\n",
    "可移动或合并 Ware no.分组(同客户同申请人可移动至同一组内 ); 点击提交单号 , \n",
    "ware no.即生成. \n",
    " \n",
    "4. 进度追踪  \n",
    "4.1 查看保修进度  \n",
    "厂家保修管理 后台->保修作业 ->进度追踪 , 点击【保修单号】 , 点击进入送修信息 ; 可\n",
    "查看保修及物流进度 ; 【查看报告】 查看服务中心的维修报告 ; 点击可查看该笔 SN的\n",
    "产品详情、保修详情、物流资讯和服务进度 .3. 产品保修 （维修服务 , “退运流程”设置完成后设置）  \n",
    "厂家后台 ->保修设定 ->产品保修 , 选定对应客户 , 点击按钮进入页面 ; 点击【新增】设\n",
    "置产品保修 ; \n",
    " \n",
    " \n",
    "点击【选择类别】 , 选择维修 /翻新保修约定 , 选择预设置产品所对应的产品类别 , 选\n",
    "择保修期间服务内容、具体服务流程、保修期间时长等信息 , 填写完成点击【下一\n",
    "步】; \n",
    "备注: 保修期间服务内容 , 为上章基础设定中 【保修类别】中设定之 信息; 【服务流\n",
    "程】为送修至服务中心 , 本次需选择；  【服务地址 】为送修至厂家 , 不经服务中心 , \n",
    "本次不选择 ; \n",
    " \n",
    "添加产品 PN, 点击【批量添加 PN】， 带出相同类别 PN产品, 勾选后确认 , 即完成产\n",
    "品保修设定2.2 检验逻辑设定   \n",
    "逻辑判定设置完成后 , 厂家保修管理 后台->基础设定 ->判定逻辑 , 点击进入逻辑判定\n",
    "页面, 最下方输入 PPID, 点击【解析】检验逻辑设定 ;如下图, 可依规则自动解析出厂\n",
    "时间等信息 . \n",
    " \n",
    "3. 保修类别  \n",
    "厂家保修管理 后台->基础设定 ->保修类别，点击【新增设定】 , 设定需要为产品配置\n",
    "的保修类别 ,填写服务类型、时效值及单位 , 点击【保存】完成 ; \n",
    " \n",
    " \n",
    "4. 保修约定  \n",
    "当产品保修及保修卡无法满足保修需求时 , 可添加保修约定 .\n",
    "\"\"\""
   ]
  },
  {
   "cell_type": "code",
   "execution_count": 41,
   "id": "d3ae4a11-1718-43cb-8e3f-3684b0292197",
   "metadata": {},
   "outputs": [
    {
     "name": "stdout",
     "output_type": "stream",
     "text": [
      "CPU times: user 2.97 s, sys: 1.32 s, total: 4.29 s\n",
      "Wall time: 4.29 s\n"
     ]
    }
   ],
   "source": [
    "%%time\n",
    "out5 = chain.invoke(\n",
    "    {\n",
    "        # \"output_language\" : \"Tranditional Chinese\",\n",
    "        # \"output_language\" : \"Simplified Chinese\",\n",
    "        # \"output_language\" : \"English\",\n",
    "        \"context\" : content5,\n",
    "        \"question\": question5,\n",
    "        # \"eos_token_id\"=tokenizer.eos_token_id,\n",
    "        # \"pad_token_id\"=tokenizer.pad_token_id\n",
    "    }\n",
    ")"
   ]
  },
  {
   "cell_type": "code",
   "execution_count": 42,
   "id": "0198ddd0-8b57-4da9-98ba-97e4796462d0",
   "metadata": {},
   "outputs": [
    {
     "data": {
      "text/plain": [
       "' 在厂家后台->保修作业->进度追踪中，点击保修单号，可查看保修及物流进度。\\n'"
      ]
     },
     "execution_count": 42,
     "metadata": {},
     "output_type": "execute_result"
    }
   ],
   "source": [
    "out5['text']"
   ]
  },
  {
   "cell_type": "markdown",
   "id": "495d959f-da45-4b5a-9d34-3227d8a45a72",
   "metadata": {},
   "source": [
    "ANS5: 可以在厂家保修管理后台中查看保修进度。在保修作业中，选择进度追踪，然后点击对应的保修单号，即可查看保修及物流进度。同时，您也可以点击查看报告，查看服务中心的维修报告。如果需要查看该笔产品的详情、保修详情、物流资讯和服务进度，可以点击对应的SN进行查看。"
   ]
  },
  {
   "cell_type": "code",
   "execution_count": null,
   "id": "bdce24cc-5dbe-489c-a6a9-72ae107b2cb8",
   "metadata": {},
   "outputs": [],
   "source": []
  }
 ],
 "metadata": {
  "kernelspec": {
   "display_name": "Python 3 (ipykernel)",
   "language": "python",
   "name": "python3"
  },
  "language_info": {
   "codemirror_mode": {
    "name": "ipython",
    "version": 3
   },
   "file_extension": ".py",
   "mimetype": "text/x-python",
   "name": "python",
   "nbconvert_exporter": "python",
   "pygments_lexer": "ipython3",
   "version": "3.10.6"
  }
 },
 "nbformat": 4,
 "nbformat_minor": 5
}
