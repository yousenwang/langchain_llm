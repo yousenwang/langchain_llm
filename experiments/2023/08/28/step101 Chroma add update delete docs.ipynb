{
 "cells": [
  {
   "cell_type": "code",
   "execution_count": 1,
   "id": "dbc3f826-e980-4a38-a8e7-afb8b16532a7",
   "metadata": {},
   "outputs": [
    {
     "name": "stdout",
     "output_type": "stream",
     "text": [
      "Mon Aug 28 13:41:39 2023       \n",
      "+---------------------------------------------------------------------------------------+\n",
      "| NVIDIA-SMI 535.54.03              Driver Version: 535.54.03    CUDA Version: 12.2     |\n",
      "|-----------------------------------------+----------------------+----------------------+\n",
      "| GPU  Name                 Persistence-M | Bus-Id        Disp.A | Volatile Uncorr. ECC |\n",
      "| Fan  Temp   Perf          Pwr:Usage/Cap |         Memory-Usage | GPU-Util  Compute M. |\n",
      "|                                         |                      |               MIG M. |\n",
      "|=========================================+======================+======================|\n",
      "|   0  Tesla T4                       Off | 00000000:AF:00.0 Off |                    0 |\n",
      "| N/A   57C    P0              30W /  70W |      2MiB / 15360MiB |      7%      Default |\n",
      "|                                         |                      |                  N/A |\n",
      "+-----------------------------------------+----------------------+----------------------+\n",
      "                                                                                         \n",
      "+---------------------------------------------------------------------------------------+\n",
      "| Processes:                                                                            |\n",
      "|  GPU   GI   CI        PID   Type   Process name                            GPU Memory |\n",
      "|        ID   ID                                                             Usage      |\n",
      "|=======================================================================================|\n",
      "|  No running processes found                                                           |\n",
      "+---------------------------------------------------------------------------------------+\n"
     ]
    }
   ],
   "source": [
    "!nvidia-smi"
   ]
  },
  {
   "cell_type": "code",
   "execution_count": 2,
   "id": "5158cb24-a0c3-4b90-b602-cc9255bc4a8c",
   "metadata": {},
   "outputs": [],
   "source": [
    "from langchain.vectorstores import Chroma\n",
    "# from langchain.text_splitter import RecursiveCharacterTextSplitter\n",
    "# from langchain.llms import OpenAI\n",
    "from langchain.chains import RetrievalQA, RetrievalQAWithSourcesChain\n",
    "# from langchain.document_loaders import TextLoader\n",
    "# from langchain.document_loaders import PyPDFLoader\n",
    "# from langchain.document_loaders import DirectoryLoader\n",
    "\n",
    "\n",
    "# from InstructorEmbedding import INSTRUCTOR\n",
    "# from langchain.embeddings import HuggingFaceInstructEmbeddings"
   ]
  },
  {
   "cell_type": "code",
   "execution_count": 3,
   "id": "996ef127-9a25-4f67-ad56-4021a312e0e9",
   "metadata": {},
   "outputs": [
    {
     "name": "stderr",
     "output_type": "stream",
     "text": [
      "/usr/local/lib/python3.10/site-packages/InstructorEmbedding/instructor.py:7: TqdmExperimentalWarning: Using `tqdm.autonotebook.tqdm` in notebook mode. Use `tqdm.tqdm` instead to force console mode (e.g. in jupyter console)\n",
      "  from tqdm.autonotebook import trange\n"
     ]
    },
    {
     "name": "stdout",
     "output_type": "stream",
     "text": [
      "load INSTRUCTOR_Transformer\n"
     ]
    },
    {
     "name": "stderr",
     "output_type": "stream",
     "text": [
      "2023-08-28 13:41:47.393528: I tensorflow/core/platform/cpu_feature_guard.cc:182] This TensorFlow binary is optimized to use available CPU instructions in performance-critical operations.\n",
      "To enable the following instructions: AVX2 AVX512F FMA, in other operations, rebuild TensorFlow with the appropriate compiler flags.\n",
      "2023-08-28 13:41:48.296073: W tensorflow/compiler/tf2tensorrt/utils/py_utils.cc:38] TF-TRT Warning: Could not find TensorRT\n"
     ]
    },
    {
     "name": "stdout",
     "output_type": "stream",
     "text": [
      "max_seq_length  512\n"
     ]
    }
   ],
   "source": [
    "from langchain.embeddings import HuggingFaceInstructEmbeddings\n",
    "\n",
    "instructor_embeddings = HuggingFaceInstructEmbeddings(model_name=\"hkunlp/instructor-xl\",\n",
    "                                                      model_kwargs={\"device\": \"cuda\"})"
   ]
  },
  {
   "cell_type": "markdown",
   "id": "78c866b3-b2e9-4fa1-98db-5a0455ee9ab3",
   "metadata": {},
   "source": [
    "# from_documents ids最好自己建立"
   ]
  },
  {
   "cell_type": "code",
   "execution_count": 56,
   "id": "19cfda8c-295b-408f-bb9c-d0882d7447bf",
   "metadata": {},
   "outputs": [],
   "source": [
    "# ids = [str(i) for i in range(1, len(docs) + 1)]\n",
    "# example_db = Chroma.from_documents(docs, embedding_function, ids=ids)\n",
    "\n",
    "# 如ids=null\n",
    "#預設id生成會是像'1dba1291-4568-11ee-b90f-2cea7f594df2'"
   ]
  },
  {
   "cell_type": "code",
   "execution_count": 4,
   "id": "e74a8206-14fd-4a53-93e6-f2d85a106970",
   "metadata": {},
   "outputs": [],
   "source": [
    "persist_directory = 'db'\n",
    "\n",
    "vectordb = Chroma(persist_directory=persist_directory,\n",
    "                  embedding_function=instructor_embeddings)"
   ]
  },
  {
   "cell_type": "code",
   "execution_count": 5,
   "id": "a852a5d8-ae14-405b-ba55-c8d4c5ead00b",
   "metadata": {},
   "outputs": [],
   "source": [
    "q1 = \"How can I navigate to the RMA request page in the Wareconn Customer Portal?\""
   ]
  },
  {
   "cell_type": "code",
   "execution_count": 8,
   "id": "ee36c7a4-6f11-43c3-8346-b39bc203989c",
   "metadata": {},
   "outputs": [
    {
     "data": {
      "text/plain": [
       "4"
      ]
     },
     "execution_count": 8,
     "metadata": {},
     "output_type": "execute_result"
    }
   ],
   "source": [
    "len(vectordb.similarity_search(q1))"
   ]
  },
  {
   "cell_type": "code",
   "execution_count": 7,
   "id": "a1332d63-f45e-47db-9f54-86fb45e249ef",
   "metadata": {},
   "outputs": [
    {
     "data": {
      "text/plain": [
       "[Document(page_content='2 / 6 \\nThis document  belongs to Wareconn  Technology Services (Tianjin) Co., Ltd. It is only intended to be \\nused to introduce Wareconn functions and procedures. Please do not use it for other purposes.  2 wareconn standard operating procedure  \\nSOP  \\nI. This guide will walk you through the process of requesting  RMA  through the \\nWareconn Customer Portal.  \\nII. Details on how to fill in the Part Number (PN) and Serial Number (SN)  \\n1.1 RMA request  procedure (Parts return)  \\n1. System login  \\n⚫ Module: https://www.wareconn.com/  \\n⚫ Description:  Login  with account and password  \\n \\nTo log in, follow these steps:  \\nGo to https://www.wareconn.com/ and click Log in  \\n \\nFill in your email and password, then click Login\\n \\nClick Enter  in the Customer portal', metadata={'source': 'MSFT RMA request SOP v1.0.pdf', 'page': 1})]"
      ]
     },
     "execution_count": 7,
     "metadata": {},
     "output_type": "execute_result"
    }
   ],
   "source": [
    "vectordb.similarity_search(q1, k=1)"
   ]
  },
  {
   "cell_type": "code",
   "execution_count": 10,
   "id": "4488c756-36da-489a-a440-b74cbf032eac",
   "metadata": {},
   "outputs": [],
   "source": [
    "from langchain.docstore.document import Document\n",
    "\n",
    "new_doc =  Document(\n",
    "    page_content=\"Wareconn is the best web platform for warranty maintenance.\",\n",
    "    metadata={\n",
    "        \"source\": \"wareconn.com\",\n",
    "        \"page\": 1\n",
    "    }\n",
    ")"
   ]
  },
  {
   "cell_type": "code",
   "execution_count": 12,
   "id": "642c9478-41fa-48f6-9cc0-c685ba7fcaa0",
   "metadata": {},
   "outputs": [],
   "source": [
    "new_docs = [new_doc]"
   ]
  },
  {
   "cell_type": "code",
   "execution_count": 38,
   "id": "158c6eb6-2e07-40ae-b9bb-bda93aeb60ba",
   "metadata": {},
   "outputs": [],
   "source": [
    "# add\n",
    "\n",
    "id = vectordb.add_documents(\n",
    "    new_docs,\n",
    "    ids=[\"7\"]\n",
    ")\n",
    "    "
   ]
  },
  {
   "cell_type": "code",
   "execution_count": 39,
   "id": "9c33b802-4710-42e2-a2d7-81d38dc79a4e",
   "metadata": {},
   "outputs": [
    {
     "data": {
      "text/plain": [
       "[Document(page_content='Wareconn is the best web platform for warranty maintenance.', metadata={'source': 'wareconn.com', 'page': 1})]"
      ]
     },
     "execution_count": 39,
     "metadata": {},
     "output_type": "execute_result"
    }
   ],
   "source": [
    "vectordb.similarity_search(\"What is the best web platform for warranty maintenance?\", k=1)"
   ]
  },
  {
   "cell_type": "code",
   "execution_count": 40,
   "id": "ca46f066-2ae3-463d-8fb1-0a05c99eddfb",
   "metadata": {},
   "outputs": [
    {
     "data": {
      "text/plain": [
       "7"
      ]
     },
     "execution_count": 40,
     "metadata": {},
     "output_type": "execute_result"
    }
   ],
   "source": [
    "vectordb._collection.count()"
   ]
  },
  {
   "cell_type": "code",
   "execution_count": 41,
   "id": "bcc22246-db84-45bf-a52f-5cc34fbd18c2",
   "metadata": {},
   "outputs": [],
   "source": [
    "update_doc =  Document(\n",
    "    page_content=\"Wareconn is the perfect web platform for warranty maintenance.\",\n",
    "    metadata={\n",
    "        \"source\": \"wareconn.com\",\n",
    "        \"page\": 1\n",
    "    }\n",
    ")"
   ]
  },
  {
   "cell_type": "code",
   "execution_count": 45,
   "id": "a99f4cf9-84a9-43f5-9167-5c7143e264a5",
   "metadata": {},
   "outputs": [
    {
     "name": "stdout",
     "output_type": "stream",
     "text": [
      "{'ids': ['7'], 'embeddings': None, 'documents': ['Wareconn is the best web platform for warranty maintenance.'], 'metadatas': [{'source': 'wareconn.com', 'page': 1}]}\n"
     ]
    }
   ],
   "source": [
    "# print(vectordb._collection.get(ids=['1dba1291-4568-11ee-b90f-2cea7f594df2']))\n",
    "\n",
    "print(vectordb._collection.get(ids=id))"
   ]
  },
  {
   "cell_type": "code",
   "execution_count": 46,
   "id": "393362b2-9d76-4206-b742-b69c44e418b9",
   "metadata": {},
   "outputs": [],
   "source": [
    "vectordb.update_document(id[0], update_doc)"
   ]
  },
  {
   "cell_type": "code",
   "execution_count": 47,
   "id": "d8fbebf6-5970-44b0-8176-cbb7ab208fb5",
   "metadata": {},
   "outputs": [
    {
     "name": "stdout",
     "output_type": "stream",
     "text": [
      "{'ids': ['7'], 'embeddings': None, 'documents': ['Wareconn is the perfect web platform for warranty maintenance.'], 'metadatas': [{'source': 'wareconn.com', 'page': 1}]}\n"
     ]
    }
   ],
   "source": [
    "print(vectordb._collection.get(ids=id))"
   ]
  },
  {
   "cell_type": "code",
   "execution_count": 48,
   "id": "7a80bec0-6cde-4a17-a8ed-259f00c59cad",
   "metadata": {},
   "outputs": [],
   "source": [
    "vectordb._collection.delete(ids=id)"
   ]
  },
  {
   "cell_type": "code",
   "execution_count": 49,
   "id": "7c5e8b17-10e0-494a-9687-be4d46fd5bf4",
   "metadata": {},
   "outputs": [
    {
     "data": {
      "text/plain": [
       "6"
      ]
     },
     "execution_count": 49,
     "metadata": {},
     "output_type": "execute_result"
    }
   ],
   "source": [
    "vectordb._collection.count()"
   ]
  },
  {
   "cell_type": "code",
   "execution_count": null,
   "id": "b54d06e6-7acb-490f-8618-3db02c7831b3",
   "metadata": {},
   "outputs": [],
   "source": []
  },
  {
   "cell_type": "code",
   "execution_count": 50,
   "id": "de328c9c-488b-4417-b051-cd952b15060a",
   "metadata": {},
   "outputs": [],
   "source": [
    "retriever = vectordb.as_retriever(search_kwargs={\"k\": 4})"
   ]
  },
  {
   "cell_type": "code",
   "execution_count": 51,
   "id": "46213d3a-95b4-498d-9de5-79874a633a1b",
   "metadata": {},
   "outputs": [
    {
     "name": "stdout",
     "output_type": "stream",
     "text": [
      "huggingface/tokenizers: The current process just got forked, after parallelism has already been used. Disabling parallelism to avoid deadlocks...\n",
      "To disable this warning, you can either:\n",
      "\t- Avoid using `tokenizers` before the fork if possible\n",
      "\t- Explicitly set the environment variable TOKENIZERS_PARALLELISM=(true | false)\n",
      "Mon Aug 28 14:09:23 2023       \n",
      "+---------------------------------------------------------------------------------------+\n",
      "| NVIDIA-SMI 535.54.03              Driver Version: 535.54.03    CUDA Version: 12.2     |\n",
      "|-----------------------------------------+----------------------+----------------------+\n",
      "| GPU  Name                 Persistence-M | Bus-Id        Disp.A | Volatile Uncorr. ECC |\n",
      "| Fan  Temp   Perf          Pwr:Usage/Cap |         Memory-Usage | GPU-Util  Compute M. |\n",
      "|                                         |                      |               MIG M. |\n",
      "|=========================================+======================+======================|\n",
      "|   0  Tesla T4                       Off | 00000000:AF:00.0 Off |                    0 |\n",
      "| N/A   68C    P0              32W /  70W |  12380MiB / 15360MiB |      0%      Default |\n",
      "|                                         |                      |                  N/A |\n",
      "+-----------------------------------------+----------------------+----------------------+\n",
      "                                                                                         \n",
      "+---------------------------------------------------------------------------------------+\n",
      "| Processes:                                                                            |\n",
      "|  GPU   GI   CI        PID   Type   Process name                            GPU Memory |\n",
      "|        ID   ID                                                             Usage      |\n",
      "|=======================================================================================|\n",
      "|    0   N/A  N/A     26303      C   /usr/local/bin/python3.10                  4940MiB |\n",
      "|    0   N/A  N/A     26738      C   ./server                                   7432MiB |\n",
      "+---------------------------------------------------------------------------------------+\n"
     ]
    }
   ],
   "source": [
    "!nvidia-smi"
   ]
  },
  {
   "cell_type": "code",
   "execution_count": 52,
   "id": "87d4feec-feb0-412d-bbae-96e4ff952e98",
   "metadata": {},
   "outputs": [],
   "source": [
    "q1 = \"How can I navigate to the RMA request page in the Wareconn Customer Portal?\"\n",
    "ans1 = retriever.get_relevant_documents(q1)"
   ]
  },
  {
   "cell_type": "code",
   "execution_count": 53,
   "id": "c98ae12f-3418-4ca4-909f-20eca48edffb",
   "metadata": {},
   "outputs": [
    {
     "name": "stdout",
     "output_type": "stream",
     "text": [
      "----------Answer 1----------\n",
      "2 / 6 \n",
      "This document  belongs to Wareconn  Technology Services (Tianjin) Co., Ltd. It is only intended to be \n",
      "used to introduce Wareconn functions and procedures. Please do not use it for other purposes.  2 wareconn standard operating procedure  \n",
      "SOP  \n",
      "I. This guide will walk you through the process of requesting  RMA  through the \n",
      "Wareconn Customer Portal.  \n",
      "II. Details on how to fill in the Part Number (PN) and Serial Number (SN)  \n",
      "1.1 RMA request  procedure (Parts return)  \n",
      "1. System login  \n",
      "⚫ Module: https://www.wareconn.com/  \n",
      "⚫ Description:  Login  with account and password  \n",
      " \n",
      "To log in, follow these steps:  \n",
      "Go to https://www.wareconn.com/ and click Log in  \n",
      " \n",
      "Fill in your email and password, then click Login\n",
      " \n",
      "Click Enter  in the Customer portal\n",
      "{'source': 'MSFT RMA request SOP v1.0.pdf', 'page': 1}\n",
      "----------Answer 2----------\n",
      "3 / 6 \n",
      "This document  belongs to Wareconn  Technology Services (Tianjin) Co., Ltd. It is only intended to be \n",
      "used to introduce Wareconn functions and procedures. Please do not use it for other purposes.  3 wareconn standard operating procedure  \n",
      "2. Go to  RMA Request  Page \n",
      "⚫ Module: Customer portal -Warranty Claims -Warranty Claims  \n",
      "⚫ Description: Go to RMA request page  \n",
      " \n",
      "To go to the RMA request page, follow these steps:  \n",
      "Click Warranty Claims  in the left menu, then click +Add  \n",
      " \n",
      "Click the icon shown in the image below  \n",
      "(Select the corresponding SI )\n",
      "{'source': 'MSFT RMA request SOP v1.0.pdf', 'page': 2}\n",
      "----------Answer 3----------\n",
      "4 / 6 \n",
      "This document  belongs to Wareconn  Technology Services (Tianjin) Co., Ltd. It is only intended to be \n",
      "used to introduce Wareconn functions and procedures. Please do not use it for other purposes.  4 wareconn standard operating procedure  \n",
      "3. Create RMA Request  \n",
      "⚫ Module: Customer portal -Warranty Claims -Warranty Claims -Create request  \n",
      "⚫ Description: Create RMA request order  \n",
      " \n",
      "To create a RMA request, follow these steps:  \n",
      "Click Add Warranty Claims   \n",
      " \n",
      "Then, click Parts Return\n",
      "{'source': 'MSFT RMA request SOP v1.0.pdf', 'page': 3}\n",
      "----------Answer 4----------\n",
      "6 / 6 \n",
      "This document  belongs to Wareconn  Technology Services (Tianjin) Co., Ltd. It is only intended to be \n",
      "used to introduce Wareconn functions and procedures. Please do not use it for other purposes.  6 wareconn standard operating procedure  \n",
      "5. Submit the RMA  request  \n",
      " \n",
      "⚫ Module: Customer portal -Warranty Claims -Warranty Claims -Submit  \n",
      "⚫ Description: Submit the RMA request  \n",
      " \n",
      "The Reminder field will show you whether this RMA request is approvable  \n",
      "(acceptable)  for warranty provider  or not.  \n",
      "Please remember to fill in WAL# in Customer No. field  \n",
      "Lastly, click Submit  in the top right corner to finish the  RMA requesting process\n",
      "{'source': 'MSFT RMA request SOP v1.0.pdf', 'page': 5}\n"
     ]
    }
   ],
   "source": [
    "\n",
    "for i, a in enumerate(ans1):\n",
    "  print(\"-\"*10+f\"Answer {i+1}\"+\"-\"*10)\n",
    "  print(a.page_content)\n",
    "  print(a.metadata)"
   ]
  },
  {
   "cell_type": "code",
   "execution_count": null,
   "id": "dbf94f4c-422e-45d9-950b-ea6c4436746f",
   "metadata": {},
   "outputs": [],
   "source": []
  }
 ],
 "metadata": {
  "kernelspec": {
   "display_name": "Python 3 (ipykernel)",
   "language": "python",
   "name": "python3"
  },
  "language_info": {
   "codemirror_mode": {
    "name": "ipython",
    "version": 3
   },
   "file_extension": ".py",
   "mimetype": "text/x-python",
   "name": "python",
   "nbconvert_exporter": "python",
   "pygments_lexer": "ipython3",
   "version": "3.10.6"
  }
 },
 "nbformat": 4,
 "nbformat_minor": 5
}
