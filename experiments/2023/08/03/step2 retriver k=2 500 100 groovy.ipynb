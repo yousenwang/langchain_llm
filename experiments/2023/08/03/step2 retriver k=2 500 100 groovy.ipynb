{
 "cells": [
  {
   "cell_type": "code",
   "execution_count": 2,
   "id": "5158cb24-a0c3-4b90-b602-cc9255bc4a8c",
   "metadata": {},
   "outputs": [],
   "source": [
    "from langchain.vectorstores import Chroma\n",
    "# from langchain.text_splitter import RecursiveCharacterTextSplitter\n",
    "# from langchain.llms import OpenAI\n",
    "from langchain.chains import RetrievalQA, RetrievalQAWithSourcesChain\n",
    "# from langchain.document_loaders import TextLoader\n",
    "# from langchain.document_loaders import PyPDFLoader\n",
    "# from langchain.document_loaders import DirectoryLoader\n",
    "\n",
    "\n",
    "# from InstructorEmbedding import INSTRUCTOR\n",
    "# from langchain.embeddings import HuggingFaceInstructEmbeddings"
   ]
  },
  {
   "cell_type": "code",
   "execution_count": 3,
   "id": "996ef127-9a25-4f67-ad56-4021a312e0e9",
   "metadata": {},
   "outputs": [
    {
     "name": "stderr",
     "output_type": "stream",
     "text": [
      "/usr/local/lib/python3.10/site-packages/InstructorEmbedding/instructor.py:7: TqdmExperimentalWarning: Using `tqdm.autonotebook.tqdm` in notebook mode. Use `tqdm.tqdm` instead to force console mode (e.g. in jupyter console)\n",
      "  from tqdm.autonotebook import trange\n"
     ]
    },
    {
     "name": "stdout",
     "output_type": "stream",
     "text": [
      "load INSTRUCTOR_Transformer\n",
      "max_seq_length  512\n"
     ]
    }
   ],
   "source": [
    "from langchain.embeddings import HuggingFaceInstructEmbeddings\n",
    "\n",
    "instructor_embeddings = HuggingFaceInstructEmbeddings(model_name=\"hkunlp/instructor-xl\",\n",
    "                                                      model_kwargs={\"device\": \"cuda\"})"
   ]
  },
  {
   "cell_type": "code",
   "execution_count": 4,
   "id": "e74a8206-14fd-4a53-93e6-f2d85a106970",
   "metadata": {},
   "outputs": [],
   "source": [
    "persist_directory = 'db_500_100'\n",
    "\n",
    "vectordb = Chroma(persist_directory=persist_directory,\n",
    "                  embedding_function=instructor_embeddings)"
   ]
  },
  {
   "cell_type": "code",
   "execution_count": 5,
   "id": "de328c9c-488b-4417-b051-cd952b15060a",
   "metadata": {},
   "outputs": [],
   "source": [
    "retriever = vectordb.as_retriever(search_kwargs={\"k\": 2})"
   ]
  },
  {
   "cell_type": "code",
   "execution_count": 1,
   "id": "46213d3a-95b4-498d-9de5-79874a633a1b",
   "metadata": {},
   "outputs": [
    {
     "name": "stdout",
     "output_type": "stream",
     "text": [
      "Thu Aug  3 15:59:20 2023       \n",
      "+---------------------------------------------------------------------------------------+\n",
      "| NVIDIA-SMI 535.54.03              Driver Version: 535.54.03    CUDA Version: 12.2     |\n",
      "|-----------------------------------------+----------------------+----------------------+\n",
      "| GPU  Name                 Persistence-M | Bus-Id        Disp.A | Volatile Uncorr. ECC |\n",
      "| Fan  Temp   Perf          Pwr:Usage/Cap |         Memory-Usage | GPU-Util  Compute M. |\n",
      "|                                         |                      |               MIG M. |\n",
      "|=========================================+======================+======================|\n",
      "|   0  Tesla T4                       Off | 00000000:AF:00.0 Off |                    0 |\n",
      "| N/A   63C    P0              31W /  70W |      2MiB / 15360MiB |      8%      Default |\n",
      "|                                         |                      |                  N/A |\n",
      "+-----------------------------------------+----------------------+----------------------+\n",
      "                                                                                         \n",
      "+---------------------------------------------------------------------------------------+\n",
      "| Processes:                                                                            |\n",
      "|  GPU   GI   CI        PID   Type   Process name                            GPU Memory |\n",
      "|        ID   ID                                                             Usage      |\n",
      "|=======================================================================================|\n",
      "|  No running processes found                                                           |\n",
      "+---------------------------------------------------------------------------------------+\n"
     ]
    }
   ],
   "source": [
    "!nvidia-smi"
   ]
  },
  {
   "cell_type": "code",
   "execution_count": 6,
   "id": "87d4feec-feb0-412d-bbae-96e4ff952e98",
   "metadata": {},
   "outputs": [],
   "source": [
    "q1 = \"How can I navigate to the RMA request page in the Wareconn Customer Portal?\"\n",
    "ans1 = retriever.get_relevant_documents(q1)"
   ]
  },
  {
   "cell_type": "code",
   "execution_count": 7,
   "id": "5186481e-a59f-49a2-b519-0992fb5c04a8",
   "metadata": {},
   "outputs": [],
   "source": [
    "q2 = \"What does the Reminder field indicate when submitting an RMA request?\"\n",
    "ans2 = retriever.get_relevant_documents(q2)"
   ]
  },
  {
   "cell_type": "code",
   "execution_count": 8,
   "id": "93fbb2fb-1a67-4111-ad5d-21eee90bc4be",
   "metadata": {},
   "outputs": [],
   "source": [
    "q3 = \"What information should be filled in the Customer No. field when submitting an RMA request?\"\n",
    "ans3 = retriever.get_relevant_documents(q3)"
   ]
  },
  {
   "cell_type": "code",
   "execution_count": 9,
   "id": "72e271f2-623b-4736-a21c-e6cab02ea36d",
   "metadata": {},
   "outputs": [],
   "source": [
    "q4 = \"What steps should be followed when filling in the request information for an RMA?\"\n",
    "ans4 = retriever.get_relevant_documents(q4)"
   ]
  },
  {
   "cell_type": "code",
   "execution_count": 10,
   "id": "13d84adc-089a-45b5-a29c-ac0bedb7faf8",
   "metadata": {},
   "outputs": [],
   "source": [
    "q5 = \"Can this document be used for purposes other than introducing Wareconn functions and procedures?\"\n",
    "ans5 = retriever.get_relevant_documents(q5)"
   ]
  },
  {
   "cell_type": "code",
   "execution_count": 11,
   "id": "dbf94f4c-422e-45d9-950b-ea6c4436746f",
   "metadata": {},
   "outputs": [],
   "source": [
    "llm_name = \"ggml-gpt4all-j-v1.3-groovy.bin\""
   ]
  },
  {
   "cell_type": "code",
   "execution_count": 12,
   "id": "cd13f037-acfb-4fa3-88fb-211ff5484db8",
   "metadata": {},
   "outputs": [
    {
     "name": "stdout",
     "output_type": "stream",
     "text": [
      "Found model file at  /root/.cache/gpt4all/ggml-gpt4all-j-v1.3-groovy.bin\n",
      "gptj_model_load: loading model from '/root/.cache/gpt4all/ggml-gpt4all-j-v1.3-groovy.bin' - please wait ...\n",
      "gptj_model_load: n_vocab = 50400\n",
      "gptj_model_load: n_ctx   = 2048\n",
      "gptj_model_load: n_embd  = 4096\n",
      "gptj_model_load: n_head  = 16\n",
      "gptj_model_load: n_layer = 28\n",
      "gptj_model_load: n_rot   = 64\n",
      "gptj_model_load: f16     = 2\n",
      "gptj_model_load: ggml ctx size = 5401.45 MB\n",
      "gptj_model_load: kv self size  =  896.00 MB\n",
      "gptj_model_load: ................................... done\n",
      "gptj_model_load: model size =  3609.38 MB / num tensors = 285\n"
     ]
    }
   ],
   "source": [
    "import gpt4all\n",
    "gptj = gpt4all.GPT4All(llm_name,allow_download=False, model_path='/root/.cache/gpt4all/')"
   ]
  },
  {
   "cell_type": "code",
   "execution_count": 20,
   "id": "78334104-3a32-41b2-be25-8e5e44192391",
   "metadata": {},
   "outputs": [],
   "source": [
    "# llm_name = \"ggml-model-gpt4all-falcon-q4_0.bin\"\n",
    "# falcon = gpt4all.GPT4All(llm_name,allow_download=False, model_path='/root/.cache/gpt4all/')"
   ]
  },
  {
   "cell_type": "code",
   "execution_count": 21,
   "id": "d18d1d0f-36a9-45c3-b06e-16ffce5ac15b",
   "metadata": {},
   "outputs": [
    {
     "name": "stdout",
     "output_type": "stream",
     "text": [
      "huggingface/tokenizers: The current process just got forked, after parallelism has already been used. Disabling parallelism to avoid deadlocks...\n",
      "To disable this warning, you can either:\n",
      "\t- Avoid using `tokenizers` before the fork if possible\n",
      "\t- Explicitly set the environment variable TOKENIZERS_PARALLELISM=(true | false)\n",
      "total 7.4G\n",
      "drwxr-xr-x  2 root root   98 2023-08-02__16:17:05 .\n",
      "drwxr-xr-x. 8 root root   91 2023-07-31__14:13:10 ..\n",
      "-rw-r--r--  1 root root 3.6G 2023-05-10__20:09:23 ggml-gpt4all-j-v1.3-groovy.bin\n",
      "-rw-r--r--  1 root root 3.8G 2023-06-28__00:32:51 ggml-model-gpt4all-falcon-q4_0.bin\n",
      "-rw-r--r--  1 root root  157 2023-08-02__16:17:05 p.py\n"
     ]
    }
   ],
   "source": [
    "!ls -lah /root/.cache/gpt4all/"
   ]
  },
  {
   "cell_type": "code",
   "execution_count": 15,
   "id": "23897c37-a96e-4ca5-854f-28a0596ba1c8",
   "metadata": {},
   "outputs": [
    {
     "name": "stdout",
     "output_type": "stream",
     "text": [
      "huggingface/tokenizers: The current process just got forked, after parallelism has already been used. Disabling parallelism to avoid deadlocks...\n",
      "To disable this warning, you can either:\n",
      "\t- Avoid using `tokenizers` before the fork if possible\n",
      "\t- Explicitly set the environment variable TOKENIZERS_PARALLELISM=(true | false)\n",
      "total 3.8G\n",
      "drwxr-xr-x 2 root root   56 2023-08-02__11:26:33 .\n",
      "drwxrwxrwx 6 root root 4.0K 2023-08-03__15:45:15 ..\n",
      "-rw-r--r-- 1 root root 3.8G 2023-08-02__15:40:08 ggml-model-gpt4all-falcon-q4_0.bin\n"
     ]
    }
   ],
   "source": [
    "!ls -lah ./models"
   ]
  },
  {
   "cell_type": "code",
   "execution_count": 16,
   "id": "f58a1dfe-7a0c-44af-8d9e-1dbc2c2b6b67",
   "metadata": {},
   "outputs": [],
   "source": [
    "import inspect"
   ]
  },
  {
   "cell_type": "code",
   "execution_count": 17,
   "id": "050dcb5c-1dd5-4ada-af5f-ce69b2b48f24",
   "metadata": {},
   "outputs": [
    {
     "data": {
      "text/plain": [
       "<Signature (prompt: str, max_tokens: int = 200, temp: float = 0.7, top_k: int = 40, top_p: float = 0.4, repeat_penalty: float = 1.18, repeat_last_n: int = 64, n_batch: int = 8, n_predict: Optional[int] = None, streaming: bool = False, callback: Callable[[int, str], bool] = <function empty_response_callback at 0x7f5acac768c0>) -> Union[str, Iterable[str]]>"
      ]
     },
     "execution_count": 17,
     "metadata": {},
     "output_type": "execute_result"
    }
   ],
   "source": [
    "inspect.signature(gptj.generate)"
   ]
  },
  {
   "cell_type": "code",
   "execution_count": 18,
   "id": "5cf891ab-613f-4d6f-8565-d69a8ecda192",
   "metadata": {},
   "outputs": [],
   "source": [
    "def generate_from_template(context, query):\n",
    "  return  f\"\"\"Use the following pieces of context to answer the question at the end. If you don't know the answer, just say that you don't know, don't try to make up an answer.\n",
    "\n",
    "  {context}\n",
    "\n",
    "  Question: {query}\n",
    "  Answer:\"\"\""
   ]
  },
  {
   "cell_type": "code",
   "execution_count": 19,
   "id": "5e722db2-2ad5-4460-bd98-af1988a9be10",
   "metadata": {},
   "outputs": [
    {
     "name": "stdout",
     "output_type": "stream",
     "text": [
      "Use the following pieces of context to answer the question at the end. If you don't know the answer, just say that you don't know, don't try to make up an answer.\n",
      "\n",
      "  1.1 RMA request  procedure (Parts return)  \n",
      "1. System login  \n",
      "⚫ Module: https://www.wareconn.com/  \n",
      "⚫ Description:  Login  with account and password  \n",
      " \n",
      "To log in, follow these steps:  \n",
      "Go to https://www.wareconn.com/ and click Log in  \n",
      " \n",
      "Fill in your email and password, then click Login\n",
      " \n",
      "Click Enter  in the Customer portal3 / 6 \n",
      "This document  belongs to Wareconn  Technology Services (Tianjin) Co., Ltd. It is only intended to be \n",
      "used to introduce Wareconn functions and procedures. Please do not use it for other purposes.  3 wareconn standard operating procedure  \n",
      "2. Go to  RMA Request  Page \n",
      "⚫ Module: Customer portal -Warranty Claims -Warranty Claims  \n",
      "⚫ Description: Go to RMA request page  \n",
      " \n",
      "To go to the RMA request page, follow these steps:  \n",
      "Click Warranty Claims  in the left menu, then click +Add\n",
      "\n",
      "  Question: How can I navigate to the RMA request page in the Wareconn Customer Portal?\n",
      "  Answer:\n"
     ]
    }
   ],
   "source": [
    "\n",
    "content_with_ans1 = \"\"\n",
    "for i, a in enumerate(ans1):\n",
    "  content_with_ans1+=a.page_content\n",
    "\n",
    "prompt1 = generate_from_template(content_with_ans1, q1)\n",
    "print(prompt1)\n"
   ]
  },
  {
   "cell_type": "code",
   "execution_count": 22,
   "id": "8613429a-91e5-49c8-981b-3fa67442b9c8",
   "metadata": {},
   "outputs": [
    {
     "name": "stdout",
     "output_type": "stream",
     "text": [
      " To access the RM\n",
      "CPU times: user 2min 44s, sys: 1.15 s, total: 2min 46s\n",
      "Wall time: 41.7 s\n"
     ]
    }
   ],
   "source": [
    "%%time\n",
    "# You can run raw generate as well on your input. But performance will degrade.\n",
    "res = gptj.generate(prompt1)\n",
    "print(res)"
   ]
  },
  {
   "cell_type": "code",
   "execution_count": 23,
   "id": "476cc0ce-f1c0-4ba6-a04d-3806e3689bf7",
   "metadata": {},
   "outputs": [
    {
     "data": {
      "text/plain": [
       "0.19047618739229027"
      ]
     },
     "execution_count": 23,
     "metadata": {},
     "output_type": "execute_result"
    }
   ],
   "source": [
    "from rouge import Rouge\n",
    "rouge_scorer = Rouge()\n",
    "\n",
    "hypothesis = res\n",
    "reference = \"To navigate to the RMA request page, click on \\\"Warranty Claims\\\" in the left menu, then click on the \\\"+Add\\\" button.\"\n",
    "\n",
    "score = rouge_scorer.get_scores(\n",
    "    hyps=hypothesis,\n",
    "    refs=reference,\n",
    ")\n",
    "score[0][\"rouge-l\"][\"f\"]"
   ]
  },
  {
   "cell_type": "code",
   "execution_count": 24,
   "id": "623e0472-33e6-468e-9332-bed3e98d26ae",
   "metadata": {},
   "outputs": [
    {
     "data": {
      "text/plain": [
       "0.00036670698555488354"
      ]
     },
     "execution_count": 24,
     "metadata": {},
     "output_type": "execute_result"
    }
   ],
   "source": [
    "from sacrebleu.metrics import BLEU\n",
    "bleu_scorer = BLEU(effective_order=True)\n",
    "\n",
    "score = bleu_scorer.sentence_score(\n",
    "    hypothesis=hypothesis,\n",
    "    references=[reference]\n",
    ")\n",
    "\n",
    "score.score/100 # sacreBLEU gives the score in percent"
   ]
  },
  {
   "cell_type": "code",
   "execution_count": null,
   "id": "40730bdb-74db-4a60-8894-938edc3a6bd8",
   "metadata": {},
   "outputs": [],
   "source": []
  },
  {
   "cell_type": "code",
   "execution_count": 25,
   "id": "0ecb9e3f-e0a2-44ec-9d1d-f70394c0366c",
   "metadata": {},
   "outputs": [
    {
     "data": {
      "text/plain": [
       "<Signature (lowercase: bool = False, force: bool = False, tokenize: Optional[str] = None, smooth_method: str = 'exp', smooth_value: Optional[float] = None, max_ngram_order: int = 4, effective_order: bool = False, trg_lang: str = '', references: Optional[Sequence[Sequence[str]]] = None)>"
      ]
     },
     "execution_count": 25,
     "metadata": {},
     "output_type": "execute_result"
    }
   ],
   "source": [
    "import inspect\n",
    "inspect.signature(BLEU)"
   ]
  },
  {
   "cell_type": "code",
   "execution_count": 26,
   "id": "b8a028cc-9860-45bc-9ed6-534df4ac83b5",
   "metadata": {},
   "outputs": [
    {
     "name": "stdout",
     "output_type": "stream",
     "text": [
      "Use the following pieces of context to answer the question at the end. If you don't know the answer, just say that you don't know, don't try to make up an answer.\n",
      "\n",
      "  The Reminder field will show you whether this RMA request is approvable  \n",
      "(acceptable)  for warranty provider  or not.  \n",
      "Please remember to fill in WAL# in Customer No. field  \n",
      "Lastly, click Submit  in the top right corner to finish the  RMA requesting process6 / 6 \n",
      "This document  belongs to Wareconn  Technology Services (Tianjin) Co., Ltd. It is only intended to be \n",
      "used to introduce Wareconn functions and procedures. Please do not use it for other purposes.  6 wareconn standard operating procedure  \n",
      "5. Submit the RMA  request  \n",
      " \n",
      "⚫ Module: Customer portal -Warranty Claims -Warranty Claims -Submit  \n",
      "⚫ Description: Submit the RMA request  \n",
      " \n",
      "The Reminder field will show you whether this RMA request is approvable\n",
      "\n",
      "  Question: What does the Reminder field indicate when submitting an RMA request?\n",
      "  Answer:\n"
     ]
    }
   ],
   "source": [
    "content_with_ans2 = \"\"\n",
    "for i, a in enumerate(ans2):\n",
    "  content_with_ans2+=a.page_content\n",
    "\n",
    "prompt2 = generate_from_template(content_with_ans2, q2)\n",
    "print(prompt2)\n"
   ]
  },
  {
   "cell_type": "code",
   "execution_count": 27,
   "id": "5fe88729-22f2-4380-9c8f-944a40aedbd5",
   "metadata": {},
   "outputs": [
    {
     "name": "stdout",
     "output_type": "stream",
     "text": [
      "CPU times: user 2min 27s, sys: 683 ms, total: 2min 27s\n",
      "Wall time: 37.1 s\n"
     ]
    }
   ],
   "source": [
    "%%time\n",
    "# You can run raw generate as well on your input. But performance will degrade.\n",
    "res2 = gptj.generate(prompt2)"
   ]
  },
  {
   "cell_type": "code",
   "execution_count": 28,
   "id": "0d259bde-05a0-4268-ad18-a133551e624f",
   "metadata": {},
   "outputs": [
    {
     "name": "stdout",
     "output_type": "stream",
     "text": [
      " The Remiender field indicates that the RMAs are acceptable for warranty providers.\n"
     ]
    }
   ],
   "source": [
    "print(res2)"
   ]
  },
  {
   "cell_type": "code",
   "execution_count": 40,
   "id": "89d53681-bd96-47d7-ad25-14a8972cfcd7",
   "metadata": {},
   "outputs": [
    {
     "name": "stdout",
     "output_type": "stream",
     "text": [
      "0.357142852244898\n",
      "0.02932576302133846\n"
     ]
    }
   ],
   "source": [
    "rouge_scorer = Rouge()\n",
    "\n",
    "hypothesis = res2\n",
    "reference = \"The Reminder field shows whether the RMA request is approvable (acceptable) for the warranty provider or not.\"\n",
    "\n",
    "rouge = rouge_scorer.get_scores(\n",
    "    hyps=hypothesis,\n",
    "    refs=reference,\n",
    ")\n",
    "print(rouge[0][\"rouge-l\"][\"f\"])\n",
    "\n",
    "bleu_scorer = BLEU(effective_order=True)\n",
    "\n",
    "blue = bleu_scorer.sentence_score(\n",
    "    hypothesis=hypothesis,\n",
    "    references=[reference]\n",
    ")\n",
    "\n",
    "print(blue.score/100) # sacreBLEU gives the score in percent"
   ]
  },
  {
   "cell_type": "code",
   "execution_count": null,
   "id": "6f828354-5d6a-45a1-ad12-cbee21103b38",
   "metadata": {},
   "outputs": [],
   "source": []
  },
  {
   "cell_type": "code",
   "execution_count": 30,
   "id": "44a11a0c-8255-43df-ae82-c474b3208762",
   "metadata": {},
   "outputs": [
    {
     "name": "stdout",
     "output_type": "stream",
     "text": [
      "Use the following pieces of context to answer the question at the end. If you don't know the answer, just say that you don't know, don't try to make up an answer.\n",
      "\n",
      "  The Reminder field will show you whether this RMA request is approvable  \n",
      "(acceptable)  for warranty provider  or not.  \n",
      "Please remember to fill in WAL# in Customer No. field  \n",
      "Lastly, click Submit  in the top right corner to finish the  RMA requesting process1.1 RMA request  procedure (Parts return)  \n",
      "1. System login  \n",
      "⚫ Module: https://www.wareconn.com/  \n",
      "⚫ Description:  Login  with account and password  \n",
      " \n",
      "To log in, follow these steps:  \n",
      "Go to https://www.wareconn.com/ and click Log in  \n",
      " \n",
      "Fill in your email and password, then click Login\n",
      " \n",
      "Click Enter  in the Customer portal\n",
      "\n",
      "  Question: What information should be filled in the Customer No. field when submitting an RMA request?\n",
      "  Answer:\n"
     ]
    }
   ],
   "source": [
    "content_with_ans3 = \"\"\n",
    "for i, a in enumerate(ans3):\n",
    "  content_with_ans3+=a.page_content\n",
    "\n",
    "prompt3 = generate_from_template(content_with_ans3, q3)\n",
    "print(prompt3)"
   ]
  },
  {
   "cell_type": "code",
   "execution_count": 31,
   "id": "b655bd8f-d982-4635-8b89-5125e8902dd2",
   "metadata": {},
   "outputs": [
    {
     "name": "stdout",
     "output_type": "stream",
     "text": [
      " The customer number (WAL#) is a unique identifier for each individual who has purchased or received products from your company and needs to receive warranty service under their respective warranties. It can also serve as proof of purchase, which may be required by some third-party providers such as the manufacturer's authorized repair center.\n",
      "CPU times: user 3min 3s, sys: 686 ms, total: 3min 3s\n",
      "Wall time: 46.2 s\n"
     ]
    }
   ],
   "source": [
    "%%time\n",
    "# You can run raw generate as well on your input. But performance will degrade.\n",
    "res3 = gptj.generate(prompt3)\n",
    "print(res3)"
   ]
  },
  {
   "cell_type": "code",
   "execution_count": 41,
   "id": "b57eda9b-0dbe-4f8f-be3a-8904c1705e33",
   "metadata": {},
   "outputs": [
    {
     "name": "stdout",
     "output_type": "stream",
     "text": [
      "0.028985503532871725\n",
      "0.017394593259606017\n"
     ]
    }
   ],
   "source": [
    "rouge_scorer = Rouge()\n",
    "\n",
    "hypothesis = res3\n",
    "reference = \"When submitting an RMA request, you should fill in the WAL# (Warranty Authorization Number) in the Customer No. field.\"\n",
    "\n",
    "rouge = rouge_scorer.get_scores(\n",
    "    hyps=hypothesis,\n",
    "    refs=reference,\n",
    ")\n",
    "print(rouge[0][\"rouge-l\"][\"f\"])\n",
    "\n",
    "bleu_scorer = BLEU(effective_order=True)\n",
    "\n",
    "blue = bleu_scorer.sentence_score(\n",
    "    hypothesis=hypothesis,\n",
    "    references=[reference]\n",
    ")\n",
    "\n",
    "print(blue.score/100) # sacreBLEU gives the score in percent"
   ]
  },
  {
   "cell_type": "code",
   "execution_count": 32,
   "id": "fd4a9e74-796a-4f2c-ac55-bd77f5380913",
   "metadata": {},
   "outputs": [
    {
     "name": "stdout",
     "output_type": "stream",
     "text": [
      "Use the following pieces of context to answer the question at the end. If you don't know the answer, just say that you don't know, don't try to make up an answer.\n",
      "\n",
      "  The Reminder field will show you whether this RMA request is approvable  \n",
      "(acceptable)  for warranty provider  or not.  \n",
      "Please remember to fill in WAL# in Customer No. field  \n",
      "Lastly, click Submit  in the top right corner to finish the  RMA requesting process1.1 RMA request  procedure (Parts return)  \n",
      "1. System login  \n",
      "⚫ Module: https://www.wareconn.com/  \n",
      "⚫ Description:  Login  with account and password  \n",
      " \n",
      "To log in, follow these steps:  \n",
      "Go to https://www.wareconn.com/ and click Log in  \n",
      " \n",
      "Fill in your email and password, then click Login\n",
      " \n",
      "Click Enter  in the Customer portal\n",
      "\n",
      "  Question: What steps should be followed when filling in the request information for an RMA?\n",
      "  Answer:\n"
     ]
    }
   ],
   "source": [
    "content_with_ans4 = \"\"\n",
    "for i, a in enumerate(ans4):\n",
    "  content_with_ans4+=a.page_content\n",
    "\n",
    "prompt4 = generate_from_template(content_with_ans4, q4)\n",
    "print(prompt4)"
   ]
  },
  {
   "cell_type": "code",
   "execution_count": 33,
   "id": "5a16ceac-4fd4-4544-8640-db03529f7c10",
   "metadata": {},
   "outputs": [
    {
     "name": "stdout",
     "output_type": "stream",
     "text": [
      " When filling out a warranty claim or return item authorization (RMA) form online through Wareconn's website, follow these general guidelines to ensure accurate and complete data entry. Here are some key points to keep in mind while completing this process:\n",
      "1. Enter your customer number correctly - Make sure you enter the correct Customer No., which is a unique 10-digit code assigned by Wareconn for each of its customers. If you have multiple accounts, make sure you select the right one and provide all necessary information such as contact details (name, address), email addresses, phone numbers, etc.\n",
      "2. Enter your RMA number correctly - Make sure to enter a unique 10-digit code assigned by Wareconn for each RMA request. If you have multiple requests in progress at any given time, make sure the correct one is selected and provide all necessary information such as contact details (name, address), email addresses, phone numbers, etc.\n",
      "3. Enter your warranty provider's name correctly\n",
      "CPU times: user 5min 28s, sys: 596 ms, total: 5min 29s\n",
      "Wall time: 1min 22s\n"
     ]
    }
   ],
   "source": [
    "%%time\n",
    "# You can run raw generate as well on your input. But performance will degrade.\n",
    "res4 = gptj.generate(prompt4)\n",
    "print(res4)"
   ]
  },
  {
   "cell_type": "code",
   "execution_count": 42,
   "id": "dd6ecb41-a14a-4bc5-9f84-c127fa74468e",
   "metadata": {},
   "outputs": [
    {
     "name": "stdout",
     "output_type": "stream",
     "text": [
      "0.13245032683829672\n",
      "0.015184028482223562\n"
     ]
    }
   ],
   "source": [
    "rouge_scorer = Rouge()\n",
    "\n",
    "hypothesis = res4\n",
    "reference = \"\"\"To fill in the request information for an RMA, follow these steps:\n",
    "\n",
    "Fill in the Product SN (Serial Number), Product PN (Part Number), and defective reason.\n",
    "Select the Rack PN (Part Number) by clicking on \"Please select Parts\" and choose the desired quantity.\n",
    "Click on \"Confirm\" to proceed.\n",
    "Optionally, fill in the Parts SN (Serial Number) for the failure part (not required).\n",
    "Click on \"Save\" to save the information.\n",
    "\"\"\"\n",
    "\n",
    "rouge = rouge_scorer.get_scores(\n",
    "    hyps=hypothesis,\n",
    "    refs=reference,\n",
    ")\n",
    "print(rouge[0][\"rouge-l\"][\"f\"])\n",
    "\n",
    "bleu_scorer = BLEU(effective_order=True)\n",
    "\n",
    "blue = bleu_scorer.sentence_score(\n",
    "    hypothesis=hypothesis,\n",
    "    references=[reference]\n",
    ")\n",
    "\n",
    "print(blue.score/100) # sacreBLEU gives the score in percent"
   ]
  },
  {
   "cell_type": "code",
   "execution_count": 34,
   "id": "65de5662-46b9-429a-9701-07343be22173",
   "metadata": {},
   "outputs": [
    {
     "name": "stdout",
     "output_type": "stream",
     "text": [
      "Use the following pieces of context to answer the question at the end. If you don't know the answer, just say that you don't know, don't try to make up an answer.\n",
      "\n",
      "  1 / 6 \n",
      "This document  belongs to Wareconn  Technology Services (Tianjin) Co., Ltd. It is only intended to be \n",
      "used to introduce Wareconn functions and procedures. Please do not use it for other purposes.  1 wareconn standard operating procedure  \n",
      " \n",
      " \n",
      " \n",
      " \n",
      " \n",
      " \n",
      "wareconn standard operating procedure  \n",
      "RMA request  SOP  \n",
      " \n",
      "Version : \n",
      "Version  Date  Editor  Description  \n",
      "v 1.0  2023/03/16 Eric Sun First draft (English version)  \n",
      " \n",
      " \n",
      "Content5 / 6 \n",
      "This document  belongs to Wareconn  Technology Services (Tianjin) Co., Ltd. It is only intended to be \n",
      "used to introduce Wareconn functions and procedures. Please do not use it for other purposes.  5 wareconn standard operating procedure  \n",
      "4. Fill in request info  \n",
      "⚫ Module: Customer portal -Warranty Claims -Warranty Claims -Fill in info  \n",
      "⚫ Description:  \n",
      "Fill in Product SN, Product PN and defective reason  (See the instruction s below )\n",
      "\n",
      "  Question: Can this document be used for purposes other than introducing Wareconn functions and procedures?\n",
      "  Answer:\n"
     ]
    }
   ],
   "source": [
    "content_with_ans5 = \"\"\n",
    "for i, a in enumerate(ans5):\n",
    "  content_with_ans5+=a.page_content\n",
    "\n",
    "prompt5 = generate_from_template(content_with_ans5, q5)\n",
    "print(prompt5)"
   ]
  },
  {
   "cell_type": "code",
   "execution_count": 35,
   "id": "469ede5e-7958-4f2d-8954-e1ebeba55e5b",
   "metadata": {},
   "outputs": [
    {
     "name": "stdout",
     "output_type": "stream",
     "text": [
      " No. This document is only intended to introduce Wareconn's functions and procedures related to warranty claims processing. It should not be used or relied upon in any way outside of the context provided, as it may contain proprietary information that could cause harm if misused.\n",
      "CPU times: user 3min 41s, sys: 459 ms, total: 3min 42s\n",
      "Wall time: 55.8 s\n"
     ]
    }
   ],
   "source": [
    "%%time\n",
    "# You can run raw generate as well on your input. But performance will degrade.\n",
    "res5 = gptj.generate(prompt5)\n",
    "print(res5)"
   ]
  },
  {
   "cell_type": "code",
   "execution_count": 43,
   "id": "ddbce617-341f-4ace-be2f-054c681329a4",
   "metadata": {},
   "outputs": [
    {
     "name": "stdout",
     "output_type": "stream",
     "text": [
      "0.3235294071972319\n",
      "0.08807590307622684\n"
     ]
    }
   ],
   "source": [
    "rouge_scorer = Rouge()\n",
    "\n",
    "hypothesis = res5\n",
    "reference = \"No, this document explicitly states that it should not be used for other purposes. Its sole intention is to introduce Wareconn functions and procedures.\"\n",
    "\n",
    "rouge = rouge_scorer.get_scores(\n",
    "    hyps=hypothesis,\n",
    "    refs=reference,\n",
    ")\n",
    "print(rouge[0][\"rouge-l\"][\"f\"])\n",
    "\n",
    "bleu_scorer = BLEU(effective_order=True)\n",
    "\n",
    "blue = bleu_scorer.sentence_score(\n",
    "    hypothesis=hypothesis,\n",
    "    references=[reference]\n",
    ")\n",
    "\n",
    "print(blue.score/100) # sacreBLEU gives the score in percent"
   ]
  },
  {
   "cell_type": "code",
   "execution_count": null,
   "id": "be203383-daca-4ca6-9ba9-eaa32d4eccb9",
   "metadata": {},
   "outputs": [],
   "source": []
  }
 ],
 "metadata": {
  "kernelspec": {
   "display_name": "Python 3 (ipykernel)",
   "language": "python",
   "name": "python3"
  },
  "language_info": {
   "codemirror_mode": {
    "name": "ipython",
    "version": 3
   },
   "file_extension": ".py",
   "mimetype": "text/x-python",
   "name": "python",
   "nbconvert_exporter": "python",
   "pygments_lexer": "ipython3",
   "version": "3.10.6"
  }
 },
 "nbformat": 4,
 "nbformat_minor": 5
}
