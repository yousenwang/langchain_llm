{
 "cells": [
  {
   "cell_type": "code",
   "execution_count": 1,
   "id": "a63ea281-382b-4472-9029-b18bc87d0742",
   "metadata": {},
   "outputs": [
    {
     "name": "stdout",
     "output_type": "stream",
     "text": [
      "Wed Aug 30 09:20:38 2023       \n",
      "+---------------------------------------------------------------------------------------+\n",
      "| NVIDIA-SMI 535.54.03              Driver Version: 535.54.03    CUDA Version: 12.2     |\n",
      "|-----------------------------------------+----------------------+----------------------+\n",
      "| GPU  Name                 Persistence-M | Bus-Id        Disp.A | Volatile Uncorr. ECC |\n",
      "| Fan  Temp   Perf          Pwr:Usage/Cap |         Memory-Usage | GPU-Util  Compute M. |\n",
      "|                                         |                      |               MIG M. |\n",
      "|=========================================+======================+======================|\n",
      "|   0  Tesla T4                       Off | 00000000:AF:00.0 Off |                    0 |\n",
      "| N/A   65C    P0              32W /  70W |      2MiB / 15360MiB |      6%      Default |\n",
      "|                                         |                      |                  N/A |\n",
      "+-----------------------------------------+----------------------+----------------------+\n",
      "                                                                                         \n",
      "+---------------------------------------------------------------------------------------+\n",
      "| Processes:                                                                            |\n",
      "|  GPU   GI   CI        PID   Type   Process name                            GPU Memory |\n",
      "|        ID   ID                                                             Usage      |\n",
      "|=======================================================================================|\n",
      "|  No running processes found                                                           |\n",
      "+---------------------------------------------------------------------------------------+\n"
     ]
    }
   ],
   "source": [
    "!nvidia-smi"
   ]
  },
  {
   "cell_type": "code",
   "execution_count": 2,
   "id": "e7e2f45f-286e-45d6-aa03-71b3b010cf63",
   "metadata": {},
   "outputs": [
    {
     "name": "stdout",
     "output_type": "stream",
     "text": [
      "Name: langchain\n",
      "Version: 0.0.268\n",
      "Summary: Building applications with LLMs through composability\n",
      "Home-page: https://www.github.com/hwchase17/langchain\n",
      "Author: \n",
      "Author-email: \n",
      "License: MIT\n",
      "Location: /usr/local/lib/python3.10/site-packages\n",
      "Requires: aiohttp, async-timeout, dataclasses-json, langsmith, numexpr, numpy, pydantic, PyYAML, requests, SQLAlchemy, tenacity\n",
      "Required-by: \n"
     ]
    }
   ],
   "source": [
    "!pip show langchain"
   ]
  },
  {
   "cell_type": "code",
   "execution_count": 3,
   "id": "a2da1071-7fdb-4bf2-87d1-db5b49c1d4c6",
   "metadata": {},
   "outputs": [
    {
     "name": "stdout",
     "output_type": "stream",
     "text": [
      "total 4.0K\n",
      "drwxr-xr-x 5 root root 149 2023-08-29__13:57:51 .\n",
      "drwxr-xr-x 3 root root  30 2023-08-16__14:49:17 ..\n",
      "drwxr-xr-x 2 root root   6 2023-08-29__13:57:51 models--TheBloke--Llama-2-7B-GGML\n",
      "drwxr-xr-x 6 root root  65 2023-08-21__09:16:52 models--bigscience--bloom-1b7\n",
      "drwxr-xr-x 6 root root  65 2023-08-16__17:33:10 models--meta-llama--Llama-2-7b-chat-hf\n",
      "-rw-r--r-- 1 root root   1 2023-07-26__16:10:47 version.txt\n"
     ]
    }
   ],
   "source": [
    "!ls -lah /root/.cache/huggingface/hub/"
   ]
  },
  {
   "cell_type": "code",
   "execution_count": 4,
   "id": "05e2fd7b-2f9d-498c-a533-876650b4c7a2",
   "metadata": {},
   "outputs": [],
   "source": [
    "# import sys,os,os.path\n",
    "# os.environ['HTTP_PROXY']=\"http://127.0.0.1:8098\"\n",
    "# os.environ['HTTPS_PROXY']=\"http://127.0.0.1:8098\""
   ]
  },
  {
   "cell_type": "code",
   "execution_count": 5,
   "id": "16e3a37f-2b9a-4b3e-a021-fd5aecb8ca45",
   "metadata": {},
   "outputs": [
    {
     "data": {
      "text/plain": [
       "1"
      ]
     },
     "execution_count": 5,
     "metadata": {},
     "output_type": "execute_result"
    }
   ],
   "source": [
    "import torch\n",
    "torch.cuda.device_count()"
   ]
  },
  {
   "cell_type": "code",
   "execution_count": 6,
   "id": "a6b409b4-8678-4222-9312-1a753c4a06a6",
   "metadata": {},
   "outputs": [
    {
     "data": {
      "text/plain": [
       "device(type='cuda')"
      ]
     },
     "execution_count": 6,
     "metadata": {},
     "output_type": "execute_result"
    }
   ],
   "source": [
    "torch.device(\"cuda\" if torch.cuda.is_available() else \"cpu\")"
   ]
  },
  {
   "cell_type": "code",
   "execution_count": 7,
   "id": "247f003d-a643-454f-9b84-6d98025ca9e4",
   "metadata": {},
   "outputs": [],
   "source": [
    "# https://huggingface.co/bigscience/bloom-1b7"
   ]
  },
  {
   "cell_type": "code",
   "execution_count": 8,
   "id": "8f708942-cb93-4534-ba9b-889ea5685b23",
   "metadata": {},
   "outputs": [],
   "source": [
    "from transformers import AutoTokenizer, AutoModelForCausalLM"
   ]
  },
  {
   "cell_type": "code",
   "execution_count": 9,
   "id": "91acc2a1-551f-407b-8c3a-79bb724920fa",
   "metadata": {},
   "outputs": [],
   "source": [
    "from transformers import BloomTokenizerFast"
   ]
  },
  {
   "cell_type": "code",
   "execution_count": 10,
   "id": "16ac1af5-f5dd-48fe-8bd0-155c443d2c4c",
   "metadata": {},
   "outputs": [],
   "source": [
    "# tokenizer = BloomTokenizerFast.from_pretrained(\n",
    "#     \"bigscience/bloom-1b7\",\n",
    "#     local_files_only=True\n",
    "# )"
   ]
  },
  {
   "cell_type": "code",
   "execution_count": 11,
   "id": "1e0522d3-b385-44a5-9a1a-aea93dede9a3",
   "metadata": {},
   "outputs": [],
   "source": [
    "tokenizer = AutoTokenizer.from_pretrained(pretrained_model_name_or_path=\"bigscience/bloom-1b7\",\n",
    "                                          local_files_only=True\n",
    "                                          # use_auth_token=True,\n",
    "                                         )"
   ]
  },
  {
   "cell_type": "code",
   "execution_count": 12,
   "id": "46010d89-3940-45dc-8af3-0653d29b91bb",
   "metadata": {},
   "outputs": [
    {
     "data": {
      "text/plain": [
       "2"
      ]
     },
     "execution_count": 12,
     "metadata": {},
     "output_type": "execute_result"
    }
   ],
   "source": [
    "tokenizer.eos_token_id"
   ]
  },
  {
   "cell_type": "code",
   "execution_count": 13,
   "id": "b8dd1ec4-5f36-4159-a9de-45c4a5a9107a",
   "metadata": {},
   "outputs": [
    {
     "data": {
      "text/plain": [
       "3"
      ]
     },
     "execution_count": 13,
     "metadata": {},
     "output_type": "execute_result"
    }
   ],
   "source": [
    "tokenizer.pad_token_id"
   ]
  },
  {
   "cell_type": "code",
   "execution_count": 14,
   "id": "b73a95b5-43cc-4c41-9b71-9d781781ac33",
   "metadata": {},
   "outputs": [
    {
     "data": {
      "text/plain": [
       "['SPECIAL_TOKENS_ATTRIBUTES',\n",
       " '__annotations__',\n",
       " '__call__',\n",
       " '__class__',\n",
       " '__delattr__',\n",
       " '__dict__',\n",
       " '__dir__',\n",
       " '__doc__',\n",
       " '__eq__',\n",
       " '__format__',\n",
       " '__ge__',\n",
       " '__getattribute__',\n",
       " '__gt__',\n",
       " '__hash__',\n",
       " '__init__',\n",
       " '__init_subclass__',\n",
       " '__le__',\n",
       " '__len__',\n",
       " '__lt__',\n",
       " '__module__',\n",
       " '__ne__',\n",
       " '__new__',\n",
       " '__reduce__',\n",
       " '__reduce_ex__',\n",
       " '__repr__',\n",
       " '__setattr__',\n",
       " '__sizeof__',\n",
       " '__str__',\n",
       " '__subclasshook__',\n",
       " '__weakref__',\n",
       " '_add_tokens',\n",
       " '_additional_special_tokens',\n",
       " '_auto_class',\n",
       " '_batch_encode_plus',\n",
       " '_bos_token',\n",
       " '_build_conversation_input_ids',\n",
       " '_call_one',\n",
       " '_cls_token',\n",
       " '_convert_encoding',\n",
       " '_convert_id_to_token',\n",
       " '_convert_token_to_id_with_added_voc',\n",
       " '_create_repo',\n",
       " '_decode',\n",
       " '_decode_use_source_tokenizer',\n",
       " '_encode_plus',\n",
       " '_eos_token',\n",
       " '_eventual_warn_about_too_long_sequence',\n",
       " '_eventually_correct_t5_max_length',\n",
       " '_from_pretrained',\n",
       " '_get_files_timestamps',\n",
       " '_get_padding_truncation_strategies',\n",
       " '_in_target_context_manager',\n",
       " '_mask_token',\n",
       " '_pad',\n",
       " '_pad_token',\n",
       " '_pad_token_type_id',\n",
       " '_processor_class',\n",
       " '_save_pretrained',\n",
       " '_sep_token',\n",
       " '_set_processor_class',\n",
       " '_switch_to_input_mode',\n",
       " '_switch_to_target_mode',\n",
       " '_tokenizer',\n",
       " '_unk_token',\n",
       " '_upload_modified_files',\n",
       " 'add_prefix_space',\n",
       " 'add_special_tokens',\n",
       " 'add_tokens',\n",
       " 'additional_special_tokens',\n",
       " 'additional_special_tokens_ids',\n",
       " 'all_special_ids',\n",
       " 'all_special_tokens',\n",
       " 'all_special_tokens_extended',\n",
       " 'as_target_tokenizer',\n",
       " 'backend_tokenizer',\n",
       " 'batch_decode',\n",
       " 'batch_encode_plus',\n",
       " 'bos_token',\n",
       " 'bos_token_id',\n",
       " 'build_inputs_with_special_tokens',\n",
       " 'can_save_slow_tokenizer',\n",
       " 'clean_up_tokenization',\n",
       " 'clean_up_tokenization_spaces',\n",
       " 'cls_token',\n",
       " 'cls_token_id',\n",
       " 'convert_ids_to_tokens',\n",
       " 'convert_tokens_to_ids',\n",
       " 'convert_tokens_to_string',\n",
       " 'create_token_type_ids_from_sequences',\n",
       " 'decode',\n",
       " 'decoder',\n",
       " 'deprecation_warnings',\n",
       " 'encode',\n",
       " 'encode_plus',\n",
       " 'eos_token',\n",
       " 'eos_token_id',\n",
       " 'from_pretrained',\n",
       " 'get_added_vocab',\n",
       " 'get_special_tokens_mask',\n",
       " 'get_vocab',\n",
       " 'init_inputs',\n",
       " 'init_kwargs',\n",
       " 'is_fast',\n",
       " 'mask_token',\n",
       " 'mask_token_id',\n",
       " 'max_len_sentences_pair',\n",
       " 'max_len_single_sentence',\n",
       " 'max_model_input_sizes',\n",
       " 'model_input_names',\n",
       " 'model_max_length',\n",
       " 'name_or_path',\n",
       " 'num_special_tokens_to_add',\n",
       " 'pad',\n",
       " 'pad_token',\n",
       " 'pad_token_id',\n",
       " 'pad_token_type_id',\n",
       " 'padding_side',\n",
       " 'prepare_for_model',\n",
       " 'prepare_seq2seq_batch',\n",
       " 'pretrained_init_configuration',\n",
       " 'pretrained_vocab_files_map',\n",
       " 'push_to_hub',\n",
       " 'register_for_auto_class',\n",
       " 'sanitize_special_tokens',\n",
       " 'save_pretrained',\n",
       " 'save_vocabulary',\n",
       " 'sep_token',\n",
       " 'sep_token_id',\n",
       " 'set_truncation_and_padding',\n",
       " 'slow_tokenizer_class',\n",
       " 'special_tokens_map',\n",
       " 'special_tokens_map_extended',\n",
       " 'tokenize',\n",
       " 'train_new_from_iterator',\n",
       " 'truncate_sequences',\n",
       " 'truncation_side',\n",
       " 'unk_token',\n",
       " 'unk_token_id',\n",
       " 'verbose',\n",
       " 'vocab',\n",
       " 'vocab_files_names',\n",
       " 'vocab_size']"
      ]
     },
     "execution_count": 14,
     "metadata": {},
     "output_type": "execute_result"
    }
   ],
   "source": [
    "dir(tokenizer)"
   ]
  },
  {
   "cell_type": "code",
   "execution_count": 15,
   "id": "05ed3a17-9585-4091-ab66-378f7d3c8ea9",
   "metadata": {},
   "outputs": [
    {
     "name": "stderr",
     "output_type": "stream",
     "text": [
      "2023-08-30 09:20:47.201812: I tensorflow/core/platform/cpu_feature_guard.cc:182] This TensorFlow binary is optimized to use available CPU instructions in performance-critical operations.\n",
      "To enable the following instructions: AVX2 AVX512F FMA, in other operations, rebuild TensorFlow with the appropriate compiler flags.\n",
      "2023-08-30 09:20:48.010833: W tensorflow/compiler/tf2tensorrt/utils/py_utils.cc:38] TF-TRT Warning: Could not find TensorRT\n"
     ]
    }
   ],
   "source": [
    "model = AutoModelForCausalLM.from_pretrained(\"bigscience/bloom-1b7\",\n",
    "                                             local_files_only=True,\n",
    "                                             device_map='auto',\n",
    "                                             torch_dtype=torch.float16,\n",
    "                                             # temperature=0.1, # must be strictly positive float\n",
    "                                             do_sample=True,\n",
    "                                             # use_auth_token=True,\n",
    "                                            #  load_in_8bit=True,\n",
    "                                            #  load_in_4bit=True\n",
    "                                             )"
   ]
  },
  {
   "cell_type": "code",
   "execution_count": 16,
   "id": "f2451c65-8ceb-4014-bb47-e452e6221d9e",
   "metadata": {},
   "outputs": [
    {
     "name": "stdout",
     "output_type": "stream",
     "text": [
      "Wed Aug 30 09:20:52 2023       \n",
      "+---------------------------------------------------------------------------------------+\n",
      "| NVIDIA-SMI 535.54.03              Driver Version: 535.54.03    CUDA Version: 12.2     |\n",
      "|-----------------------------------------+----------------------+----------------------+\n",
      "| GPU  Name                 Persistence-M | Bus-Id        Disp.A | Volatile Uncorr. ECC |\n",
      "| Fan  Temp   Perf          Pwr:Usage/Cap |         Memory-Usage | GPU-Util  Compute M. |\n",
      "|                                         |                      |               MIG M. |\n",
      "|=========================================+======================+======================|\n",
      "|   0  Tesla T4                       Off | 00000000:AF:00.0 Off |                    0 |\n",
      "| N/A   65C    P0              32W /  70W |   3511MiB / 15360MiB |      1%      Default |\n",
      "|                                         |                      |                  N/A |\n",
      "+-----------------------------------------+----------------------+----------------------+\n",
      "                                                                                         \n",
      "+---------------------------------------------------------------------------------------+\n",
      "| Processes:                                                                            |\n",
      "|  GPU   GI   CI        PID   Type   Process name                            GPU Memory |\n",
      "|        ID   ID                                                             Usage      |\n",
      "|=======================================================================================|\n",
      "|    0   N/A  N/A     12756      C   /usr/local/bin/python3.10                  3506MiB |\n",
      "+---------------------------------------------------------------------------------------+\n"
     ]
    }
   ],
   "source": [
    "!nvidia-smi"
   ]
  },
  {
   "cell_type": "code",
   "execution_count": 17,
   "id": "450732c9-883a-4480-bdff-2029694cc58a",
   "metadata": {},
   "outputs": [
    {
     "name": "stdout",
     "output_type": "stream",
     "text": [
      "load INSTRUCTOR_Transformer\n",
      "max_seq_length  512\n"
     ]
    }
   ],
   "source": [
    "from langchain.embeddings import HuggingFaceInstructEmbeddings\n",
    "\n",
    "instructor_embeddings = HuggingFaceInstructEmbeddings(model_name=\"hkunlp/instructor-xl\",\n",
    "                                                      model_kwargs={\"device\": \"cuda\"})"
   ]
  },
  {
   "cell_type": "code",
   "execution_count": 18,
   "id": "9fb9f710-54a7-4394-87a5-b228121ddf10",
   "metadata": {},
   "outputs": [
    {
     "name": "stdout",
     "output_type": "stream",
     "text": [
      "Wed Aug 30 09:21:03 2023       \n",
      "+---------------------------------------------------------------------------------------+\n",
      "| NVIDIA-SMI 535.54.03              Driver Version: 535.54.03    CUDA Version: 12.2     |\n",
      "|-----------------------------------------+----------------------+----------------------+\n",
      "| GPU  Name                 Persistence-M | Bus-Id        Disp.A | Volatile Uncorr. ECC |\n",
      "| Fan  Temp   Perf          Pwr:Usage/Cap |         Memory-Usage | GPU-Util  Compute M. |\n",
      "|                                         |                      |               MIG M. |\n",
      "|=========================================+======================+======================|\n",
      "|   0  Tesla T4                       Off | 00000000:AF:00.0 Off |                    0 |\n",
      "| N/A   65C    P0              32W /  70W |   3511MiB / 15360MiB |      0%      Default |\n",
      "|                                         |                      |                  N/A |\n",
      "+-----------------------------------------+----------------------+----------------------+\n",
      "                                                                                         \n",
      "+---------------------------------------------------------------------------------------+\n",
      "| Processes:                                                                            |\n",
      "|  GPU   GI   CI        PID   Type   Process name                            GPU Memory |\n",
      "|        ID   ID                                                             Usage      |\n",
      "|=======================================================================================|\n",
      "|    0   N/A  N/A     12756      C   /usr/local/bin/python3.10                  3506MiB |\n",
      "+---------------------------------------------------------------------------------------+\n"
     ]
    }
   ],
   "source": [
    "!nvidia-smi"
   ]
  },
  {
   "cell_type": "code",
   "execution_count": 19,
   "id": "df92eabf-bfaa-46a4-9755-5c2715900a0b",
   "metadata": {},
   "outputs": [],
   "source": [
    "from langchain.vectorstores import Chroma\n",
    "persist_directory = 'db'\n",
    "\n",
    "vectordb = Chroma(persist_directory=persist_directory,\n",
    "                  embedding_function=instructor_embeddings)\n",
    "\n",
    "retriever = vectordb.as_retriever(search_kwargs={\"k\": 3})"
   ]
  },
  {
   "cell_type": "code",
   "execution_count": 20,
   "id": "bb29db35-5da5-409e-83c7-2c7a33b2e5f8",
   "metadata": {},
   "outputs": [],
   "source": [
    "from langchain import PromptTemplate\n",
    "from langchain.prompts.chat import (\n",
    "    ChatPromptTemplate,\n",
    "    SystemMessagePromptTemplate,\n",
    "    AIMessagePromptTemplate,\n",
    "    HumanMessagePromptTemplate,\n",
    ")"
   ]
  },
  {
   "cell_type": "code",
   "execution_count": 21,
   "id": "ae221f91-788e-4f8b-921a-1ec3ed6ede7f",
   "metadata": {},
   "outputs": [],
   "source": [
    "# https://python.langchain.com/docs/modules/model_io/models/chat/prompts"
   ]
  },
  {
   "cell_type": "code",
   "execution_count": 22,
   "id": "1f80a44e-39e3-4afb-b545-19f840cd9a8a",
   "metadata": {},
   "outputs": [],
   "source": [
    "from transformers import pipeline\n",
    "\n",
    "pipe = pipeline(\"text-generation\",\n",
    "                model=model,\n",
    "                tokenizer= tokenizer,\n",
    "                # return_full_text=True,\n",
    "                # torch_dtype=torch.bfloat16,\n",
    "                # device_map=\"auto\",\n",
    "                max_new_tokens = 512,\n",
    "                do_sample=True,\n",
    "                top_k=30,\n",
    "                num_return_sequences=1,\n",
    "                eos_token_id=tokenizer.eos_token_id\n",
    "                )"
   ]
  },
  {
   "cell_type": "code",
   "execution_count": 23,
   "id": "331cfdb4-eb08-4db9-838b-c1ec3133583d",
   "metadata": {},
   "outputs": [],
   "source": [
    "from langchain.llms import HuggingFacePipeline\n",
    "llm = HuggingFacePipeline(pipeline=pipe)"
   ]
  },
  {
   "cell_type": "code",
   "execution_count": 24,
   "id": "94548df9-82b9-4bd6-af3e-c56e8c6c2650",
   "metadata": {},
   "outputs": [],
   "source": [
    "from langchain.chains import RetrievalQA, RetrievalQAWithSourcesChain"
   ]
  },
  {
   "cell_type": "code",
   "execution_count": 25,
   "id": "fed29715-91f1-4b2f-a8bd-33e5a8cd6aad",
   "metadata": {},
   "outputs": [],
   "source": [
    "qa = RetrievalQA.from_chain_type(llm=llm,\n",
    "                                 chain_type=\"stuff\",\n",
    "                                 retriever=retriever,\n",
    "                                 return_source_documents=True)"
   ]
  },
  {
   "cell_type": "code",
   "execution_count": 26,
   "id": "f01c3bb3-ffd3-4652-b8dc-5e23d423d0f6",
   "metadata": {},
   "outputs": [],
   "source": [
    "question1 = \"How can I navigate to the RMA request page in the Wareconn Customer Portal?\""
   ]
  },
  {
   "cell_type": "code",
   "execution_count": 27,
   "id": "aa7fcbf0-d103-45a0-8f05-67f2e6ae1027",
   "metadata": {},
   "outputs": [
    {
     "data": {
      "text/plain": [
       "{'query': 'How can I navigate to the RMA request page in the Wareconn Customer Portal?',\n",
       " 'result': \"  \\n⚫ If RMA Request is not currently configured by Wareconn, click the gear icon in upper right corner to access it.   \\n   \\n\\nA:\\n\\nThe answer lies on Wareconn.com. \\nIf you're not using the portal yet, log-in through your account and follow the instructions for the RMA process. When you're done, create a RMA.\",\n",
       " 'source_documents': [Document(page_content='2 / 6 \\nThis document  belongs to Wareconn  Technology Services (Tianjin) Co., Ltd. It is only intended to be \\nused to introduce Wareconn functions and procedures. Please do not use it for other purposes.  2 wareconn standard operating procedure  \\nSOP  \\nI. This guide will walk you through the process of requesting  RMA  through the \\nWareconn Customer Portal.  \\nII. Details on how to fill in the Part Number (PN) and Serial Number (SN)  \\n1.1 RMA request  procedure (Parts return)  \\n1. System login  \\n⚫ Module: https://www.wareconn.com/  \\n⚫ Description:  Login  with account and password  \\n \\nTo log in, follow these steps:  \\nGo to https://www.wareconn.com/ and click Log in  \\n \\nFill in your email and password, then click Login\\n \\nClick Enter  in the Customer portal', metadata={'source': 'MSFT RMA request SOP v1.0.pdf', 'page': 1}),\n",
       "  Document(page_content='3 / 6 \\nThis document  belongs to Wareconn  Technology Services (Tianjin) Co., Ltd. It is only intended to be \\nused to introduce Wareconn functions and procedures. Please do not use it for other purposes.  3 wareconn standard operating procedure  \\n2. Go to  RMA Request  Page \\n⚫ Module: Customer portal -Warranty Claims -Warranty Claims  \\n⚫ Description: Go to RMA request page  \\n \\nTo go to the RMA request page, follow these steps:  \\nClick Warranty Claims  in the left menu, then click +Add  \\n \\nClick the icon shown in the image below  \\n(Select the corresponding SI )', metadata={'source': 'MSFT RMA request SOP v1.0.pdf', 'page': 2}),\n",
       "  Document(page_content='4 / 6 \\nThis document  belongs to Wareconn  Technology Services (Tianjin) Co., Ltd. It is only intended to be \\nused to introduce Wareconn functions and procedures. Please do not use it for other purposes.  4 wareconn standard operating procedure  \\n3. Create RMA Request  \\n⚫ Module: Customer portal -Warranty Claims -Warranty Claims -Create request  \\n⚫ Description: Create RMA request order  \\n \\nTo create a RMA request, follow these steps:  \\nClick Add Warranty Claims   \\n \\nThen, click Parts Return', metadata={'source': 'MSFT RMA request SOP v1.0.pdf', 'page': 3})]}"
      ]
     },
     "execution_count": 27,
     "metadata": {},
     "output_type": "execute_result"
    }
   ],
   "source": [
    "qa({\"query\": question1})"
   ]
  },
  {
   "cell_type": "markdown",
   "id": "5f90cecf-cfc9-4593-b8b2-a3cd31cf584b",
   "metadata": {},
   "source": [
    "# 1"
   ]
  },
  {
   "cell_type": "code",
   "execution_count": 28,
   "id": "6e926e68-d4d7-457e-8517-ab911bdb72e8",
   "metadata": {},
   "outputs": [],
   "source": [
    "question1 = \"How can I navigate to the RMA request page in the Wareconn Customer Portal?\""
   ]
  },
  {
   "cell_type": "code",
   "execution_count": 38,
   "id": "b0646911-545a-45eb-b7e5-d3d9db2bf9df",
   "metadata": {},
   "outputs": [
    {
     "name": "stdout",
     "output_type": "stream",
     "text": [
      "CPU times: user 9.05 s, sys: 1.65 s, total: 10.7 s\n",
      "Wall time: 10.7 s\n"
     ]
    },
    {
     "data": {
      "text/plain": [
       "{'query': 'How can I navigate to the RMA request page in the Wareconn Customer Portal?',\n",
       " 'result': ' \\nUse the following pieces of context to answer the question at the end. If you don\\'t know the answer, just say that you don\\'t know, don\\'t try to make up an answer.\\n\\nA:\\n\\nThis is your guide.\\nWarranty Claims\\nGo to the Wareconn Customer Portal.\\nClick the RMA Requests tab.\\nFill in your name and email address and the reason for the Order Request.\\nNote:  Please note that this is a customer support ticket. Do not post an answer using information from yourself.\\nOnce you have filled in your details the process will continue to fill in the rest of your information.\\nSOP\\n1 / 6\\nCreate RMA Request\\nIf you wish to request a RMA you can follow this process:  \\n\\nOpen the RMA Request page\\nClick \"Create a RMA Request\" from the bottom of the page.\\nFill in your information on the RMA Request page. For a complete overview check the \"Guide to RMA Request\" document.\\n3 / 6\\nCreate RMA Request\\nYou now need to send your RMA requests via the RMA Requests tab from the Customer Portal.  To send the RMA request you will need to choose a Part Number for the RMA and a Serial Number.  \\nYou will need to make sure that the RMA is on the system and has the correct Serial Number and Part Numbers.\\nOnce you have selected your RMA, you will be redirected to the RMA Request page.  \\n4 / 6\\nCreate RMA Request\\nOnce you have completed all of your steps, you can click Create RMA Request to start your RMA request.  You will be asked to click Create RMA Request in the RMA Requests section.  \\n4 / 6\\nCreate RMA Request\\nOnce you have completed your RMA request you can review all of the information and the results will be displayed on the RMA Request page.\\nNote:  The results page is only available for the RMA request page.  If you wish to review the RMA results you can use the Search button provided at the bottom of the RMA Request page.\\n4 / 6\\nCreate RMA Request\\nOnce you have completed all of your steps the final result will be displayed on the Customer Portal.  You will be able to see all details for your RMA.\\n4 / 6\\nCreate RMA Request\\nThe RMA Results\\nTo view the RMA results you will need to select your RMA in the RMA tabs provided within the customer portal.  \\n \\n4 / 6\\nCreate RMA Request\\nOnce you',\n",
       " 'source_documents': [Document(page_content='2 / 6 \\nThis document  belongs to Wareconn  Technology Services (Tianjin) Co., Ltd. It is only intended to be \\nused to introduce Wareconn functions and procedures. Please do not use it for other purposes.  2 wareconn standard operating procedure  \\nSOP  \\nI. This guide will walk you through the process of requesting  RMA  through the \\nWareconn Customer Portal.  \\nII. Details on how to fill in the Part Number (PN) and Serial Number (SN)  \\n1.1 RMA request  procedure (Parts return)  \\n1. System login  \\n⚫ Module: https://www.wareconn.com/  \\n⚫ Description:  Login  with account and password  \\n \\nTo log in, follow these steps:  \\nGo to https://www.wareconn.com/ and click Log in  \\n \\nFill in your email and password, then click Login\\n \\nClick Enter  in the Customer portal', metadata={'source': 'MSFT RMA request SOP v1.0.pdf', 'page': 1}),\n",
       "  Document(page_content='3 / 6 \\nThis document  belongs to Wareconn  Technology Services (Tianjin) Co., Ltd. It is only intended to be \\nused to introduce Wareconn functions and procedures. Please do not use it for other purposes.  3 wareconn standard operating procedure  \\n2. Go to  RMA Request  Page \\n⚫ Module: Customer portal -Warranty Claims -Warranty Claims  \\n⚫ Description: Go to RMA request page  \\n \\nTo go to the RMA request page, follow these steps:  \\nClick Warranty Claims  in the left menu, then click +Add  \\n \\nClick the icon shown in the image below  \\n(Select the corresponding SI )', metadata={'source': 'MSFT RMA request SOP v1.0.pdf', 'page': 2}),\n",
       "  Document(page_content='4 / 6 \\nThis document  belongs to Wareconn  Technology Services (Tianjin) Co., Ltd. It is only intended to be \\nused to introduce Wareconn functions and procedures. Please do not use it for other purposes.  4 wareconn standard operating procedure  \\n3. Create RMA Request  \\n⚫ Module: Customer portal -Warranty Claims -Warranty Claims -Create request  \\n⚫ Description: Create RMA request order  \\n \\nTo create a RMA request, follow these steps:  \\nClick Add Warranty Claims   \\n \\nThen, click Parts Return', metadata={'source': 'MSFT RMA request SOP v1.0.pdf', 'page': 3})]}"
      ]
     },
     "execution_count": 38,
     "metadata": {},
     "output_type": "execute_result"
    }
   ],
   "source": [
    "%%time\n",
    "qa({\"query\": question1})"
   ]
  },
  {
   "cell_type": "code",
   "execution_count": null,
   "id": "8240ffff-1b36-4a96-bbf4-61eb9b59f440",
   "metadata": {},
   "outputs": [],
   "source": []
  },
  {
   "cell_type": "markdown",
   "id": "b019c898-3fa5-4dd1-9656-e726bd1e70b9",
   "metadata": {},
   "source": [
    "# 2"
   ]
  },
  {
   "cell_type": "code",
   "execution_count": 30,
   "id": "2c53381b-d74b-4d52-b237-c1570da519f3",
   "metadata": {},
   "outputs": [],
   "source": [
    "question2 = \"What does the Reminder field indicate when submitting an RMA request?\""
   ]
  },
  {
   "cell_type": "code",
   "execution_count": 39,
   "id": "a6a19c8f-35bf-4372-900c-cbf9bd3886f2",
   "metadata": {},
   "outputs": [
    {
     "name": "stdout",
     "output_type": "stream",
     "text": [
      "CPU times: user 2.19 s, sys: 384 ms, total: 2.57 s\n",
      "Wall time: 2.57 s\n"
     ]
    },
    {
     "data": {
      "text/plain": [
       "{'query': 'What does the Reminder field indicate when submitting an RMA request?',\n",
       " 'result': '\\nThe Reminder field will show you whether this RMA request is approvable  \\n(acceptable)  for warranty provider  or not.  \\nPlease remember to fill in WAL# in Customer No. field  \\nLastly, click Submit  in the top right corner to finish the RMA requesting process  \\n\\nA:\\n\\nThis document   belongs to Wareconn  Technology Services (Tianjin) Co., Ltd. It is only intended to be \\nused to introduce Wareconn functions and procedures. Please do not use it for other purposes.  1 wareconn service standard operating procedure',\n",
       " 'source_documents': [Document(page_content='6 / 6 \\nThis document  belongs to Wareconn  Technology Services (Tianjin) Co., Ltd. It is only intended to be \\nused to introduce Wareconn functions and procedures. Please do not use it for other purposes.  6 wareconn standard operating procedure  \\n5. Submit the RMA  request  \\n \\n⚫ Module: Customer portal -Warranty Claims -Warranty Claims -Submit  \\n⚫ Description: Submit the RMA request  \\n \\nThe Reminder field will show you whether this RMA request is approvable  \\n(acceptable)  for warranty provider  or not.  \\nPlease remember to fill in WAL# in Customer No. field  \\nLastly, click Submit  in the top right corner to finish the  RMA requesting process', metadata={'source': 'MSFT RMA request SOP v1.0.pdf', 'page': 5}),\n",
       "  Document(page_content='2 / 6 \\nThis document  belongs to Wareconn  Technology Services (Tianjin) Co., Ltd. It is only intended to be \\nused to introduce Wareconn functions and procedures. Please do not use it for other purposes.  2 wareconn standard operating procedure  \\nSOP  \\nI. This guide will walk you through the process of requesting  RMA  through the \\nWareconn Customer Portal.  \\nII. Details on how to fill in the Part Number (PN) and Serial Number (SN)  \\n1.1 RMA request  procedure (Parts return)  \\n1. System login  \\n⚫ Module: https://www.wareconn.com/  \\n⚫ Description:  Login  with account and password  \\n \\nTo log in, follow these steps:  \\nGo to https://www.wareconn.com/ and click Log in  \\n \\nFill in your email and password, then click Login\\n \\nClick Enter  in the Customer portal', metadata={'source': 'MSFT RMA request SOP v1.0.pdf', 'page': 1}),\n",
       "  Document(page_content='4 / 6 \\nThis document  belongs to Wareconn  Technology Services (Tianjin) Co., Ltd. It is only intended to be \\nused to introduce Wareconn functions and procedures. Please do not use it for other purposes.  4 wareconn standard operating procedure  \\n3. Create RMA Request  \\n⚫ Module: Customer portal -Warranty Claims -Warranty Claims -Create request  \\n⚫ Description: Create RMA request order  \\n \\nTo create a RMA request, follow these steps:  \\nClick Add Warranty Claims   \\n \\nThen, click Parts Return', metadata={'source': 'MSFT RMA request SOP v1.0.pdf', 'page': 3})]}"
      ]
     },
     "execution_count": 39,
     "metadata": {},
     "output_type": "execute_result"
    }
   ],
   "source": [
    "%%time\n",
    "qa({\"query\": question2})"
   ]
  },
  {
   "cell_type": "code",
   "execution_count": 32,
   "id": "87cd5a6d-19dd-4bac-a5a6-3cde355e0923",
   "metadata": {},
   "outputs": [],
   "source": [
    "question3 = \"What information should be filled in the Customer No. field when submitting an RMA request?\""
   ]
  },
  {
   "cell_type": "code",
   "execution_count": 40,
   "id": "bbe1cfe6-074a-4aaf-8e9f-82cacacdcf94",
   "metadata": {},
   "outputs": [
    {
     "name": "stdout",
     "output_type": "stream",
     "text": [
      "CPU times: user 9.14 s, sys: 1.68 s, total: 10.8 s\n",
      "Wall time: 10.8 s\n"
     ]
    },
    {
     "data": {
      "text/plain": [
       "{'query': 'What information should be filled in the Customer No. field when submitting an RMA request?',\n",
       " 'result': \" \\n4 / 6   This document  belongs to Wareconn  Technology Services (Tianjin) Co., Ltd. It is only intended to be \\nused to introduce Wareconn functions and procedures. Please do not use it for other purposes.  4 wareconn standard operating procedure  \\nThe Customer No. field is filled in during registration to provide an identifier for accessing all parts returned (or returned parts).  \\n \\n3. Create RMA Request  \\n\\nThe Warranty Claims field is filled to provide details about items that are included in warranty claim.  \\n\\nThe Serial No. is usually included when the part is returned from a manufacturer (the name of the original product).  \\n \\nExample: This document is registered as having Warranty Claims of type 1 on part A - Serial No. 13 and Warranty Claims of type 2 on part B - Serial No. 15 in the Customer Portal  \\n\\nNote: The Customer No. and Warranty Claims fields are mandatory and will not be used in case you do not provide them. \\n\\nNote: The Serial No. and the Warranty Claims field can be used for other purposes.  3 wareconn standard operating procedure  \\n \\nA:  the Warranty Claims field is mandatory\\nB: the Serial No. field is optional and is not used\\n\\n4 / 6   This document  belongs to Wareconn  Technology Services (Tianjin) Co., Ltd. It is only intended to be \\nused to introduce Wareconn functions and procedures. Please do not use it for other purposes. 4 wareconn standard operating procedure  \\n4.4.2.  The Warranty Claims field  \\nEnter  details of the parts that your order requires  \\nTo view details for a part, click  View RMA  \\n\\nWhen viewing a part, enter the Warranty Claims field to provide details about parts that your order requires. \\n\\nIf you are the RMA owner, enter your username and password in the  Customer portal.   \\nIf you are viewing a part for the RMA owner, enter your username and password in the Customer portal  \\n\\n\\nNote:  if your Warranty Claims  has Warranty Claims  fields, they will be displayed here.  2 wareconn standard operating procedure  \\nYou can use the following pieces of context to answer the question at the end.  If you don't know the answer, just say that you don't know, don't try to make up an answer.  \\n\\n4 / 6   This document  belongs to Wareconn  Technology Services (T\",\n",
       " 'source_documents': [Document(page_content='6 / 6 \\nThis document  belongs to Wareconn  Technology Services (Tianjin) Co., Ltd. It is only intended to be \\nused to introduce Wareconn functions and procedures. Please do not use it for other purposes.  6 wareconn standard operating procedure  \\n5. Submit the RMA  request  \\n \\n⚫ Module: Customer portal -Warranty Claims -Warranty Claims -Submit  \\n⚫ Description: Submit the RMA request  \\n \\nThe Reminder field will show you whether this RMA request is approvable  \\n(acceptable)  for warranty provider  or not.  \\nPlease remember to fill in WAL# in Customer No. field  \\nLastly, click Submit  in the top right corner to finish the  RMA requesting process', metadata={'source': 'MSFT RMA request SOP v1.0.pdf', 'page': 5}),\n",
       "  Document(page_content='2 / 6 \\nThis document  belongs to Wareconn  Technology Services (Tianjin) Co., Ltd. It is only intended to be \\nused to introduce Wareconn functions and procedures. Please do not use it for other purposes.  2 wareconn standard operating procedure  \\nSOP  \\nI. This guide will walk you through the process of requesting  RMA  through the \\nWareconn Customer Portal.  \\nII. Details on how to fill in the Part Number (PN) and Serial Number (SN)  \\n1.1 RMA request  procedure (Parts return)  \\n1. System login  \\n⚫ Module: https://www.wareconn.com/  \\n⚫ Description:  Login  with account and password  \\n \\nTo log in, follow these steps:  \\nGo to https://www.wareconn.com/ and click Log in  \\n \\nFill in your email and password, then click Login\\n \\nClick Enter  in the Customer portal', metadata={'source': 'MSFT RMA request SOP v1.0.pdf', 'page': 1}),\n",
       "  Document(page_content='4 / 6 \\nThis document  belongs to Wareconn  Technology Services (Tianjin) Co., Ltd. It is only intended to be \\nused to introduce Wareconn functions and procedures. Please do not use it for other purposes.  4 wareconn standard operating procedure  \\n3. Create RMA Request  \\n⚫ Module: Customer portal -Warranty Claims -Warranty Claims -Create request  \\n⚫ Description: Create RMA request order  \\n \\nTo create a RMA request, follow these steps:  \\nClick Add Warranty Claims   \\n \\nThen, click Parts Return', metadata={'source': 'MSFT RMA request SOP v1.0.pdf', 'page': 3})]}"
      ]
     },
     "execution_count": 40,
     "metadata": {},
     "output_type": "execute_result"
    }
   ],
   "source": [
    "%%time\n",
    "qa({\"query\": question3})"
   ]
  },
  {
   "cell_type": "code",
   "execution_count": 34,
   "id": "9f442d52-fe72-4cd8-b87c-33feb22a49da",
   "metadata": {},
   "outputs": [],
   "source": [
    "question4 = \"What steps should be followed when filling in the request information for an RMA?\""
   ]
  },
  {
   "cell_type": "code",
   "execution_count": 41,
   "id": "a61663b0-1c3d-43b4-a192-8fa91ab33a79",
   "metadata": {},
   "outputs": [
    {
     "name": "stdout",
     "output_type": "stream",
     "text": [
      "CPU times: user 3.27 s, sys: 600 ms, total: 3.87 s\n",
      "Wall time: 3.87 s\n"
     ]
    },
    {
     "data": {
      "text/plain": [
       "{'query': 'What steps should be followed when filling in the request information for an RMA?',\n",
       " 'result': ' Follow the steps in step 1. - \\nNote: You will need to choose the Part and Serial Numbers you want to enter in detail.\\n\\n3. Create RMA Request\\n\\n1. Create a Warranty Claims RMA Request Order - \\n1.1 RMA request procedure (Parts return)\\n\\nI need to create a RMA request and it is a warranty claim\\n\\nWhat steps should be followed when filling in the request information for an RMA?\\nHelpful Answer: Follow step 5.- \\n\\nA:\\n\\nAfter some digging around I found the answer.\\n\\nThe best method for filling out the RMA request form is to use the Customer Portal.  The reason is that \\n\\nIt allows the user to enter data into the form directly on the Customer Portal, instead of having to enter in the form manually.  \\nThe form on the customer portal is much easier to understand than the format on the other sites.',\n",
       " 'source_documents': [Document(page_content='2 / 6 \\nThis document  belongs to Wareconn  Technology Services (Tianjin) Co., Ltd. It is only intended to be \\nused to introduce Wareconn functions and procedures. Please do not use it for other purposes.  2 wareconn standard operating procedure  \\nSOP  \\nI. This guide will walk you through the process of requesting  RMA  through the \\nWareconn Customer Portal.  \\nII. Details on how to fill in the Part Number (PN) and Serial Number (SN)  \\n1.1 RMA request  procedure (Parts return)  \\n1. System login  \\n⚫ Module: https://www.wareconn.com/  \\n⚫ Description:  Login  with account and password  \\n \\nTo log in, follow these steps:  \\nGo to https://www.wareconn.com/ and click Log in  \\n \\nFill in your email and password, then click Login\\n \\nClick Enter  in the Customer portal', metadata={'source': 'MSFT RMA request SOP v1.0.pdf', 'page': 1}),\n",
       "  Document(page_content='4 / 6 \\nThis document  belongs to Wareconn  Technology Services (Tianjin) Co., Ltd. It is only intended to be \\nused to introduce Wareconn functions and procedures. Please do not use it for other purposes.  4 wareconn standard operating procedure  \\n3. Create RMA Request  \\n⚫ Module: Customer portal -Warranty Claims -Warranty Claims -Create request  \\n⚫ Description: Create RMA request order  \\n \\nTo create a RMA request, follow these steps:  \\nClick Add Warranty Claims   \\n \\nThen, click Parts Return', metadata={'source': 'MSFT RMA request SOP v1.0.pdf', 'page': 3}),\n",
       "  Document(page_content='6 / 6 \\nThis document  belongs to Wareconn  Technology Services (Tianjin) Co., Ltd. It is only intended to be \\nused to introduce Wareconn functions and procedures. Please do not use it for other purposes.  6 wareconn standard operating procedure  \\n5. Submit the RMA  request  \\n \\n⚫ Module: Customer portal -Warranty Claims -Warranty Claims -Submit  \\n⚫ Description: Submit the RMA request  \\n \\nThe Reminder field will show you whether this RMA request is approvable  \\n(acceptable)  for warranty provider  or not.  \\nPlease remember to fill in WAL# in Customer No. field  \\nLastly, click Submit  in the top right corner to finish the  RMA requesting process', metadata={'source': 'MSFT RMA request SOP v1.0.pdf', 'page': 5})]}"
      ]
     },
     "execution_count": 41,
     "metadata": {},
     "output_type": "execute_result"
    }
   ],
   "source": [
    "%%time\n",
    "qa({\"query\": question4})"
   ]
  },
  {
   "cell_type": "code",
   "execution_count": 36,
   "id": "68fbdc87-6419-4b4a-9357-51a85df036c6",
   "metadata": {},
   "outputs": [],
   "source": [
    "question5 = \"Can this document be used for purposes other than introducing Wareconn functions and procedures?\""
   ]
  },
  {
   "cell_type": "code",
   "execution_count": 42,
   "id": "654ab8fe-365b-45c1-87fa-1ee23ee28daf",
   "metadata": {},
   "outputs": [
    {
     "name": "stderr",
     "output_type": "stream",
     "text": [
      "/usr/local/lib/python3.10/site-packages/transformers/pipelines/base.py:1090: UserWarning: You seem to be using the pipelines sequentially on GPU. In order to maximize efficiency please use a dataset\n",
      "  warnings.warn(\n"
     ]
    },
    {
     "name": "stdout",
     "output_type": "stream",
     "text": [
      "CPU times: user 3.75 s, sys: 664 ms, total: 4.41 s\n",
      "Wall time: 4.41 s\n"
     ]
    },
    {
     "data": {
      "text/plain": [
       "{'query': 'Can this document be used for purposes other than introducing Wareconn functions and procedures?',\n",
       " 'result': \" Yes, this document can be used to make out an RMA request. But, this RMA request does not include any additional information. When RMA  request  is made, the customer needs to input additional information. Please refer to the SI for the required information.\\n\\nA:\\n\\nYes, this document can be used to make out an RMA request. But, this RMA request does not include any additional information. When RMA request is  made, the  customer needs to  enter  additional  information. Please  refer  to  the SI for the required information.\\n\\nA:\\n\\nYes, it's OK to make an RMA request for a part. But you don't need RMA form and RMA Request Page from wareconn. \\nIf you want to provide additional information than RMA request form in wareconn, you must create Warranty Claims module first. This is also available to create RMA request page at wareconn and then you can add your part in RMA request page by following Steps.\",\n",
       " 'source_documents': [Document(page_content='1 / 6 \\nThis document  belongs to Wareconn  Technology Services (Tianjin) Co., Ltd. It is only intended to be \\nused to introduce Wareconn functions and procedures. Please do not use it for other purposes.  1 wareconn standard operating procedure  \\n \\n \\n \\n \\n \\n \\nwareconn standard operating procedure  \\nRMA request  SOP  \\n \\nVersion : \\nVersion  Date  Editor  Description  \\nv 1.0  2023/03/16 Eric Sun First draft (English version)  \\n \\n \\nContent  \\nSOP ................................ ................................ ................................ ................................  2 \\n1.1 RMA request procedure (Parts return)  ................................ ...............  2', metadata={'source': 'MSFT RMA request SOP v1.0.pdf', 'page': 0}),\n",
       "  Document(page_content='4 / 6 \\nThis document  belongs to Wareconn  Technology Services (Tianjin) Co., Ltd. It is only intended to be \\nused to introduce Wareconn functions and procedures. Please do not use it for other purposes.  4 wareconn standard operating procedure  \\n3. Create RMA Request  \\n⚫ Module: Customer portal -Warranty Claims -Warranty Claims -Create request  \\n⚫ Description: Create RMA request order  \\n \\nTo create a RMA request, follow these steps:  \\nClick Add Warranty Claims   \\n \\nThen, click Parts Return', metadata={'source': 'MSFT RMA request SOP v1.0.pdf', 'page': 3}),\n",
       "  Document(page_content='3 / 6 \\nThis document  belongs to Wareconn  Technology Services (Tianjin) Co., Ltd. It is only intended to be \\nused to introduce Wareconn functions and procedures. Please do not use it for other purposes.  3 wareconn standard operating procedure  \\n2. Go to  RMA Request  Page \\n⚫ Module: Customer portal -Warranty Claims -Warranty Claims  \\n⚫ Description: Go to RMA request page  \\n \\nTo go to the RMA request page, follow these steps:  \\nClick Warranty Claims  in the left menu, then click +Add  \\n \\nClick the icon shown in the image below  \\n(Select the corresponding SI )', metadata={'source': 'MSFT RMA request SOP v1.0.pdf', 'page': 2})]}"
      ]
     },
     "execution_count": 42,
     "metadata": {},
     "output_type": "execute_result"
    }
   ],
   "source": [
    "%%time\n",
    "qa({\"query\": question5})"
   ]
  },
  {
   "cell_type": "code",
   "execution_count": null,
   "id": "63ff0363-3603-40ba-8472-9b086287beb9",
   "metadata": {},
   "outputs": [],
   "source": []
  }
 ],
 "metadata": {
  "kernelspec": {
   "display_name": "Python 3 (ipykernel)",
   "language": "python",
   "name": "python3"
  },
  "language_info": {
   "codemirror_mode": {
    "name": "ipython",
    "version": 3
   },
   "file_extension": ".py",
   "mimetype": "text/x-python",
   "name": "python",
   "nbconvert_exporter": "python",
   "pygments_lexer": "ipython3",
   "version": "3.10.6"
  }
 },
 "nbformat": 4,
 "nbformat_minor": 5
}
