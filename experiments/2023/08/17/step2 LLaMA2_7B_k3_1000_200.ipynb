{
 "cells": [
  {
   "cell_type": "code",
   "execution_count": 1,
   "id": "2109dcfb-82b7-4376-b183-f36d31ffc737",
   "metadata": {},
   "outputs": [],
   "source": [
    "import torch\n",
    "import transformers\n",
    "from transformers import AutoTokenizer, AutoModelForCausalLM"
   ]
  },
  {
   "cell_type": "code",
   "execution_count": 2,
   "id": "39316bbd-5243-487b-8bc4-fab39c645d5a",
   "metadata": {},
   "outputs": [],
   "source": [
    "# from huggingface_hub import notebook_login\n",
    "\n",
    "# notebook_login()\n"
   ]
  },
  {
   "cell_type": "code",
   "execution_count": 3,
   "id": "cbe47b3c-25ad-4049-a7ac-52bb8aab4d1c",
   "metadata": {},
   "outputs": [
    {
     "name": "stdout",
     "output_type": "stream",
     "text": [
      "Thu Aug 17 10:16:49 2023       \n",
      "+---------------------------------------------------------------------------------------+\n",
      "| NVIDIA-SMI 535.54.03              Driver Version: 535.54.03    CUDA Version: 12.2     |\n",
      "|-----------------------------------------+----------------------+----------------------+\n",
      "| GPU  Name                 Persistence-M | Bus-Id        Disp.A | Volatile Uncorr. ECC |\n",
      "| Fan  Temp   Perf          Pwr:Usage/Cap |         Memory-Usage | GPU-Util  Compute M. |\n",
      "|                                         |                      |               MIG M. |\n",
      "|=========================================+======================+======================|\n",
      "|   0  Tesla T4                       Off | 00000000:AF:00.0 Off |                    0 |\n",
      "| N/A   67C    P0              32W /  70W |      2MiB / 15360MiB |      7%      Default |\n",
      "|                                         |                      |                  N/A |\n",
      "+-----------------------------------------+----------------------+----------------------+\n",
      "                                                                                         \n",
      "+---------------------------------------------------------------------------------------+\n",
      "| Processes:                                                                            |\n",
      "|  GPU   GI   CI        PID   Type   Process name                            GPU Memory |\n",
      "|        ID   ID                                                             Usage      |\n",
      "|=======================================================================================|\n",
      "|  No running processes found                                                           |\n",
      "+---------------------------------------------------------------------------------------+\n"
     ]
    }
   ],
   "source": [
    "\n",
    "!nvidia-smi"
   ]
  },
  {
   "cell_type": "code",
   "execution_count": 4,
   "id": "915f3efe-26ac-42b3-88f0-dffaab82c6c0",
   "metadata": {},
   "outputs": [],
   "source": [
    "PATH = \"/root/.cache/huggingface/hub/models--meta-llama--Llama-2-7b-chat-hf\"\n",
    "model_name = \"meta-llama/Llama-2-7b-chat-hf\"\n",
    "tokenizer = AutoTokenizer.from_pretrained(pretrained_model_name_or_path=model_name,\n",
    "                                          local_files_only=True\n",
    "                                          # use_auth_token=True,\n",
    "                                         )\n",
    "\n"
   ]
  },
  {
   "cell_type": "code",
   "execution_count": 5,
   "id": "90c4af92-0dae-4352-8d18-a0f00617babd",
   "metadata": {},
   "outputs": [
    {
     "name": "stderr",
     "output_type": "stream",
     "text": [
      "2023-08-17 10:16:54.783565: I tensorflow/core/platform/cpu_feature_guard.cc:182] This TensorFlow binary is optimized to use available CPU instructions in performance-critical operations.\n",
      "To enable the following instructions: AVX2 AVX512F FMA, in other operations, rebuild TensorFlow with the appropriate compiler flags.\n",
      "2023-08-17 10:16:55.626904: W tensorflow/compiler/tf2tensorrt/utils/py_utils.cc:38] TF-TRT Warning: Could not find TensorRT\n",
      "/usr/local/lib/python3.10/site-packages/transformers/generation/configuration_utils.py:362: UserWarning: `do_sample` is set to `False`. However, `temperature` is set to `0` -- this flag is only used in sample-based generation modes. You should set `do_sample=True` or unset `temperature`. This was detected when initializing the generation config instance, which means the corresponding file may hold incorrect parameterization and should be fixed.\n",
      "  warnings.warn(\n"
     ]
    },
    {
     "data": {
      "application/vnd.jupyter.widget-view+json": {
       "model_id": "78a050a647704032b24f663a2ce08110",
       "version_major": 2,
       "version_minor": 0
      },
      "text/plain": [
       "Loading checkpoint shards:   0%|          | 0/2 [00:00<?, ?it/s]"
      ]
     },
     "metadata": {},
     "output_type": "display_data"
    }
   ],
   "source": [
    "model = AutoModelForCausalLM.from_pretrained(\"meta-llama/Llama-2-7b-chat-hf\",\n",
    "                                             local_files_only=True,\n",
    "                                             device_map='auto',\n",
    "                                             torch_dtype=torch.float16,\n",
    "                                             temperature=0\n",
    "                                             # use_auth_token=True,\n",
    "                                            #  load_in_8bit=True,\n",
    "                                            #  load_in_4bit=True\n",
    "                                             )"
   ]
  },
  {
   "cell_type": "code",
   "execution_count": 6,
   "id": "78487cd9-096f-461c-a7fe-9f97f1db56ce",
   "metadata": {},
   "outputs": [
    {
     "name": "stdout",
     "output_type": "stream",
     "text": [
      "total 4.0K\n",
      "drwxr-xr-x 6 root root   65 2023-08-16__17:33:10 .\n",
      "drwxr-xr-x 3 root root   71 2023-08-16__17:33:10 ..\n",
      "drwxr-xr-x 2 root root 4.0K 2023-08-16__17:33:10 blobs\n",
      "drwxr-xr-x 3 root root   54 2023-08-16__15:24:26 .no_exist\n",
      "drwxr-xr-x 2 root root   18 2023-08-16__15:24:22 refs\n",
      "drwxr-xr-x 3 root root   54 2023-08-16__15:24:22 snapshots\n"
     ]
    }
   ],
   "source": [
    "!ls -lah /root/.cache/huggingface/hub/models--meta-llama--Llama-2-7b-chat-hf"
   ]
  },
  {
   "cell_type": "code",
   "execution_count": 7,
   "id": "d42c9c9f-89fa-466e-8c55-34a5dac00ec2",
   "metadata": {},
   "outputs": [],
   "source": [
    "# Use a pipeline for later\n",
    "from transformers import pipeline\n",
    "\n",
    "pipe = pipeline(\"text-generation\",\n",
    "                model=model,\n",
    "                tokenizer= tokenizer,\n",
    "                torch_dtype=torch.bfloat16,\n",
    "                device_map=\"auto\",\n",
    "                max_new_tokens = 512,\n",
    "                do_sample=True,\n",
    "                top_k=30,\n",
    "                num_return_sequences=1,\n",
    "                eos_token_id=tokenizer.eos_token_id\n",
    "                )"
   ]
  },
  {
   "cell_type": "code",
   "execution_count": 8,
   "id": "6d889335-13b6-41e3-8c12-01bc159e87fa",
   "metadata": {},
   "outputs": [
    {
     "name": "stdout",
     "output_type": "stream",
     "text": [
      "Thu Aug 17 10:17:06 2023       \n",
      "+---------------------------------------------------------------------------------------+\n",
      "| NVIDIA-SMI 535.54.03              Driver Version: 535.54.03    CUDA Version: 12.2     |\n",
      "|-----------------------------------------+----------------------+----------------------+\n",
      "| GPU  Name                 Persistence-M | Bus-Id        Disp.A | Volatile Uncorr. ECC |\n",
      "| Fan  Temp   Perf          Pwr:Usage/Cap |         Memory-Usage | GPU-Util  Compute M. |\n",
      "|                                         |                      |               MIG M. |\n",
      "|=========================================+======================+======================|\n",
      "|   0  Tesla T4                       Off | 00000000:AF:00.0 Off |                    0 |\n",
      "| N/A   65C    P0              32W /  70W |  13095MiB / 15360MiB |      0%      Default |\n",
      "|                                         |                      |                  N/A |\n",
      "+-----------------------------------------+----------------------+----------------------+\n",
      "                                                                                         \n",
      "+---------------------------------------------------------------------------------------+\n",
      "| Processes:                                                                            |\n",
      "|  GPU   GI   CI        PID   Type   Process name                            GPU Memory |\n",
      "|        ID   ID                                                             Usage      |\n",
      "|=======================================================================================|\n",
      "|    0   N/A  N/A     94573      C   /usr/local/bin/python3.10                 13090MiB |\n",
      "+---------------------------------------------------------------------------------------+\n"
     ]
    }
   ],
   "source": [
    "\n",
    "!nvidia-smi"
   ]
  },
  {
   "cell_type": "code",
   "execution_count": 9,
   "id": "3bd06fea-2180-4ff0-a00c-bcb6618d0ef4",
   "metadata": {},
   "outputs": [],
   "source": [
    "import json\n",
    "import textwrap\n",
    "\n",
    "B_INST, E_INST = \"[INST]\", \"[/INST]\"\n",
    "B_SYS, E_SYS = \"<>\\n\", \"\\n<>\\n\\n\"\n",
    "DEFAULT_SYSTEM_PROMPT = \"\"\"\\\n",
    "You are a helpful, respectful and honest assistant. Always answer as helpfully as possible, while being safe. Your answers should not include any harmful, unethical, racist, sexist, toxic, dangerous, or illegal content. Please ensure that your responses are socially unbiased and positive in nature.\n",
    "\n",
    "If a question does not make any sense, or is not factually coherent, explain why instead of answering something not correct. If you don't know the answer to a question, please don't share false information.\"\"\"\n",
    "\n",
    "\n",
    "\n",
    "def get_prompt(instruction, new_system_prompt=DEFAULT_SYSTEM_PROMPT ):\n",
    "    SYSTEM_PROMPT = B_SYS + new_system_prompt + E_SYS\n",
    "    prompt_template =  B_INST + SYSTEM_PROMPT + instruction + E_INST\n",
    "    return prompt_template\n",
    "\n",
    "def cut_off_text(text, prompt):\n",
    "    cutoff_phrase = prompt\n",
    "    index = text.find(cutoff_phrase)\n",
    "    if index != -1:\n",
    "        return text[:index]\n",
    "    else:\n",
    "        return text\n",
    "\n",
    "def remove_substring(string, substring):\n",
    "    return string.replace(substring, \"\")\n",
    "\n",
    "\n",
    "\n",
    "def generate(text):\n",
    "    prompt = get_prompt(text)\n",
    "    with torch.autocast('cuda', dtype=torch.bfloat16):\n",
    "        inputs = tokenizer(prompt, return_tensors=\"pt\").to('cuda')\n",
    "        outputs = model.generate(**inputs,\n",
    "                                 max_new_tokens=512,\n",
    "                                 eos_token_id=tokenizer.eos_token_id,\n",
    "                                 pad_token_id=tokenizer.eos_token_id,\n",
    "                                 )\n",
    "        final_outputs = tokenizer.batch_decode(outputs, skip_special_tokens=True)[0]\n",
    "        final_outputs = cut_off_text(final_outputs, '')\n",
    "        final_outputs = remove_substring(final_outputs, prompt)\n",
    "\n",
    "    return final_outputs#, outputs\n",
    "\n",
    "def parse_text(text):\n",
    "        wrapped_text = textwrap.fill(text, width=100)\n",
    "        print(wrapped_text +'\\n\\n')\n",
    "        # return assistant_text"
   ]
  },
  {
   "cell_type": "code",
   "execution_count": null,
   "id": "c97f34c7-efb3-4c4b-b99d-8f8530784dbc",
   "metadata": {},
   "outputs": [],
   "source": []
  },
  {
   "cell_type": "code",
   "execution_count": 10,
   "id": "4241c73c-f6a7-4ca5-af0a-87af12965f98",
   "metadata": {},
   "outputs": [],
   "source": [
    "def llama_generate(prompt):\n",
    "    inputs = tokenizer(prompt, return_tensors=\"pt\").to('cuda')\n",
    "    outputs = model.generate(**inputs,\n",
    "                            max_new_tokens=512,\n",
    "                            eos_token_id=tokenizer.eos_token_id,\n",
    "                            pad_token_id=tokenizer.eos_token_id,\n",
    "                            )\n",
    "    final_outputs = tokenizer.batch_decode(outputs, skip_special_tokens=True)[0]\n",
    "    \n",
    "    # final_outputs = cut_off_text(final_outputs, '')\n",
    "    final_outputs = remove_substring(final_outputs, prompt)\n",
    "    return final_outputs"
   ]
  },
  {
   "cell_type": "code",
   "execution_count": 12,
   "id": "f907670a-4dfe-4565-8bdf-bba834519256",
   "metadata": {},
   "outputs": [],
   "source": [
    "# !set PYTORCH_CUDA_ALLOC_CONF=max_split_size_mb:6144"
   ]
  },
  {
   "cell_type": "code",
   "execution_count": 14,
   "id": "75115521-dc1d-48b5-9984-29d169b7eced",
   "metadata": {},
   "outputs": [],
   "source": [
    "# !set TOKENIZERS_PARALLELISM=true"
   ]
  },
  {
   "cell_type": "markdown",
   "id": "0a82db0f-41df-4892-b8ed-f64879d1bce7",
   "metadata": {},
   "source": [
    "## A1: To navigate to the RMA request page, click on \"Warranty Claims\" in the left menu, then click on the \"+Add\" button."
   ]
  },
  {
   "cell_type": "code",
   "execution_count": 15,
   "id": "a5cc0b8d-82da-4b25-93d2-d428f68a5a0d",
   "metadata": {},
   "outputs": [],
   "source": [
    "\n",
    "prompt1 = \"\"\"\n",
    "Use the following pieces of context to answer the question at the end. If you don't know the answer, just say that you don't know, don't try to make up an answer.\n",
    "\n",
    "  2 / 6\n",
    "This document  belongs to Wareconn  Technology Services (Tianjin) Co., Ltd. It is only intended to be\n",
    "used to introduce Wareconn functions and procedures. Please do not use it for other purposes.  2 wareconn standard operating procedure\n",
    "SOP\n",
    "I. This guide will walk you through the process of requesting  RMA  through the\n",
    "Wareconn Customer Portal.\n",
    "II. Details on how to fill in the Part Number (PN) and Serial Number (SN)\n",
    "1.1 RMA request  procedure (Parts return)\n",
    "1. System login\n",
    "⚫ Module: https://www.wareconn.com/\n",
    "⚫ Description:  Login  with account and password\n",
    "\n",
    "To log in, follow these steps:\n",
    "Go to https://www.wareconn.com/ and click Log in\n",
    "\n",
    "Fill in your email and password, then click Login\n",
    "\n",
    "Click Enter  in the Customer portal3 / 6\n",
    "This document  belongs to Wareconn  Technology Services (Tianjin) Co., Ltd. It is only intended to be\n",
    "used to introduce Wareconn functions and procedures. Please do not use it for other purposes.  3 wareconn standard operating procedure\n",
    "2. Go to  RMA Request  Page\n",
    "⚫ Module: Customer portal -Warranty Claims -Warranty Claims\n",
    "⚫ Description: Go to RMA request page\n",
    "\n",
    "To go to the RMA request page, follow these steps:\n",
    "Click Warranty Claims  in the left menu, then click +Add\n",
    "\n",
    "Click the icon shown in the image below\n",
    "(Select the corresponding SI )4 / 6\n",
    "This document  belongs to Wareconn  Technology Services (Tianjin) Co., Ltd. It is only intended to be\n",
    "used to introduce Wareconn functions and procedures. Please do not use it for other purposes.  4 wareconn standard operating procedure\n",
    "3. Create RMA Request\n",
    "⚫ Module: Customer portal -Warranty Claims -Warranty Claims -Create request\n",
    "⚫ Description: Create RMA request order\n",
    "\n",
    "To create a RMA request, follow these steps:\n",
    "Click Add Warranty Claims\n",
    "\n",
    "Then, click Parts Return\n",
    "\n",
    "  Question: How can I navigate to the RMA request page in the Wareconn Customer Portal?\n",
    "  Answer:\n",
    "\"\"\""
   ]
  },
  {
   "cell_type": "code",
   "execution_count": 18,
   "id": "455c78b7-df8e-49f7-b768-8d09b8c1d76a",
   "metadata": {},
   "outputs": [
    {
     "name": "stdout",
     "output_type": "stream",
     "text": [
      "CPU times: user 5.66 s, sys: 1.99 s, total: 7.65 s\n",
      "Wall time: 7.66 s\n"
     ]
    }
   ],
   "source": [
    "%%time\n",
    "out1 = llama_generate(prompt1)"
   ]
  },
  {
   "cell_type": "code",
   "execution_count": 19,
   "id": "da2f13d0-09ec-4dea-a89d-82763159ed21",
   "metadata": {},
   "outputs": [
    {
     "name": "stdout",
     "output_type": "stream",
     "text": [
      "You can navigate to the RMA request page in the Wareconn Customer Portal by following these steps:\n",
      "1. Go to the Customer portal and log in with your email and password.\n",
      "2. Click on the Warranty Claims module in the left menu.\n",
      "3. Click on the +Add button next to Warranty Claims.\n",
      "4. Select the corresponding SI (System Interface) and click Enter.\n",
      "5. Click on the Create Request button to open the RMA request page.\n"
     ]
    }
   ],
   "source": [
    "print(out1)"
   ]
  },
  {
   "cell_type": "markdown",
   "id": "614f7475-0303-43b5-8e18-0355d5a6b201",
   "metadata": {},
   "source": [
    "## Ans2: The Reminder field shows whether the RMA request is approvable (acceptable) for the warranty provider or not."
   ]
  },
  {
   "cell_type": "code",
   "execution_count": 20,
   "id": "5f4b715c-09b0-4655-88d4-1cdb6e3bd256",
   "metadata": {},
   "outputs": [],
   "source": [
    "prompt2 = \"\"\"\n",
    "Use the following pieces of context to answer the question at the end. If you don't know the answer, just say that you don't know, don't try to make up an answer.\n",
    "\n",
    "  6 / 6\n",
    "This document  belongs to Wareconn  Technology Services (Tianjin) Co., Ltd. It is only intended to be\n",
    "used to introduce Wareconn functions and procedures. Please do not use it for other purposes.  6 wareconn standard operating procedure\n",
    "5. Submit the RMA  request\n",
    "\n",
    "⚫ Module: Customer portal -Warranty Claims -Warranty Claims -Submit\n",
    "⚫ Description: Submit the RMA request\n",
    "\n",
    "The Reminder field will show you whether this RMA request is approvable\n",
    "(acceptable)  for warranty provider  or not.\n",
    "Please remember to fill in WAL# in Customer No. field\n",
    "Lastly, click Submit  in the top right corner to finish the  RMA requesting process2 / 6\n",
    "This document  belongs to Wareconn  Technology Services (Tianjin) Co., Ltd. It is only intended to be\n",
    "used to introduce Wareconn functions and procedures. Please do not use it for other purposes.  2 wareconn standard operating procedure\n",
    "SOP\n",
    "I. This guide will walk you through the process of requesting  RMA  through the\n",
    "Wareconn Customer Portal.\n",
    "II. Details on how to fill in the Part Number (PN) and Serial Number (SN)\n",
    "1.1 RMA request  procedure (Parts return)\n",
    "1. System login\n",
    "⚫ Module: https://www.wareconn.com/\n",
    "⚫ Description:  Login  with account and password\n",
    "\n",
    "To log in, follow these steps:\n",
    "Go to https://www.wareconn.com/ and click Log in\n",
    "\n",
    "Fill in your email and password, then click Login\n",
    "\n",
    "Click Enter  in the Customer portal4 / 6\n",
    "This document  belongs to Wareconn  Technology Services (Tianjin) Co., Ltd. It is only intended to be\n",
    "used to introduce Wareconn functions and procedures. Please do not use it for other purposes.  4 wareconn standard operating procedure\n",
    "3. Create RMA Request\n",
    "⚫ Module: Customer portal -Warranty Claims -Warranty Claims -Create request\n",
    "⚫ Description: Create RMA request order\n",
    "\n",
    "To create a RMA request, follow these steps:\n",
    "Click Add Warranty Claims\n",
    "\n",
    "Then, click Parts Return\n",
    "\n",
    "  Question: What does the Reminder field indicate when submitting an RMA request?\n",
    "  Answer:\n",
    "\"\"\""
   ]
  },
  {
   "cell_type": "code",
   "execution_count": 21,
   "id": "57cc77f8-a971-496a-85e8-4beae80345fa",
   "metadata": {},
   "outputs": [
    {
     "name": "stdout",
     "output_type": "stream",
     "text": [
      "The Reminder field indicates whether the RMA request is approvable (acceptable) for warranty provider or not.\n",
      "CPU times: user 1.56 s, sys: 607 ms, total: 2.17 s\n",
      "Wall time: 2.17 s\n"
     ]
    }
   ],
   "source": [
    "%%time\n",
    "print(llama_generate(prompt2))"
   ]
  },
  {
   "cell_type": "markdown",
   "id": "8f07e7fa-4ba2-4737-a2b7-47ddc780d039",
   "metadata": {},
   "source": [
    "Ans3: When submitting an RMA request, you should fill in the WAL# (Warranty Authorization Number) in the Customer No. field."
   ]
  },
  {
   "cell_type": "code",
   "execution_count": 22,
   "id": "5792356a-fa1f-44ea-989c-53ed86a0cd19",
   "metadata": {},
   "outputs": [],
   "source": [
    "prompt3 = \"\"\"\n",
    "Use the following pieces of context to answer the question at the end. If you don't know the answer, just say that you don't know, don't try to make up an answer.\n",
    "\n",
    "  6 / 6\n",
    "This document  belongs to Wareconn  Technology Services (Tianjin) Co., Ltd. It is only intended to be\n",
    "used to introduce Wareconn functions and procedures. Please do not use it for other purposes.  6 wareconn standard operating procedure\n",
    "5. Submit the RMA  request\n",
    "\n",
    "⚫ Module: Customer portal -Warranty Claims -Warranty Claims -Submit\n",
    "⚫ Description: Submit the RMA request\n",
    "\n",
    "The Reminder field will show you whether this RMA request is approvable\n",
    "(acceptable)  for warranty provider  or not.\n",
    "Please remember to fill in WAL# in Customer No. field\n",
    "Lastly, click Submit  in the top right corner to finish the  RMA requesting process2 / 6\n",
    "This document  belongs to Wareconn  Technology Services (Tianjin) Co., Ltd. It is only intended to be\n",
    "used to introduce Wareconn functions and procedures. Please do not use it for other purposes.  2 wareconn standard operating procedure\n",
    "SOP\n",
    "I. This guide will walk you through the process of requesting  RMA  through the\n",
    "Wareconn Customer Portal.\n",
    "II. Details on how to fill in the Part Number (PN) and Serial Number (SN)\n",
    "1.1 RMA request  procedure (Parts return)\n",
    "1. System login\n",
    "⚫ Module: https://www.wareconn.com/\n",
    "⚫ Description:  Login  with account and password\n",
    "\n",
    "To log in, follow these steps:\n",
    "Go to https://www.wareconn.com/ and click Log in\n",
    "\n",
    "Fill in your email and password, then click Login\n",
    "\n",
    "Click Enter  in the Customer portal4 / 6\n",
    "This document  belongs to Wareconn  Technology Services (Tianjin) Co., Ltd. It is only intended to be\n",
    "used to introduce Wareconn functions and procedures. Please do not use it for other purposes.  4 wareconn standard operating procedure\n",
    "3. Create RMA Request\n",
    "⚫ Module: Customer portal -Warranty Claims -Warranty Claims -Create request\n",
    "⚫ Description: Create RMA request order\n",
    "\n",
    "To create a RMA request, follow these steps:\n",
    "Click Add Warranty Claims\n",
    "\n",
    "Then, click Parts Return\n",
    "\n",
    "  Question: What information should be filled in the Customer No. field when submitting an RMA request?\n",
    "  Answer:\n",
    "\"\"\""
   ]
  },
  {
   "cell_type": "code",
   "execution_count": 28,
   "id": "0136a0e0-1e1d-4785-b517-2985e3e4cac8",
   "metadata": {},
   "outputs": [
    {
     "name": "stdout",
     "output_type": "stream",
     "text": [
      "The Customer No. field should be filled in with the WAL# (Warranty Approval Letter) provided by the warranty provider.\n",
      "CPU times: user 1.89 s, sys: 688 ms, total: 2.57 s\n",
      "Wall time: 2.58 s\n"
     ]
    }
   ],
   "source": [
    "%%time\n",
    "print(llama_generate(prompt3))"
   ]
  },
  {
   "cell_type": "markdown",
   "id": "e1a5a888-9815-4323-a3f7-f1916badbac2",
   "metadata": {},
   "source": [
    "## Ans4: To fill in the request information for an RMA, follow these steps:"
   ]
  },
  {
   "cell_type": "markdown",
   "id": "a1df7c0a-abd7-466c-b8a8-b59e6a18894a",
   "metadata": {},
   "source": [
    "- Fill in the Product SN (Serial Number), Product PN (Part Number), and defective reason.\n",
    "- Select the Rack PN (Part Number) by clicking on \"Please select Parts\" and choose the desired quantity.\n",
    "- Click on \"Confirm\" to proceed.\n",
    "- Optionally, fill in the Parts SN (Serial Number) for the failure part (not required).\n",
    "- Click on \"Save\" to save the information."
   ]
  },
  {
   "cell_type": "code",
   "execution_count": 29,
   "id": "1e9205a2-9661-481d-a556-2232ace1ebcf",
   "metadata": {},
   "outputs": [],
   "source": [
    "prompt4 = \"\"\"\n",
    "Use the following pieces of context to answer the question at the end. If you don't know the answer, just say that you don't know, don't try to make up an answer.\n",
    "\n",
    "  2 / 6\n",
    "This document  belongs to Wareconn  Technology Services (Tianjin) Co., Ltd. It is only intended to be\n",
    "used to introduce Wareconn functions and procedures. Please do not use it for other purposes.  2 wareconn standard operating procedure\n",
    "SOP\n",
    "I. This guide will walk you through the process of requesting  RMA  through the\n",
    "Wareconn Customer Portal.\n",
    "II. Details on how to fill in the Part Number (PN) and Serial Number (SN)\n",
    "1.1 RMA request  procedure (Parts return)\n",
    "1. System login\n",
    "⚫ Module: https://www.wareconn.com/\n",
    "⚫ Description:  Login  with account and password\n",
    "\n",
    "To log in, follow these steps:\n",
    "Go to https://www.wareconn.com/ and click Log in\n",
    "\n",
    "Fill in your email and password, then click Login\n",
    "\n",
    "Click Enter  in the Customer portal4 / 6\n",
    "This document  belongs to Wareconn  Technology Services (Tianjin) Co., Ltd. It is only intended to be\n",
    "used to introduce Wareconn functions and procedures. Please do not use it for other purposes.  4 wareconn standard operating procedure\n",
    "3. Create RMA Request\n",
    "⚫ Module: Customer portal -Warranty Claims -Warranty Claims -Create request\n",
    "⚫ Description: Create RMA request order\n",
    "\n",
    "To create a RMA request, follow these steps:\n",
    "Click Add Warranty Claims\n",
    "\n",
    "Then, click Parts Return6 / 6\n",
    "This document  belongs to Wareconn  Technology Services (Tianjin) Co., Ltd. It is only intended to be\n",
    "used to introduce Wareconn functions and procedures. Please do not use it for other purposes.  6 wareconn standard operating procedure\n",
    "5. Submit the RMA  request\n",
    "\n",
    "⚫ Module: Customer portal -Warranty Claims -Warranty Claims -Submit\n",
    "⚫ Description: Submit the RMA request\n",
    "\n",
    "The Reminder field will show you whether this RMA request is approvable\n",
    "(acceptable)  for warranty provider  or not.\n",
    "Please remember to fill in WAL# in Customer No. field\n",
    "Lastly, click Submit  in the top right corner to finish the  RMA requesting process\n",
    "\n",
    "  Question: What steps should be followed when filling in the request information for an RMA?\n",
    "  Answer:\n",
    "\"\"\""
   ]
  },
  {
   "cell_type": "code",
   "execution_count": 30,
   "id": "3221649b-a0bc-49db-b357-a4e0573afda8",
   "metadata": {},
   "outputs": [
    {
     "name": "stdout",
     "output_type": "stream",
     "text": [
      "I don't know.\n",
      "CPU times: user 657 ms, sys: 342 ms, total: 999 ms\n",
      "Wall time: 998 ms\n"
     ]
    }
   ],
   "source": [
    "%%time\n",
    "print(llama_generate(prompt4))"
   ]
  },
  {
   "cell_type": "markdown",
   "id": "b1a09024-fb45-422d-b110-ff6caa17f158",
   "metadata": {},
   "source": [
    "## Ans5: No, this document explicitly states that it should not be used for other purposes. Its sole intention is to introduce Wareconn functions and procedures."
   ]
  },
  {
   "cell_type": "code",
   "execution_count": 31,
   "id": "8fc0a52d-4873-4d4c-b049-82a22443bb03",
   "metadata": {},
   "outputs": [],
   "source": [
    "prompt5 = \"\"\"\n",
    "Use the following pieces of context to answer the question at the end. If you don't know the answer, just say that you don't know, don't try to make up an answer.\n",
    "\n",
    "  1 / 6\n",
    "This document  belongs to Wareconn  Technology Services (Tianjin) Co., Ltd. It is only intended to be\n",
    "used to introduce Wareconn functions and procedures. Please do not use it for other purposes.  1 wareconn standard operating procedure\n",
    "\n",
    "\n",
    "\n",
    "\n",
    "\n",
    "\n",
    "wareconn standard operating procedure\n",
    "RMA request  SOP\n",
    "\n",
    "Version :\n",
    "Version  Date  Editor  Description\n",
    "v 1.0  2023/03/16 Eric Sun First draft (English version)\n",
    "\n",
    "\n",
    "Content\n",
    "SOP ................................ ................................ ................................ ................................  2\n",
    "1.1 RMA request procedure (Parts return)  ................................ ...............  24 / 6\n",
    "This document  belongs to Wareconn  Technology Services (Tianjin) Co., Ltd. It is only intended to be\n",
    "used to introduce Wareconn functions and procedures. Please do not use it for other purposes.  4 wareconn standard operating procedure\n",
    "3. Create RMA Request\n",
    "⚫ Module: Customer portal -Warranty Claims -Warranty Claims -Create request\n",
    "⚫ Description: Create RMA request order\n",
    "\n",
    "To create a RMA request, follow these steps:\n",
    "Click Add Warranty Claims\n",
    "\n",
    "Then, click Parts Return3 / 6\n",
    "This document  belongs to Wareconn  Technology Services (Tianjin) Co., Ltd. It is only intended to be\n",
    "used to introduce Wareconn functions and procedures. Please do not use it for other purposes.  3 wareconn standard operating procedure\n",
    "2. Go to  RMA Request  Page\n",
    "⚫ Module: Customer portal -Warranty Claims -Warranty Claims\n",
    "⚫ Description: Go to RMA request page\n",
    "\n",
    "To go to the RMA request page, follow these steps:\n",
    "Click Warranty Claims  in the left menu, then click +Add\n",
    "\n",
    "Click the icon shown in the image below\n",
    "(Select the corresponding SI )\n",
    "\n",
    "  Question: Can this document be used for purposes other than introducing Wareconn functions and procedures?\n",
    "  Answer:\n",
    "\"\"\""
   ]
  },
  {
   "cell_type": "code",
   "execution_count": 32,
   "id": "d3ae4a11-1718-43cb-8e3f-3684b0292197",
   "metadata": {},
   "outputs": [
    {
     "name": "stdout",
     "output_type": "stream",
     "text": [
      "I don't know.\n",
      "CPU times: user 590 ms, sys: 291 ms, total: 881 ms\n",
      "Wall time: 880 ms\n"
     ]
    }
   ],
   "source": [
    "%%time\n",
    "print(llama_generate(prompt5))"
   ]
  },
  {
   "cell_type": "code",
   "execution_count": null,
   "id": "0198ddd0-8b57-4da9-98ba-97e4796462d0",
   "metadata": {},
   "outputs": [],
   "source": []
  }
 ],
 "metadata": {
  "kernelspec": {
   "display_name": "Python 3 (ipykernel)",
   "language": "python",
   "name": "python3"
  },
  "language_info": {
   "codemirror_mode": {
    "name": "ipython",
    "version": 3
   },
   "file_extension": ".py",
   "mimetype": "text/x-python",
   "name": "python",
   "nbconvert_exporter": "python",
   "pygments_lexer": "ipython3",
   "version": "3.10.6"
  }
 },
 "nbformat": 4,
 "nbformat_minor": 5
}
