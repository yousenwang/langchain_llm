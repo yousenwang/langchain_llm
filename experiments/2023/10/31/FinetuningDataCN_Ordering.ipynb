{
 "cells": [
  {
   "cell_type": "code",
   "execution_count": null,
   "id": "753265c2-7934-4611-9ea1-6e0c8b78cdd7",
   "metadata": {},
   "outputs": [],
   "source": [
    "# data = [\n",
    "#       {\n",
    "#             \"instruction\": \"Create an array of length 5 which contains all even numbers between 1 and 10.\",\n",
    "#             \"input\": \"\",\n",
    "#             \"output\": \"arr = [2, 4, 6, 8, 10]\"\n",
    "#       },\n",
    "# ]"
   ]
  },
  {
   "cell_type": "code",
   "execution_count": 1,
   "id": "949d06e6-6878-4a09-bf7c-896861e030ff",
   "metadata": {},
   "outputs": [],
   "source": [
    "data = [\n",
    "      {\n",
    "            \"question\": \"权益购买的功能用途是什么？\",\n",
    "            # \"role\": \"Service Centre\",\n",
    "            \"answer\": \"权益购买的功能用途是购买需要的平台版本，确定该账号所持权益，并进行付款和索取发票。这个功能可以让用户根据自己的需求选择不同的平台版本，以便更好地使用平台提供的服务。同时，用户可以在购买权益时进行付款和索取发票，方便管理账务和报销。\"\n",
    "      },\n",
    "      {\n",
    "            \"question\": \"权益购买的具体操作步骤是什么？\",\n",
    "            # \"role\": \"Service Centre\",\n",
    "            \"answer\": \"权益购买的具体操作步骤包括登录账号后，点击【平台版本】，进入权益购买界面，【+选择权益】可进行预购版本的选择，点击下一步或者购物车，进行订单的确认和提交。订单提交后重新登录。这些步骤可以让用户方便地选择需要的平台版本，并完成订单的提交。\"\n",
    "      },\n",
    "      {\n",
    "            \"question\": \"如何选择需要的平台版本？\",\n",
    "            # \"role\": \"Service Centre\",\n",
    "            \"answer\": \"在权益购买界面，用户可以进行预购版本的选择，点击【+选择权益】即可。用户可以根据自己的需求选择不同的平台版本，以便更好地使用平台提供的服务。\"\n",
    "      },\n",
    "      {\n",
    "            \"question\": \"如何确认订单并进行提交？\",\n",
    "            # \"role\": \"customer\",\n",
    "            \"answer\": \"在权益购买界面，用户可以点击下一步或者购物车，进行订单的确认和提交。用户需要仔细核对订单信息，确保订单信息无误后再进行提交。提交订单后，用户需要重新登录账号。\"\n",
    "      },\n",
    "      {\n",
    "            \"question\": \"是否可以索取发票？\",\n",
    "            # \"role\": \"customer\",\n",
    "            \"answer\": \"是的，权益购买功能可以进行付款和索取发票。用户可以在购买权益时进行付款和索取发票，方便管理账务和报销。用户需要填写发票抬头、类型、寄送地址等发票信息，并确认发。\"\n",
    "      },\n",
    "]"
   ]
  },
  {
   "cell_type": "code",
   "execution_count": 2,
   "id": "c055d055-6317-4cee-939a-5ac1663cc6b0",
   "metadata": {},
   "outputs": [],
   "source": [
    "import pandas as pd\n",
    "\n",
    "df = pd.DataFrame(data) "
   ]
  },
  {
   "cell_type": "code",
   "execution_count": 3,
   "id": "7bee8cd4-f527-4b91-9984-ddb739d1d9c1",
   "metadata": {},
   "outputs": [],
   "source": [
    "df.to_csv(\"./data/warreconn_data_cn_ordering.csv\", index=False)"
   ]
  },
  {
   "cell_type": "code",
   "execution_count": 4,
   "id": "7fba1eca-bd02-47ef-a878-94e7be343673",
   "metadata": {},
   "outputs": [
    {
     "data": {
      "text/html": [
       "<div>\n",
       "<style scoped>\n",
       "    .dataframe tbody tr th:only-of-type {\n",
       "        vertical-align: middle;\n",
       "    }\n",
       "\n",
       "    .dataframe tbody tr th {\n",
       "        vertical-align: top;\n",
       "    }\n",
       "\n",
       "    .dataframe thead th {\n",
       "        text-align: right;\n",
       "    }\n",
       "</style>\n",
       "<table border=\"1\" class=\"dataframe\">\n",
       "  <thead>\n",
       "    <tr style=\"text-align: right;\">\n",
       "      <th></th>\n",
       "      <th>question</th>\n",
       "      <th>answer</th>\n",
       "    </tr>\n",
       "  </thead>\n",
       "  <tbody>\n",
       "    <tr>\n",
       "      <th>0</th>\n",
       "      <td>权益购买的功能用途是什么？</td>\n",
       "      <td>权益购买的功能用途是购买需要的平台版本，确定该账号所持权益，并进行付款和索取发票。这个功能可...</td>\n",
       "    </tr>\n",
       "    <tr>\n",
       "      <th>1</th>\n",
       "      <td>权益购买的具体操作步骤是什么？</td>\n",
       "      <td>权益购买的具体操作步骤包括登录账号后，点击【平台版本】，进入权益购买界面，【+选择权益】可进...</td>\n",
       "    </tr>\n",
       "    <tr>\n",
       "      <th>2</th>\n",
       "      <td>如何选择需要的平台版本？</td>\n",
       "      <td>在权益购买界面，用户可以进行预购版本的选择，点击【+选择权益】即可。用户可以根据自己的需求选...</td>\n",
       "    </tr>\n",
       "    <tr>\n",
       "      <th>3</th>\n",
       "      <td>如何确认订单并进行提交？</td>\n",
       "      <td>在权益购买界面，用户可以点击下一步或者购物车，进行订单的确认和提交。用户需要仔细核对订单信息...</td>\n",
       "    </tr>\n",
       "    <tr>\n",
       "      <th>4</th>\n",
       "      <td>是否可以索取发票？</td>\n",
       "      <td>是的，权益购买功能可以进行付款和索取发票。用户可以在购买权益时进行付款和索取发票，方便管理账...</td>\n",
       "    </tr>\n",
       "  </tbody>\n",
       "</table>\n",
       "</div>"
      ],
      "text/plain": [
       "          question                                             answer\n",
       "0    权益购买的功能用途是什么？  权益购买的功能用途是购买需要的平台版本，确定该账号所持权益，并进行付款和索取发票。这个功能可...\n",
       "1  权益购买的具体操作步骤是什么？  权益购买的具体操作步骤包括登录账号后，点击【平台版本】，进入权益购买界面，【+选择权益】可进...\n",
       "2     如何选择需要的平台版本？  在权益购买界面，用户可以进行预购版本的选择，点击【+选择权益】即可。用户可以根据自己的需求选...\n",
       "3     如何确认订单并进行提交？  在权益购买界面，用户可以点击下一步或者购物车，进行订单的确认和提交。用户需要仔细核对订单信息...\n",
       "4        是否可以索取发票？  是的，权益购买功能可以进行付款和索取发票。用户可以在购买权益时进行付款和索取发票，方便管理账..."
      ]
     },
     "execution_count": 4,
     "metadata": {},
     "output_type": "execute_result"
    }
   ],
   "source": [
    "pd.read_csv(\"./data/warreconn_data_cn_ordering.csv\")"
   ]
  },
  {
   "cell_type": "code",
   "execution_count": 5,
   "id": "329bfa30-be6c-463e-b1ba-e2ed87c6cac1",
   "metadata": {},
   "outputs": [],
   "source": [
    "import json\n",
    "with open(\"./data/qa_dataset_cn_ordering.json\", \"w\") as f:\n",
    "    json.dump(data, f)"
   ]
  },
  {
   "cell_type": "code",
   "execution_count": 12,
   "id": "69a33e81-86e0-4151-8be2-1b2347bcf403",
   "metadata": {},
   "outputs": [
    {
     "name": "stdout",
     "output_type": "stream",
     "text": [
      "Mon Oct 30 16:53:54 2023       \n",
      "+---------------------------------------------------------------------------------------+\n",
      "| NVIDIA-SMI 535.104.05             Driver Version: 535.104.05   CUDA Version: 12.2     |\n",
      "|-----------------------------------------+----------------------+----------------------+\n",
      "| GPU  Name                 Persistence-M | Bus-Id        Disp.A | Volatile Uncorr. ECC |\n",
      "| Fan  Temp   Perf          Pwr:Usage/Cap |         Memory-Usage | GPU-Util  Compute M. |\n",
      "|                                         |                      |               MIG M. |\n",
      "|=========================================+======================+======================|\n",
      "|   0  NVIDIA A40                     Off | 00000000:AF:00.0 Off |                    0 |\n",
      "|  0%   63C    P0             286W / 300W |  25401MiB / 46068MiB |    100%      Default |\n",
      "|                                         |                      |                  N/A |\n",
      "+-----------------------------------------+----------------------+----------------------+\n",
      "                                                                                         \n",
      "+---------------------------------------------------------------------------------------+\n",
      "| Processes:                                                                            |\n",
      "|  GPU   GI   CI        PID   Type   Process name                            GPU Memory |\n",
      "|        ID   ID                                                             Usage      |\n",
      "|=======================================================================================|\n",
      "|    0   N/A  N/A      6946      C   /usr/local/bin/python3.10                  5912MiB |\n",
      "|    0   N/A  N/A     21224      C   /data/python/laby/llama.cpp/server         7538MiB |\n",
      "|    0   N/A  N/A     21227      C   /data/python/laby/llama.cpp/server        11866MiB |\n",
      "+---------------------------------------------------------------------------------------+\n"
     ]
    }
   ],
   "source": [
    "!nvidia-smi"
   ]
  },
  {
   "cell_type": "code",
   "execution_count": null,
   "id": "f5dbe02b-4554-4bf9-94a3-3cad0dd75983",
   "metadata": {},
   "outputs": [],
   "source": []
  }
 ],
 "metadata": {
  "kernelspec": {
   "display_name": "Python 3 (ipykernel)",
   "language": "python",
   "name": "python3"
  },
  "language_info": {
   "codemirror_mode": {
    "name": "ipython",
    "version": 3
   },
   "file_extension": ".py",
   "mimetype": "text/x-python",
   "name": "python",
   "nbconvert_exporter": "python",
   "pygments_lexer": "ipython3",
   "version": "3.10.6"
  }
 },
 "nbformat": 4,
 "nbformat_minor": 5
}
